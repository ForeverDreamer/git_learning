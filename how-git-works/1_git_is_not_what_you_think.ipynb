{
 "cells": [
  {
   "cell_type": "markdown",
   "metadata": {},
   "source": [
    "# 1 Git Is Not What You Think"
   ]
  },
  {
   "cell_type": "markdown",
   "metadata": {},
   "source": [
    "### 1.1 Meet SHA1"
   ]
  },
  {
   "cell_type": "code",
   "execution_count": 1,
   "metadata": {},
   "outputs": [
    {
     "name": "stdout",
     "output_type": "stream",
     "text": [
      "Apple Pie\n"
     ]
    }
   ],
   "source": [
    "!echo \"Apple Pie\""
   ]
  },
  {
   "cell_type": "code",
   "execution_count": 2,
   "metadata": {},
   "outputs": [
    {
     "name": "stdout",
     "output_type": "stream",
     "text": [
      "23991897e13e47ed0adb91a0082c31c82fe0cbe5\n"
     ]
    }
   ],
   "source": [
    "!echo \"Apple Pie\" | git hash-object --stdin"
   ]
  },
  {
   "cell_type": "code",
   "execution_count": 3,
   "metadata": {},
   "outputs": [
    {
     "name": "stdout",
     "output_type": "stream",
     "text": [
      "b39c4e63af9951b47f989a6bacc9a9974b70e9a8\n"
     ]
    }
   ],
   "source": [
    "!echo \"Apple Pie\\n\" | git hash-object --stdin"
   ]
  },
  {
   "cell_type": "markdown",
   "metadata": {},
   "source": [
    "### 1.2 Storing Things"
   ]
  },
  {
   "cell_type": "code",
   "execution_count": 4,
   "metadata": {},
   "outputs": [
    {
     "name": "stdout",
     "output_type": "stream",
     "text": [
      "Initialized empty Git repository in /Users/apple/Documents/how_git_works/.git/\n"
     ]
    }
   ],
   "source": [
    "!git init"
   ]
  },
  {
   "cell_type": "code",
   "execution_count": 5,
   "metadata": {},
   "outputs": [
    {
     "name": "stdout",
     "output_type": "stream",
     "text": [
      "\u001b[34m.\u001b[m\u001b[m                     \u001b[34m.git\u001b[m\u001b[m                  how_git_works_1.ipynb\n",
      "\u001b[34m..\u001b[m\u001b[m                    .gitignore\n",
      ".DS_Store             \u001b[34m.ipynb_checkpoints\u001b[m\u001b[m\n"
     ]
    }
   ],
   "source": [
    "!ls -a"
   ]
  },
  {
   "cell_type": "code",
   "execution_count": 6,
   "metadata": {},
   "outputs": [
    {
     "name": "stdout",
     "output_type": "stream",
     "text": [
      "\u001b[34minfo\u001b[m\u001b[m \u001b[34mpack\u001b[m\u001b[m\n"
     ]
    }
   ],
   "source": [
    "!ls .git/objects/"
   ]
  },
  {
   "cell_type": "code",
   "execution_count": 7,
   "metadata": {},
   "outputs": [
    {
     "name": "stdout",
     "output_type": "stream",
     "text": [
      "23991897e13e47ed0adb91a0082c31c82fe0cbe5\n"
     ]
    }
   ],
   "source": [
    "# write sha1 to git database\n",
    "!echo \"Apple Pie\" | git hash-object --stdin -w"
   ]
  },
  {
   "cell_type": "code",
   "execution_count": 8,
   "metadata": {},
   "outputs": [
    {
     "name": "stdout",
     "output_type": "stream",
     "text": [
      "\u001b[34m23\u001b[m\u001b[m   \u001b[34minfo\u001b[m\u001b[m \u001b[34mpack\u001b[m\u001b[m\n"
     ]
    }
   ],
   "source": [
    "!ls .git/objects/"
   ]
  },
  {
   "cell_type": "code",
   "execution_count": 9,
   "metadata": {},
   "outputs": [
    {
     "name": "stdout",
     "output_type": "stream",
     "text": [
      "991897e13e47ed0adb91a0082c31c82fe0cbe5\n"
     ]
    }
   ],
   "source": [
    "!ls .git/objects/23/"
   ]
  },
  {
   "cell_type": "code",
   "execution_count": 9,
   "metadata": {},
   "outputs": [
    {
     "name": "stdout",
     "output_type": "stream",
     "text": [
      "blob\n"
     ]
    }
   ],
   "source": [
    "# query type\n",
    "!git cat-file 23991897e13e47ed0adb91a0082c31c82fe0cbe5 -t"
   ]
  },
  {
   "cell_type": "code",
   "execution_count": 10,
   "metadata": {},
   "outputs": [
    {
     "name": "stdout",
     "output_type": "stream",
     "text": [
      "Apple Pie\n"
     ]
    }
   ],
   "source": [
    "# query data in pretty format\n",
    "!git cat-file 23991897e13e47ed0adb91a0082c31c82fe0cbe5 -p"
   ]
  },
  {
   "cell_type": "markdown",
   "metadata": {},
   "source": [
    "### 1.3 First Commit!"
   ]
  },
  {
   "cell_type": "code",
   "execution_count": 39,
   "metadata": {},
   "outputs": [
    {
     "name": "stdout",
     "output_type": "stream",
     "text": [
      "1_git_is_not_what_you_think.ipynb \u001b[34mrecipes\u001b[m\u001b[m\n",
      "menu.txt\n"
     ]
    }
   ],
   "source": [
    "!ls"
   ]
  },
  {
   "cell_type": "code",
   "execution_count": 40,
   "metadata": {},
   "outputs": [
    {
     "name": "stdout",
     "output_type": "stream",
     "text": [
      "Apple Pie\n"
     ]
    }
   ],
   "source": [
    "!cat menu.txt"
   ]
  },
  {
   "cell_type": "code",
   "execution_count": 41,
   "metadata": {},
   "outputs": [
    {
     "name": "stdout",
     "output_type": "stream",
     "text": [
      "README.txt    apple_pie.txt\n"
     ]
    }
   ],
   "source": [
    "!ls recipes/"
   ]
  },
  {
   "cell_type": "code",
   "execution_count": 42,
   "metadata": {},
   "outputs": [
    {
     "name": "stdout",
     "output_type": "stream",
     "text": [
      "Put your recipes in this directory, one recipe per file.\n"
     ]
    }
   ],
   "source": [
    "!cat recipes/README.txt"
   ]
  },
  {
   "cell_type": "code",
   "execution_count": 43,
   "metadata": {},
   "outputs": [
    {
     "name": "stdout",
     "output_type": "stream",
     "text": [
      "Apple Pie\n"
     ]
    }
   ],
   "source": [
    "!cat recipes/apple_pie.txt"
   ]
  },
  {
   "cell_type": "code",
   "execution_count": 44,
   "metadata": {},
   "outputs": [
    {
     "name": "stdout",
     "output_type": "stream",
     "text": [
      ".\n",
      "|____.DS_Store\n",
      "|____.gitignore\n",
      "|____recipes\n",
      "| |____apple_pie.txt\n",
      "| |____README.txt\n",
      "|____1_git_is_not_what_you_think.ipynb\n",
      "|____menu.txt\n"
     ]
    }
   ],
   "source": [
    "!find . -print | sed -e 's;[^/]*/;|____;g;s;____|; |;g'"
   ]
  },
  {
   "cell_type": "code",
   "execution_count": 45,
   "metadata": {},
   "outputs": [
    {
     "name": "stdout",
     "output_type": "stream",
     "text": [
      "Initialized empty Git repository in /Users/apple/Documents/cookbook/.git/\n"
     ]
    }
   ],
   "source": [
    "!git init"
   ]
  },
  {
   "cell_type": "code",
   "execution_count": 46,
   "metadata": {},
   "outputs": [
    {
     "name": "stdout",
     "output_type": "stream",
     "text": [
      "\u001b[34m.\u001b[m\u001b[m                                 .gitignore\n",
      "\u001b[34m..\u001b[m\u001b[m                                1_git_is_not_what_you_think.ipynb\n",
      ".DS_Store                         menu.txt\n",
      "\u001b[34m.git\u001b[m\u001b[m                              \u001b[34mrecipes\u001b[m\u001b[m\n"
     ]
    }
   ],
   "source": [
    "!ls -a"
   ]
  },
  {
   "cell_type": "code",
   "execution_count": 47,
   "metadata": {},
   "outputs": [
    {
     "name": "stdout",
     "output_type": "stream",
     "text": [
      "\u001b[34minfo\u001b[m\u001b[m \u001b[34mpack\u001b[m\u001b[m\n"
     ]
    }
   ],
   "source": [
    "!ls .git/objects/"
   ]
  },
  {
   "cell_type": "code",
   "execution_count": 48,
   "metadata": {},
   "outputs": [
    {
     "name": "stdout",
     "output_type": "stream",
     "text": [
      "On branch master\n",
      "\n",
      "No commits yet\n",
      "\n",
      "Untracked files:\n",
      "  (use \"git add <file>...\" to include in what will be committed)\n",
      "\n",
      "\t\u001b[31mmenu.txt\u001b[m\n",
      "\t\u001b[31mrecipes/\u001b[m\n",
      "\n",
      "nothing added to commit but untracked files present (use \"git add\" to track)\n"
     ]
    }
   ],
   "source": [
    "!git status"
   ]
  },
  {
   "cell_type": "code",
   "execution_count": 49,
   "metadata": {},
   "outputs": [],
   "source": [
    "!git add menu.txt"
   ]
  },
  {
   "cell_type": "code",
   "execution_count": 50,
   "metadata": {},
   "outputs": [
    {
     "name": "stdout",
     "output_type": "stream",
     "text": [
      "On branch master\n",
      "\n",
      "No commits yet\n",
      "\n",
      "Changes to be committed:\n",
      "  (use \"git rm --cached <file>...\" to unstage)\n",
      "\n",
      "\t\u001b[32mnew file:   menu.txt\u001b[m\n",
      "\n",
      "Untracked files:\n",
      "  (use \"git add <file>...\" to include in what will be committed)\n",
      "\n",
      "\t\u001b[31mrecipes/\u001b[m\n",
      "\n"
     ]
    }
   ],
   "source": [
    "!git status"
   ]
  },
  {
   "cell_type": "code",
   "execution_count": 51,
   "metadata": {},
   "outputs": [
    {
     "name": "stdout",
     "output_type": "stream",
     "text": [
      "On branch master\n",
      "\n",
      "No commits yet\n",
      "\n",
      "Changes to be committed:\n",
      "  (use \"git rm --cached <file>...\" to unstage)\n",
      "\n",
      "\t\u001b[32mnew file:   menu.txt\u001b[m\n",
      "\t\u001b[32mnew file:   recipes/README.txt\u001b[m\n",
      "\t\u001b[32mnew file:   recipes/apple_pie.txt\u001b[m\n",
      "\n"
     ]
    }
   ],
   "source": [
    "!git add recipes/\n",
    "!git status"
   ]
  },
  {
   "cell_type": "code",
   "execution_count": 52,
   "metadata": {},
   "outputs": [
    {
     "name": "stdout",
     "output_type": "stream",
     "text": [
      "[master (root-commit) 840d352] First commit!\n",
      " 3 files changed, 3 insertions(+)\n",
      " create mode 100644 menu.txt\n",
      " create mode 100644 recipes/README.txt\n",
      " create mode 100644 recipes/apple_pie.txt\n"
     ]
    }
   ],
   "source": [
    "!git commit -m \"First commit!\""
   ]
  },
  {
   "cell_type": "code",
   "execution_count": 53,
   "metadata": {},
   "outputs": [
    {
     "name": "stdout",
     "output_type": "stream",
     "text": [
      "On branch master\n",
      "nothing to commit, working tree clean\n"
     ]
    }
   ],
   "source": [
    "!git status"
   ]
  },
  {
   "cell_type": "code",
   "execution_count": 54,
   "metadata": {},
   "outputs": [
    {
     "name": "stdout",
     "output_type": "stream",
     "text": [
      "\u001b[33mcommit 840d35233a95f9a3bd3a079d846c396e88389507\u001b[m\u001b[33m (\u001b[m\u001b[1;36mHEAD -> \u001b[m\u001b[1;32mmaster\u001b[m\u001b[33m)\u001b[m\n",
      "Author: doer <499361328@qq.com>\n",
      "Date:   Fri Apr 26 18:09:24 2019 +0800\n",
      "\n",
      "    First commit!\n"
     ]
    }
   ],
   "source": [
    "!git log"
   ]
  },
  {
   "cell_type": "code",
   "execution_count": 55,
   "metadata": {},
   "outputs": [
    {
     "name": "stdout",
     "output_type": "stream",
     "text": [
      "\u001b[34m23\u001b[m\u001b[m   \u001b[34m36\u001b[m\u001b[m   \u001b[34m3e\u001b[m\u001b[m   \u001b[34m84\u001b[m\u001b[m   \u001b[34mbe\u001b[m\u001b[m   \u001b[34minfo\u001b[m\u001b[m \u001b[34mpack\u001b[m\u001b[m\n"
     ]
    }
   ],
   "source": [
    "!ls .git/objects/"
   ]
  },
  {
   "cell_type": "code",
   "execution_count": 56,
   "metadata": {},
   "outputs": [
    {
     "name": "stdout",
     "output_type": "stream",
     "text": [
      "tree be4d5bfce489a2591e7fed5c672f9e52cd695a43\n",
      "author doer <499361328@qq.com> 1556273364 +0800\n",
      "committer doer <499361328@qq.com> 1556273364 +0800\n",
      "\n",
      "First commit!\n"
     ]
    }
   ],
   "source": [
    "!git cat-file -p 840d35233a95f9a3bd3a079d846c396e88389507"
   ]
  },
  {
   "cell_type": "code",
   "execution_count": 57,
   "metadata": {},
   "outputs": [
    {
     "name": "stdout",
     "output_type": "stream",
     "text": [
      "100644 blob 23991897e13e47ed0adb91a0082c31c82fe0cbe5\tmenu.txt\n",
      "040000 tree 3ee76fde69b730530f1682f1f51789e89cf30500\trecipes\n"
     ]
    }
   ],
   "source": [
    "!git cat-file -p be4d5bfce489a2591e7fed5c672f9e52cd695a43"
   ]
  },
  {
   "cell_type": "code",
   "execution_count": 58,
   "metadata": {},
   "outputs": [
    {
     "name": "stdout",
     "output_type": "stream",
     "text": [
      "Apple Pie\n"
     ]
    }
   ],
   "source": [
    "!git cat-file -p 23991897e13e47ed0adb91a0082c31c82fe0cbe5"
   ]
  },
  {
   "cell_type": "code",
   "execution_count": 59,
   "metadata": {},
   "outputs": [
    {
     "name": "stdout",
     "output_type": "stream",
     "text": [
      "100644 blob 361af858632ee7d8d8f9c4022ccaf61fc8d4799c\tREADME.txt\n",
      "100644 blob 23991897e13e47ed0adb91a0082c31c82fe0cbe5\tapple_pie.txt\n"
     ]
    }
   ],
   "source": [
    "!git cat-file -p 3ee76fde69b730530f1682f1f51789e89cf30500"
   ]
  },
  {
   "cell_type": "code",
   "execution_count": 60,
   "metadata": {},
   "outputs": [
    {
     "name": "stdout",
     "output_type": "stream",
     "text": [
      "Put your recipes in this directory, one recipe per file.\n"
     ]
    }
   ],
   "source": [
    "!git cat-file -p 361af858632ee7d8d8f9c4022ccaf61fc8d4799c"
   ]
  },
  {
   "cell_type": "code",
   "execution_count": 61,
   "metadata": {},
   "outputs": [
    {
     "name": "stdout",
     "output_type": "stream",
     "text": [
      "Apple Pie\n"
     ]
    }
   ],
   "source": [
    "!git cat-file -p 23991897e13e47ed0adb91a0082c31c82fe0cbe5"
   ]
  },
  {
   "cell_type": "markdown",
   "metadata": {},
   "source": [
    "### 1.4 Versioning Made Easy"
   ]
  },
  {
   "cell_type": "code",
   "execution_count": 62,
   "metadata": {},
   "outputs": [],
   "source": [
    "!echo \"Cheesecake\" >> menu.txt"
   ]
  },
  {
   "cell_type": "code",
   "execution_count": 63,
   "metadata": {},
   "outputs": [
    {
     "name": "stdout",
     "output_type": "stream",
     "text": [
      "Apple Pie\n",
      "Cheesecake\n"
     ]
    }
   ],
   "source": [
    "!cat menu.txt"
   ]
  },
  {
   "cell_type": "code",
   "execution_count": 64,
   "metadata": {},
   "outputs": [
    {
     "name": "stdout",
     "output_type": "stream",
     "text": [
      "On branch master\n",
      "Changes not staged for commit:\n",
      "  (use \"git add <file>...\" to update what will be committed)\n",
      "  (use \"git checkout -- <file>...\" to discard changes in working directory)\n",
      "\n",
      "\t\u001b[31mmodified:   menu.txt\u001b[m\n",
      "\n",
      "no changes added to commit (use \"git add\" and/or \"git commit -a\")\n"
     ]
    }
   ],
   "source": [
    "!git status"
   ]
  },
  {
   "cell_type": "code",
   "execution_count": 65,
   "metadata": {},
   "outputs": [],
   "source": [
    "!git add menu.txt"
   ]
  },
  {
   "cell_type": "code",
   "execution_count": 66,
   "metadata": {},
   "outputs": [
    {
     "name": "stdout",
     "output_type": "stream",
     "text": [
      "On branch master\n",
      "Changes to be committed:\n",
      "  (use \"git reset HEAD <file>...\" to unstage)\n",
      "\n",
      "\t\u001b[32mmodified:   menu.txt\u001b[m\n",
      "\n"
     ]
    }
   ],
   "source": [
    "!git status"
   ]
  },
  {
   "cell_type": "code",
   "execution_count": 67,
   "metadata": {},
   "outputs": [
    {
     "name": "stdout",
     "output_type": "stream",
     "text": [
      "[master 723c4a1] Add cake\n",
      " 1 file changed, 1 insertion(+)\n"
     ]
    }
   ],
   "source": [
    "!git commit -m\"Add cake\""
   ]
  },
  {
   "cell_type": "code",
   "execution_count": 68,
   "metadata": {},
   "outputs": [
    {
     "name": "stdout",
     "output_type": "stream",
     "text": [
      "On branch master\n",
      "nothing to commit, working tree clean\n"
     ]
    }
   ],
   "source": [
    "!git status"
   ]
  },
  {
   "cell_type": "code",
   "execution_count": 69,
   "metadata": {},
   "outputs": [
    {
     "name": "stdout",
     "output_type": "stream",
     "text": [
      "\u001b[33mcommit 723c4a1444094d71d976ddd88748b5c56863a1a1\u001b[m\u001b[33m (\u001b[m\u001b[1;36mHEAD -> \u001b[m\u001b[1;32mmaster\u001b[m\u001b[33m)\u001b[m\n",
      "Author: doer <499361328@qq.com>\n",
      "Date:   Fri Apr 26 18:10:33 2019 +0800\n",
      "\n",
      "    Add cake\n",
      "\n",
      "\u001b[33mcommit 840d35233a95f9a3bd3a079d846c396e88389507\u001b[m\n",
      "Author: doer <499361328@qq.com>\n",
      "Date:   Fri Apr 26 18:09:24 2019 +0800\n",
      "\n",
      "    First commit!\n"
     ]
    }
   ],
   "source": [
    "!git log"
   ]
  },
  {
   "cell_type": "code",
   "execution_count": 72,
   "metadata": {},
   "outputs": [
    {
     "name": "stdout",
     "output_type": "stream",
     "text": [
      "\u001b[34m23\u001b[m\u001b[m   \u001b[34m36\u001b[m\u001b[m   \u001b[34m3e\u001b[m\u001b[m   \u001b[34m6e\u001b[m\u001b[m   \u001b[34m72\u001b[m\u001b[m   \u001b[34m84\u001b[m\u001b[m   \u001b[34mbe\u001b[m\u001b[m   \u001b[34mf1\u001b[m\u001b[m   \u001b[34minfo\u001b[m\u001b[m \u001b[34mpack\u001b[m\u001b[m\n"
     ]
    }
   ],
   "source": [
    "# 修改menu.txt之前：\n",
    "# 23   36   3e   84   be   info pack\n",
    "\n",
    "# 修改之后\n",
    "!ls .git/objects/"
   ]
  },
  {
   "cell_type": "code",
   "execution_count": 81,
   "metadata": {},
   "outputs": [
    {
     "name": "stdout",
     "output_type": "stream",
     "text": [
      "tree be4d5bfce489a2591e7fed5c672f9e52cd695a43\n",
      "author doer <499361328@qq.com> 1556273364 +0800\n",
      "committer doer <499361328@qq.com> 1556273364 +0800\n",
      "\n",
      "First commit!\n"
     ]
    }
   ],
   "source": [
    "# first commit\n",
    "!git cat-file -p 840d35233a95f9a3bd3a079d846c396e88389507"
   ]
  },
  {
   "cell_type": "code",
   "execution_count": 82,
   "metadata": {},
   "outputs": [
    {
     "name": "stdout",
     "output_type": "stream",
     "text": [
      "tree 6ee0cdeefafa85f8baea117d3181e873e634093d\n",
      "parent 840d35233a95f9a3bd3a079d846c396e88389507\n",
      "author doer <499361328@qq.com> 1556273433 +0800\n",
      "committer doer <499361328@qq.com> 1556273433 +0800\n",
      "\n",
      "Add cake\n"
     ]
    }
   ],
   "source": [
    "# second commit, sha1 of tree is changed\n",
    "!git cat-file -p 723c4a1444094d71d976ddd88748b5c56863a1a1"
   ]
  },
  {
   "cell_type": "code",
   "execution_count": 86,
   "metadata": {},
   "outputs": [
    {
     "name": "stdout",
     "output_type": "stream",
     "text": [
      "tree be4d5bfce489a2591e7fed5c672f9e52cd695a43\n",
      "author doer <499361328@qq.com> 1556273364 +0800\n",
      "committer doer <499361328@qq.com> 1556273364 +0800\n",
      "\n",
      "First commit!\n"
     ]
    }
   ],
   "source": [
    "# parent of current commit, i.e.(也就是) first commit\n",
    "!git cat-file -p 840d35233a95f9a3bd3a079d846c396e88389507"
   ]
  },
  {
   "cell_type": "code",
   "execution_count": 87,
   "metadata": {},
   "outputs": [
    {
     "name": "stdout",
     "output_type": "stream",
     "text": [
      "100644 blob f1fe985b46ca38f32d7bf4024a9218cb58be74f7\tmenu.txt\n",
      "040000 tree 3ee76fde69b730530f1682f1f51789e89cf30500\trecipes\n"
     ]
    }
   ],
   "source": [
    "# new root dir\n",
    "!git cat-file -p 6ee0cdeefafa85f8baea117d3181e873e634093d"
   ]
  },
  {
   "cell_type": "code",
   "execution_count": 89,
   "metadata": {},
   "outputs": [
    {
     "name": "stdout",
     "output_type": "stream",
     "text": [
      "Apple Pie\n",
      "Cheesecake\n"
     ]
    }
   ],
   "source": [
    "# new menu.txt,只要能唯一识别object,可以只取前面几位sha1字符串\n",
    "!git cat-file -p f1fe985b46"
   ]
  },
  {
   "cell_type": "code",
   "execution_count": 91,
   "metadata": {},
   "outputs": [
    {
     "name": "stdout",
     "output_type": "stream",
     "text": [
      "8 objects, 32 kilobytes\n"
     ]
    }
   ],
   "source": [
    "!git count-objects"
   ]
  },
  {
   "cell_type": "markdown",
   "metadata": {},
   "source": [
    "### 1.5 One More Thing: Annotated Tags"
   ]
  },
  {
   "cell_type": "code",
   "execution_count": 92,
   "metadata": {},
   "outputs": [],
   "source": [
    "!git tag -a mytag -m\"I love cheesecake\""
   ]
  },
  {
   "cell_type": "code",
   "execution_count": 94,
   "metadata": {},
   "outputs": [
    {
     "name": "stdout",
     "output_type": "stream",
     "text": [
      "mytag\n"
     ]
    }
   ],
   "source": [
    "!git tag"
   ]
  },
  {
   "cell_type": "code",
   "execution_count": 95,
   "metadata": {},
   "outputs": [
    {
     "name": "stdout",
     "output_type": "stream",
     "text": [
      "object 723c4a1444094d71d976ddd88748b5c56863a1a1\n",
      "type commit\n",
      "tag mytag\n",
      "tagger doer <499361328@qq.com> 1556276444 +0800\n",
      "\n",
      "I love cheesecake\n"
     ]
    }
   ],
   "source": [
    "!git cat-file -p mytag"
   ]
  },
  {
   "cell_type": "code",
   "execution_count": 96,
   "metadata": {},
   "outputs": [
    {
     "name": "stdout",
     "output_type": "stream",
     "text": [
      "\u001b[34m23\u001b[m\u001b[m   \u001b[34m36\u001b[m\u001b[m   \u001b[34m3e\u001b[m\u001b[m   \u001b[34m6e\u001b[m\u001b[m   \u001b[34m72\u001b[m\u001b[m   \u001b[34m84\u001b[m\u001b[m   \u001b[34m9f\u001b[m\u001b[m   \u001b[34mbe\u001b[m\u001b[m   \u001b[34mf1\u001b[m\u001b[m   \u001b[34minfo\u001b[m\u001b[m \u001b[34mpack\u001b[m\u001b[m\n"
     ]
    }
   ],
   "source": [
    "# before tag：\n",
    "# 23   36   3e   6e   72   84   be   f1   info pack\n",
    "\n",
    "# after tag\n",
    "!ls .git/objects/"
   ]
  },
  {
   "cell_type": "code",
   "execution_count": 98,
   "metadata": {},
   "outputs": [
    {
     "name": "stdout",
     "output_type": "stream",
     "text": [
      "eaca77cb353c1be73d2c9de761122343128f53\n"
     ]
    }
   ],
   "source": [
    "!ls .git/objects/9f"
   ]
  },
  {
   "cell_type": "code",
   "execution_count": 99,
   "metadata": {},
   "outputs": [
    {
     "name": "stdout",
     "output_type": "stream",
     "text": [
      "object 723c4a1444094d71d976ddd88748b5c56863a1a1\n",
      "type commit\n",
      "tag mytag\n",
      "tagger doer <499361328@qq.com> 1556276444 +0800\n",
      "\n",
      "I love cheesecake\n"
     ]
    }
   ],
   "source": [
    "!git cat-file -p 9feaca77"
   ]
  },
  {
   "cell_type": "code",
   "execution_count": null,
   "metadata": {},
   "outputs": [],
   "source": []
  }
 ],
 "metadata": {
  "kernelspec": {
   "display_name": "Python 3",
   "language": "python",
   "name": "python3"
  },
  "language_info": {
   "codemirror_mode": {
    "name": "ipython",
    "version": 3
   },
   "file_extension": ".py",
   "mimetype": "text/x-python",
   "name": "python",
   "nbconvert_exporter": "python",
   "pygments_lexer": "ipython3",
   "version": "3.7.3"
  }
 },
 "nbformat": 4,
 "nbformat_minor": 2
}
