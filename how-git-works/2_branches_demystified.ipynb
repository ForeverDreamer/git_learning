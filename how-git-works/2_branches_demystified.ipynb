{
 "cells": [
  {
   "cell_type": "markdown",
   "metadata": {},
   "source": [
    "### 1. What Branches Really Are"
   ]
  },
  {
   "cell_type": "code",
   "execution_count": 2,
   "metadata": {},
   "outputs": [
    {
     "name": "stdout",
     "output_type": "stream",
     "text": [
      "\u001b[33mcommit 723c4a1444094d71d976ddd88748b5c56863a1a1\u001b[m\u001b[33m (\u001b[m\u001b[1;36mHEAD -> \u001b[m\u001b[1;32mmaster\u001b[m\u001b[33m, \u001b[m\u001b[1;33mtag: mytag\u001b[m\u001b[33m)\u001b[m\n",
      "Author: doer <499361328@qq.com>\n",
      "Date:   Fri Apr 26 18:10:33 2019 +0800\n",
      "\n",
      "    Add cake\n",
      "\n",
      "\u001b[33mcommit 840d35233a95f9a3bd3a079d846c396e88389507\u001b[m\n",
      "Author: doer <499361328@qq.com>\n",
      "Date:   Fri Apr 26 18:09:24 2019 +0800\n",
      "\n",
      "    First commit!\n"
     ]
    }
   ],
   "source": [
    "!git log"
   ]
  },
  {
   "cell_type": "code",
   "execution_count": 3,
   "metadata": {},
   "outputs": [
    {
     "name": "stdout",
     "output_type": "stream",
     "text": [
      "* \u001b[32mmaster\u001b[m\n"
     ]
    }
   ],
   "source": [
    "!git branch"
   ]
  },
  {
   "cell_type": "code",
   "execution_count": 4,
   "metadata": {},
   "outputs": [
    {
     "name": "stdout",
     "output_type": "stream",
     "text": [
      "723c4a1444094d71d976ddd88748b5c56863a1a1\n"
     ]
    }
   ],
   "source": [
    "# It's the SHA1 of the current commit\n",
    "!cat .git/refs/heads/master"
   ]
  },
  {
   "cell_type": "code",
   "execution_count": 5,
   "metadata": {},
   "outputs": [],
   "source": [
    "!git branch lisa"
   ]
  },
  {
   "cell_type": "code",
   "execution_count": 6,
   "metadata": {},
   "outputs": [
    {
     "name": "stdout",
     "output_type": "stream",
     "text": [
      "  lisa\u001b[m\n",
      "* \u001b[32mmaster\u001b[m\n"
     ]
    }
   ],
   "source": [
    "!git branch"
   ]
  },
  {
   "cell_type": "code",
   "execution_count": 7,
   "metadata": {},
   "outputs": [
    {
     "name": "stdout",
     "output_type": "stream",
     "text": [
      "723c4a1444094d71d976ddd88748b5c56863a1a1\n"
     ]
    }
   ],
   "source": [
    "!cat .git/refs/heads/lisa"
   ]
  },
  {
   "cell_type": "code",
   "execution_count": 8,
   "metadata": {},
   "outputs": [
    {
     "name": "stdout",
     "output_type": "stream",
     "text": [
      "lisa   master\n"
     ]
    }
   ],
   "source": [
    "!ls .git/refs/heads/"
   ]
  },
  {
   "cell_type": "markdown",
   "metadata": {},
   "source": [
    "### 2. The Mechanics of the Current Branch"
   ]
  },
  {
   "cell_type": "code",
   "execution_count": 9,
   "metadata": {},
   "outputs": [
    {
     "name": "stdout",
     "output_type": "stream",
     "text": [
      "  lisa\u001b[m\n",
      "* \u001b[32mmaster\u001b[m\n"
     ]
    }
   ],
   "source": [
    "!git branch"
   ]
  },
  {
   "cell_type": "code",
   "execution_count": 10,
   "metadata": {},
   "outputs": [
    {
     "name": "stdout",
     "output_type": "stream",
     "text": [
      "ref: refs/heads/master\n"
     ]
    }
   ],
   "source": [
    "!cat .git/HEAD"
   ]
  },
  {
   "cell_type": "code",
   "execution_count": 24,
   "metadata": {},
   "outputs": [
    {
     "name": "stdout",
     "output_type": "stream",
     "text": [
      "Apple Pie\n",
      "\n",
      "pre-made pastry\n",
      "1/2 cup butter\n",
      "3 tablespoons flour\n",
      "1 cup sugar\n",
      "8 Granny Smith apples"
     ]
    }
   ],
   "source": [
    "# 增加内容到recipes/apple_pie.txt\n",
    "!cat recipes/apple_pie.txt"
   ]
  },
  {
   "cell_type": "code",
   "execution_count": 11,
   "metadata": {},
   "outputs": [
    {
     "name": "stdout",
     "output_type": "stream",
     "text": [
      "On branch master\n",
      "Changes not staged for commit:\n",
      "  (use \"git add <file>...\" to update what will be committed)\n",
      "  (use \"git checkout -- <file>...\" to discard changes in working directory)\n",
      "\n",
      "\t\u001b[31mmodified:   recipes/apple_pie.txt\u001b[m\n",
      "\n",
      "no changes added to commit (use \"git add\" and/or \"git commit -a\")\n"
     ]
    }
   ],
   "source": [
    "!git status"
   ]
  },
  {
   "cell_type": "code",
   "execution_count": 12,
   "metadata": {},
   "outputs": [],
   "source": [
    "!git add recipes/apple_pie.txt"
   ]
  },
  {
   "cell_type": "code",
   "execution_count": 13,
   "metadata": {},
   "outputs": [
    {
     "name": "stdout",
     "output_type": "stream",
     "text": [
      "On branch master\n",
      "Changes to be committed:\n",
      "  (use \"git reset HEAD <file>...\" to unstage)\n",
      "\n",
      "\t\u001b[32mmodified:   recipes/apple_pie.txt\u001b[m\n",
      "\n"
     ]
    }
   ],
   "source": [
    "!git status"
   ]
  },
  {
   "cell_type": "code",
   "execution_count": 14,
   "metadata": {},
   "outputs": [
    {
     "name": "stdout",
     "output_type": "stream",
     "text": [
      "[master 5808f49] Add recipe\n",
      " 1 file changed, 6 insertions(+)\n"
     ]
    }
   ],
   "source": [
    "!git commit -m \"Add recipe\""
   ]
  },
  {
   "cell_type": "code",
   "execution_count": 15,
   "metadata": {},
   "outputs": [
    {
     "name": "stdout",
     "output_type": "stream",
     "text": [
      "\u001b[33mcommit 5808f490d959fe39f42667d86a83768f6fb9722b\u001b[m\u001b[33m (\u001b[m\u001b[1;36mHEAD -> \u001b[m\u001b[1;32mmaster\u001b[m\u001b[33m)\u001b[m\n",
      "Author: doer <499361328@qq.com>\n",
      "Date:   Fri Apr 26 22:42:11 2019 +0800\n",
      "\n",
      "    Add recipe\n",
      "\n",
      "\u001b[33mcommit 723c4a1444094d71d976ddd88748b5c56863a1a1\u001b[m\u001b[33m (\u001b[m\u001b[1;33mtag: mytag\u001b[m\u001b[33m, \u001b[m\u001b[1;32mlisa\u001b[m\u001b[33m)\u001b[m\n",
      "Author: doer <499361328@qq.com>\n",
      "Date:   Fri Apr 26 18:10:33 2019 +0800\n",
      "\n",
      "    Add cake\n",
      "\n",
      "\u001b[33mcommit 840d35233a95f9a3bd3a079d846c396e88389507\u001b[m\n",
      "Author: doer <499361328@qq.com>\n",
      "Date:   Fri Apr 26 18:09:24 2019 +0800\n",
      "\n",
      "    First commit!\n"
     ]
    }
   ],
   "source": [
    "!git log"
   ]
  },
  {
   "cell_type": "code",
   "execution_count": 16,
   "metadata": {},
   "outputs": [
    {
     "name": "stdout",
     "output_type": "stream",
     "text": [
      "5808f490d959fe39f42667d86a83768f6fb9722b\n"
     ]
    }
   ],
   "source": [
    "!cat .git/refs/heads/master"
   ]
  },
  {
   "cell_type": "code",
   "execution_count": 17,
   "metadata": {},
   "outputs": [
    {
     "name": "stdout",
     "output_type": "stream",
     "text": [
      "ref: refs/heads/master\n"
     ]
    }
   ],
   "source": [
    "!cat .git/HEAD"
   ]
  },
  {
   "cell_type": "code",
   "execution_count": 18,
   "metadata": {},
   "outputs": [
    {
     "name": "stdout",
     "output_type": "stream",
     "text": [
      "  lisa\u001b[m\n",
      "* \u001b[32mmaster\u001b[m\n"
     ]
    }
   ],
   "source": [
    "!git branch"
   ]
  },
  {
   "cell_type": "markdown",
   "metadata": {},
   "source": [
    "#### Checkout means move HEAD and update the working area"
   ]
  },
  {
   "cell_type": "code",
   "execution_count": 28,
   "metadata": {},
   "outputs": [
    {
     "name": "stdout",
     "output_type": "stream",
     "text": [
      "Switched to branch 'lisa'\n"
     ]
    }
   ],
   "source": [
    "!git checkout lisa"
   ]
  },
  {
   "cell_type": "code",
   "execution_count": 20,
   "metadata": {},
   "outputs": [
    {
     "name": "stdout",
     "output_type": "stream",
     "text": [
      "* \u001b[32mlisa\u001b[m\n",
      "  master\u001b[m\n"
     ]
    }
   ],
   "source": [
    "!git branch"
   ]
  },
  {
   "cell_type": "code",
   "execution_count": 21,
   "metadata": {},
   "outputs": [
    {
     "name": "stdout",
     "output_type": "stream",
     "text": [
      "ref: refs/heads/lisa\n"
     ]
    }
   ],
   "source": [
    "!cat .git/HEAD"
   ]
  },
  {
   "cell_type": "code",
   "execution_count": 29,
   "metadata": {},
   "outputs": [
    {
     "name": "stdout",
     "output_type": "stream",
     "text": [
      "Apple Pie\n"
     ]
    }
   ],
   "source": [
    "# 工作空间的文件被替换为当前commit的快照内容\n",
    "!cat recipes/apple_pie.txt"
   ]
  },
  {
   "cell_type": "code",
   "execution_count": 30,
   "metadata": {},
   "outputs": [
    {
     "name": "stdout",
     "output_type": "stream",
     "text": [
      "\u001b[33mcommit 723c4a1444094d71d976ddd88748b5c56863a1a1\u001b[m\u001b[33m (\u001b[m\u001b[1;36mHEAD -> \u001b[m\u001b[1;32mlisa\u001b[m\u001b[33m, \u001b[m\u001b[1;33mtag: mytag\u001b[m\u001b[33m)\u001b[m\n",
      "Author: doer <499361328@qq.com>\n",
      "Date:   Fri Apr 26 18:10:33 2019 +0800\n",
      "\n",
      "    Add cake\n",
      "\n",
      "\u001b[33mcommit 840d35233a95f9a3bd3a079d846c396e88389507\u001b[m\n",
      "Author: doer <499361328@qq.com>\n",
      "Date:   Fri Apr 26 18:09:24 2019 +0800\n",
      "\n",
      "    First commit!\n"
     ]
    }
   ],
   "source": [
    "!git log"
   ]
  },
  {
   "cell_type": "code",
   "execution_count": 32,
   "metadata": {},
   "outputs": [
    {
     "name": "stdout",
     "output_type": "stream",
     "text": [
      "On branch lisa\n",
      "Changes not staged for commit:\n",
      "  (use \"git add <file>...\" to update what will be committed)\n",
      "  (use \"git checkout -- <file>...\" to discard changes in working directory)\n",
      "\n",
      "\t\u001b[31mmodified:   recipes/apple_pie.txt\u001b[m\n",
      "\n",
      "no changes added to commit (use \"git add\" and/or \"git commit -a\")\n"
     ]
    }
   ],
   "source": [
    "!git status"
   ]
  },
  {
   "cell_type": "code",
   "execution_count": 33,
   "metadata": {},
   "outputs": [],
   "source": [
    "!git add recipes/apple_pie.txt"
   ]
  },
  {
   "cell_type": "code",
   "execution_count": 34,
   "metadata": {},
   "outputs": [
    {
     "name": "stdout",
     "output_type": "stream",
     "text": [
      "On branch lisa\n",
      "Changes to be committed:\n",
      "  (use \"git reset HEAD <file>...\" to unstage)\n",
      "\n",
      "\t\u001b[32mmodified:   recipes/apple_pie.txt\u001b[m\n",
      "\n"
     ]
    }
   ],
   "source": [
    "!git status"
   ]
  },
  {
   "cell_type": "code",
   "execution_count": 35,
   "metadata": {},
   "outputs": [
    {
     "name": "stdout",
     "output_type": "stream",
     "text": [
      "[lisa 1b5d3f9] Add Lisa's version of the pie\n",
      " 1 file changed, 7 insertions(+)\n"
     ]
    }
   ],
   "source": [
    "!git commit -m \"Add Lisa's version of the pie\""
   ]
  },
  {
   "cell_type": "code",
   "execution_count": 36,
   "metadata": {},
   "outputs": [
    {
     "name": "stdout",
     "output_type": "stream",
     "text": [
      "On branch lisa\n",
      "nothing to commit, working tree clean\n"
     ]
    }
   ],
   "source": [
    "!git status"
   ]
  },
  {
   "cell_type": "code",
   "execution_count": 37,
   "metadata": {},
   "outputs": [
    {
     "name": "stdout",
     "output_type": "stream",
     "text": [
      "\u001b[33mcommit 1b5d3f9ea7b3faf04c280711e8b85fd463cd5b83\u001b[m\u001b[33m (\u001b[m\u001b[1;36mHEAD -> \u001b[m\u001b[1;32mlisa\u001b[m\u001b[33m)\u001b[m\n",
      "Author: doer <499361328@qq.com>\n",
      "Date:   Fri Apr 26 23:00:00 2019 +0800\n",
      "\n",
      "    Add Lisa's version of the pie\n",
      "\n",
      "\u001b[33mcommit 723c4a1444094d71d976ddd88748b5c56863a1a1\u001b[m\u001b[33m (\u001b[m\u001b[1;33mtag: mytag\u001b[m\u001b[33m)\u001b[m\n",
      "Author: doer <499361328@qq.com>\n",
      "Date:   Fri Apr 26 18:10:33 2019 +0800\n",
      "\n",
      "    Add cake\n",
      "\n",
      "\u001b[33mcommit 840d35233a95f9a3bd3a079d846c396e88389507\u001b[m\n",
      "Author: doer <499361328@qq.com>\n",
      "Date:   Fri Apr 26 18:09:24 2019 +0800\n",
      "\n",
      "    First commit!\n"
     ]
    }
   ],
   "source": [
    "!git log"
   ]
  },
  {
   "cell_type": "markdown",
   "metadata": {},
   "source": [
    "### 3. Let's Merge"
   ]
  },
  {
   "cell_type": "code",
   "execution_count": 38,
   "metadata": {},
   "outputs": [
    {
     "name": "stdout",
     "output_type": "stream",
     "text": [
      "Switched to branch 'master'\n"
     ]
    }
   ],
   "source": [
    "!git checkout master"
   ]
  },
  {
   "cell_type": "code",
   "execution_count": 39,
   "metadata": {},
   "outputs": [
    {
     "name": "stdout",
     "output_type": "stream",
     "text": [
      "  lisa\u001b[m\n",
      "* \u001b[32mmaster\u001b[m\n"
     ]
    }
   ],
   "source": [
    "!git branch"
   ]
  },
  {
   "cell_type": "code",
   "execution_count": 40,
   "metadata": {},
   "outputs": [
    {
     "name": "stdout",
     "output_type": "stream",
     "text": [
      "Apple Pie\n",
      "\n",
      "pre-made pastry\n",
      "1/2 cup butter\n",
      "3 tablespoons flour\n",
      "1 cup sugar\n",
      "8 Granny Smith apples"
     ]
    }
   ],
   "source": [
    "!cat recipes/apple_pie.txt"
   ]
  },
  {
   "cell_type": "code",
   "execution_count": 41,
   "metadata": {},
   "outputs": [
    {
     "name": "stdout",
     "output_type": "stream",
     "text": [
      "Auto-merging recipes/apple_pie.txt\n",
      "CONFLICT (content): Merge conflict in recipes/apple_pie.txt\n",
      "Automatic merge failed; fix conflicts and then commit the result.\n"
     ]
    }
   ],
   "source": [
    "!git merge lisa"
   ]
  },
  {
   "cell_type": "code",
   "execution_count": 42,
   "metadata": {},
   "outputs": [
    {
     "name": "stdout",
     "output_type": "stream",
     "text": [
      "On branch master\n",
      "You have unmerged paths.\n",
      "  (fix conflicts and run \"git commit\")\n",
      "  (use \"git merge --abort\" to abort the merge)\n",
      "\n",
      "Unmerged paths:\n",
      "  (use \"git add <file>...\" to mark resolution)\n",
      "\n",
      "\t\u001b[31mboth modified:   recipes/apple_pie.txt\u001b[m\n",
      "\n",
      "no changes added to commit (use \"git add\" and/or \"git commit -a\")\n"
     ]
    }
   ],
   "source": [
    "!git status"
   ]
  },
  {
   "cell_type": "code",
   "execution_count": 43,
   "metadata": {},
   "outputs": [
    {
     "name": "stdout",
     "output_type": "stream",
     "text": [
      "Apple Pie\n",
      "\n",
      "pre-made pastry\n",
      "1/2 cup butter\n",
      "3 tablespoons flour\n",
      "1 cup sugar\n",
      "<<<<<<< HEAD\n",
      "8 Granny Smith apples\n",
      "=======\n",
      "1 tbsp cinnamon\n",
      "10 Granny Smith apples\n",
      ">>>>>>> lisa\n"
     ]
    }
   ],
   "source": [
    "!cat recipes/apple_pie.txt"
   ]
  },
  {
   "cell_type": "code",
   "execution_count": 44,
   "metadata": {},
   "outputs": [
    {
     "name": "stdout",
     "output_type": "stream",
     "text": [
      "On branch master\n",
      "You have unmerged paths.\n",
      "  (fix conflicts and run \"git commit\")\n",
      "  (use \"git merge --abort\" to abort the merge)\n",
      "\n",
      "Unmerged paths:\n",
      "  (use \"git add <file>...\" to mark resolution)\n",
      "\n",
      "\t\u001b[31mboth modified:   recipes/apple_pie.txt\u001b[m\n",
      "\n",
      "no changes added to commit (use \"git add\" and/or \"git commit -a\")\n"
     ]
    }
   ],
   "source": [
    "# 修改文件，解决冲突，然后提交\n",
    "!git status"
   ]
  },
  {
   "cell_type": "code",
   "execution_count": 45,
   "metadata": {},
   "outputs": [],
   "source": [
    "!git add recipes/apple_pie.txt"
   ]
  },
  {
   "cell_type": "code",
   "execution_count": 46,
   "metadata": {},
   "outputs": [
    {
     "name": "stdout",
     "output_type": "stream",
     "text": [
      "On branch master\n",
      "All conflicts fixed but you are still merging.\n",
      "  (use \"git commit\" to conclude merge)\n",
      "\n",
      "Changes to be committed:\n",
      "\n",
      "\t\u001b[32mmodified:   recipes/apple_pie.txt\u001b[m\n",
      "\n"
     ]
    }
   ],
   "source": [
    "!git status"
   ]
  },
  {
   "cell_type": "code",
   "execution_count": 1,
   "metadata": {},
   "outputs": [],
   "source": [
    "# !git commit  # 在控制台执行会自动用vim打开提交信息文件，git设置了默认提交信息，可以修改也可以直接按q键退出，以默认信息提交"
   ]
  },
  {
   "cell_type": "code",
   "execution_count": 2,
   "metadata": {},
   "outputs": [
    {
     "name": "stdout",
     "output_type": "stream",
     "text": [
      "On branch master\n",
      "nothing to commit, working tree clean\n"
     ]
    }
   ],
   "source": [
    "!git status"
   ]
  },
  {
   "cell_type": "code",
   "execution_count": 3,
   "metadata": {},
   "outputs": [
    {
     "name": "stdout",
     "output_type": "stream",
     "text": [
      "\u001b[33mcommit 99a4c14f2d2e5b5b5f5119a0509af7a09cfd28bc\u001b[m\u001b[33m (\u001b[m\u001b[1;36mHEAD -> \u001b[m\u001b[1;32mmaster\u001b[m\u001b[33m)\u001b[m\n",
      "Merge: 5808f49 1b5d3f9\n",
      "Author: doer <499361328@qq.com>\n",
      "Date:   Fri Apr 26 23:27:50 2019 +0800\n",
      "\n",
      "    Merge branch 'lisa'\n",
      "    \n",
      "    # Conflicts:\n",
      "    #       recipes/apple_pie.txt\n",
      "\n",
      "\u001b[33mcommit 1b5d3f9ea7b3faf04c280711e8b85fd463cd5b83\u001b[m\u001b[33m (\u001b[m\u001b[1;32mlisa\u001b[m\u001b[33m)\u001b[m\n",
      "Author: doer <499361328@qq.com>\n",
      "Date:   Fri Apr 26 23:00:00 2019 +0800\n",
      "\n",
      "    Add Lisa's version of the pie\n",
      "\n",
      "\u001b[33mcommit 5808f490d959fe39f42667d86a83768f6fb9722b\u001b[m\n",
      "Author: doer <499361328@qq.com>\n",
      "Date:   Fri Apr 26 22:42:11 2019 +0800\n",
      "\n",
      "    Add recipe\n",
      "\n",
      "\u001b[33mcommit 723c4a1444094d71d976ddd88748b5c56863a1a1\u001b[m\u001b[33m (\u001b[m\u001b[1;33mtag: mytag\u001b[m\u001b[33m)\u001b[m\n",
      "Author: doer <499361328@qq.com>\n",
      "Date:   Fri Apr 26 18:10:33 2019 +0800\n",
      "\n",
      "    Add cake\n",
      "\n",
      "\u001b[33mcommit 840d35233a95f9a3bd3a079d846c396e88389507\u001b[m\n",
      "Author: doer <499361328@qq.com>\n",
      "Date:   Fri Apr 26 18:09:24 2019 +0800\n",
      "\n",
      "    First commit!\n"
     ]
    }
   ],
   "source": [
    "!git log"
   ]
  },
  {
   "cell_type": "code",
   "execution_count": 5,
   "metadata": {},
   "outputs": [
    {
     "name": "stdout",
     "output_type": "stream",
     "text": [
      "tree 97b278fe56f0faf0f4d79457e85da2daa4611e44\n",
      "parent 5808f490d959fe39f42667d86a83768f6fb9722b\n",
      "parent 1b5d3f9ea7b3faf04c280711e8b85fd463cd5b83\n",
      "author doer <499361328@qq.com> 1556292470 +0800\n",
      "committer doer <499361328@qq.com> 1556292470 +0800\n",
      "\n",
      "Merge branch 'lisa'\n",
      "\n",
      "# Conflicts:\n",
      "#\trecipes/apple_pie.txt\n"
     ]
    }
   ],
   "source": [
    "!git cat-file -p 99a4c14f2d"
   ]
  },
  {
   "cell_type": "markdown",
   "metadata": {},
   "source": [
    "### 4. Time Travel for Developers"
   ]
  },
  {
   "cell_type": "code",
   "execution_count": 6,
   "metadata": {},
   "outputs": [],
   "source": [
    "# References between commits are used to track history, all the other references are used to track content"
   ]
  },
  {
   "cell_type": "markdown",
   "metadata": {},
   "source": [
    "### 5. Merging Without Merging"
   ]
  },
  {
   "cell_type": "code",
   "execution_count": 8,
   "metadata": {},
   "outputs": [
    {
     "name": "stdout",
     "output_type": "stream",
     "text": [
      "Switched to branch 'lisa'\n"
     ]
    }
   ],
   "source": [
    "!git checkout lisa"
   ]
  },
  {
   "cell_type": "code",
   "execution_count": 9,
   "metadata": {},
   "outputs": [
    {
     "name": "stdout",
     "output_type": "stream",
     "text": [
      "Updating 1b5d3f9..99a4c14\n",
      "Fast-forward\n",
      " recipes/apple_pie.txt | 3 \u001b[32m+\u001b[m\u001b[31m--\u001b[m\n",
      " 1 file changed, 1 insertion(+), 2 deletions(-)\n"
     ]
    }
   ],
   "source": [
    "!git merge master"
   ]
  },
  {
   "cell_type": "markdown",
   "metadata": {},
   "source": [
    "### 6.Losing Your HEAD"
   ]
  },
  {
   "cell_type": "code",
   "execution_count": 12,
   "metadata": {},
   "outputs": [
    {
     "name": "stdout",
     "output_type": "stream",
     "text": [
      "Switched to branch 'master'\n"
     ]
    }
   ],
   "source": [
    "!git checkout master"
   ]
  },
  {
   "cell_type": "code",
   "execution_count": 13,
   "metadata": {},
   "outputs": [
    {
     "name": "stdout",
     "output_type": "stream",
     "text": [
      "\u001b[33mcommit 99a4c14f2d2e5b5b5f5119a0509af7a09cfd28bc\u001b[m\u001b[33m (\u001b[m\u001b[1;36mHEAD -> \u001b[m\u001b[1;32mmaster\u001b[m\u001b[33m, \u001b[m\u001b[1;32mlisa\u001b[m\u001b[33m)\u001b[m\n",
      "Merge: 5808f49 1b5d3f9\n",
      "Author: doer <499361328@qq.com>\n",
      "Date:   Fri Apr 26 23:27:50 2019 +0800\n",
      "\n",
      "    Merge branch 'lisa'\n",
      "    \n",
      "    # Conflicts:\n",
      "    #       recipes/apple_pie.txt\n",
      "\n",
      "\u001b[33mcommit 1b5d3f9ea7b3faf04c280711e8b85fd463cd5b83\u001b[m\n",
      "Author: doer <499361328@qq.com>\n",
      "Date:   Fri Apr 26 23:00:00 2019 +0800\n",
      "\n",
      "    Add Lisa's version of the pie\n",
      "\n",
      "\u001b[33mcommit 5808f490d959fe39f42667d86a83768f6fb9722b\u001b[m\n",
      "Author: doer <499361328@qq.com>\n",
      "Date:   Fri Apr 26 22:42:11 2019 +0800\n",
      "\n",
      "    Add recipe\n",
      "\n",
      "\u001b[33mcommit 723c4a1444094d71d976ddd88748b5c56863a1a1\u001b[m\u001b[33m (\u001b[m\u001b[1;33mtag: mytag\u001b[m\u001b[33m)\u001b[m\n",
      "Author: doer <499361328@qq.com>\n",
      "Date:   Fri Apr 26 18:10:33 2019 +0800\n",
      "\n",
      "    Add cake\n",
      "\n",
      "\u001b[33mcommit 840d35233a95f9a3bd3a079d846c396e88389507\u001b[m\n",
      "Author: doer <499361328@qq.com>\n",
      "Date:   Fri Apr 26 18:09:24 2019 +0800\n",
      "\n",
      "    First commit!\n"
     ]
    }
   ],
   "source": [
    "!git log"
   ]
  },
  {
   "cell_type": "code",
   "execution_count": 14,
   "metadata": {},
   "outputs": [
    {
     "name": "stdout",
     "output_type": "stream",
     "text": [
      "ref: refs/heads/master\n"
     ]
    }
   ],
   "source": [
    "!cat .git/HEAD"
   ]
  },
  {
   "cell_type": "code",
   "execution_count": 15,
   "metadata": {},
   "outputs": [
    {
     "name": "stdout",
     "output_type": "stream",
     "text": [
      "Note: checking out '99a4c14f2d2e5b'.\n",
      "\n",
      "You are in 'detached HEAD' state. You can look around, make experimental\n",
      "changes and commit them, and you can discard any commits you make in this\n",
      "state without impacting any branches by performing another checkout.\n",
      "\n",
      "If you want to create a new branch to retain commits you create, you may\n",
      "do so (now or later) by using -b with the checkout command again. Example:\n",
      "\n",
      "  git checkout -b <new-branch-name>\n",
      "\n",
      "HEAD is now at 99a4c14 Merge branch 'lisa'\n"
     ]
    }
   ],
   "source": [
    "!git checkout 99a4c14f2d2e5b"
   ]
  },
  {
   "cell_type": "code",
   "execution_count": 16,
   "metadata": {},
   "outputs": [
    {
     "name": "stdout",
     "output_type": "stream",
     "text": [
      "99a4c14f2d2e5b5b5f5119a0509af7a09cfd28bc\n"
     ]
    }
   ],
   "source": [
    "!cat .git/HEAD"
   ]
  },
  {
   "cell_type": "code",
   "execution_count": 17,
   "metadata": {},
   "outputs": [
    {
     "name": "stdout",
     "output_type": "stream",
     "text": [
      "* \u001b[32m(HEAD detached at 99a4c14)\u001b[m\n",
      "  lisa\u001b[m\n",
      "  master\u001b[m\n"
     ]
    }
   ],
   "source": [
    "!git branch"
   ]
  },
  {
   "cell_type": "code",
   "execution_count": 18,
   "metadata": {},
   "outputs": [],
   "source": [
    "# 修改recipes/apple_pie.txt"
   ]
  },
  {
   "cell_type": "code",
   "execution_count": 19,
   "metadata": {},
   "outputs": [
    {
     "name": "stdout",
     "output_type": "stream",
     "text": [
      "\u001b[31mHEAD detached at \u001b[m99a4c14\n",
      "Changes not staged for commit:\n",
      "  (use \"git add <file>...\" to update what will be committed)\n",
      "  (use \"git checkout -- <file>...\" to discard changes in working directory)\n",
      "\n",
      "\t\u001b[31mmodified:   recipes/apple_pie.txt\u001b[m\n",
      "\n",
      "no changes added to commit (use \"git add\" and/or \"git commit -a\")\n"
     ]
    }
   ],
   "source": [
    "!git status"
   ]
  },
  {
   "cell_type": "code",
   "execution_count": 20,
   "metadata": {},
   "outputs": [],
   "source": [
    "!git add recipes/apple_pie.txt"
   ]
  },
  {
   "cell_type": "code",
   "execution_count": 21,
   "metadata": {},
   "outputs": [
    {
     "name": "stdout",
     "output_type": "stream",
     "text": [
      "[detached HEAD 46ebf9c] Add more apples\n",
      " 1 file changed, 1 insertion(+), 1 deletion(-)\n"
     ]
    }
   ],
   "source": [
    "!git commit -m \"Add more apples\""
   ]
  },
  {
   "cell_type": "code",
   "execution_count": 22,
   "metadata": {},
   "outputs": [
    {
     "name": "stdout",
     "output_type": "stream",
     "text": [
      "\u001b[33mcommit 46ebf9ca963d4ccc5d07cb945c915a3c39a82e04\u001b[m\u001b[33m (\u001b[m\u001b[1;36mHEAD\u001b[m\u001b[33m)\u001b[m\n",
      "Author: doer <499361328@qq.com>\n",
      "Date:   Sat Apr 27 00:20:46 2019 +0800\n",
      "\n",
      "    Add more apples\n",
      "\n",
      "\u001b[33mcommit 99a4c14f2d2e5b5b5f5119a0509af7a09cfd28bc\u001b[m\u001b[33m (\u001b[m\u001b[1;32mmaster\u001b[m\u001b[33m, \u001b[m\u001b[1;32mlisa\u001b[m\u001b[33m)\u001b[m\n",
      "Merge: 5808f49 1b5d3f9\n",
      "Author: doer <499361328@qq.com>\n",
      "Date:   Fri Apr 26 23:27:50 2019 +0800\n",
      "\n",
      "    Merge branch 'lisa'\n",
      "    \n",
      "    # Conflicts:\n",
      "    #       recipes/apple_pie.txt\n",
      "\n",
      "\u001b[33mcommit 1b5d3f9ea7b3faf04c280711e8b85fd463cd5b83\u001b[m\n",
      "Author: doer <499361328@qq.com>\n",
      "Date:   Fri Apr 26 23:00:00 2019 +0800\n",
      "\n",
      "    Add Lisa's version of the pie\n",
      "\n",
      "\u001b[33mcommit 5808f490d959fe39f42667d86a83768f6fb9722b\u001b[m\n",
      "Author: doer <499361328@qq.com>\n",
      "Date:   Fri Apr 26 22:42:11 2019 +0800\n",
      "\n",
      "    Add recipe\n",
      "\n",
      "\u001b[33mcommit 723c4a1444094d71d976ddd88748b5c56863a1a1\u001b[m\u001b[33m (\u001b[m\u001b[1;33mtag: mytag\u001b[m\u001b[33m)\u001b[m\n",
      "Author: doer <499361328@qq.com>\n",
      "Date:   Fri Apr 26 18:10:33 2019 +0800\n",
      "\n",
      "    Add cake\n",
      "\n",
      "\u001b[33mcommit 840d35233a95f9a3bd3a079d846c396e88389507\u001b[m\n",
      "Author: doer <499361328@qq.com>\n",
      "Date:   Fri Apr 26 18:09:24 2019 +0800\n",
      "\n",
      "    First commit!\n"
     ]
    }
   ],
   "source": [
    "!git log"
   ]
  },
  {
   "cell_type": "code",
   "execution_count": 24,
   "metadata": {},
   "outputs": [
    {
     "name": "stdout",
     "output_type": "stream",
     "text": [
      "\u001b[31mHEAD detached from \u001b[m99a4c14\n",
      "Changes not staged for commit:\n",
      "  (use \"git add <file>...\" to update what will be committed)\n",
      "  (use \"git checkout -- <file>...\" to discard changes in working directory)\n",
      "\n",
      "\t\u001b[31mmodified:   recipes/apple_pie.txt\u001b[m\n",
      "\n",
      "no changes added to commit (use \"git add\" and/or \"git commit -a\")\n"
     ]
    }
   ],
   "source": [
    "# 再次修改recipes/apple_pie.txt\n",
    "!git status"
   ]
  },
  {
   "cell_type": "code",
   "execution_count": 25,
   "metadata": {},
   "outputs": [
    {
     "name": "stdout",
     "output_type": "stream",
     "text": [
      "[detached HEAD 583ba38] Add more apples\n",
      " 1 file changed, 1 insertion(+), 1 deletion(-)\n"
     ]
    }
   ],
   "source": [
    "!git add recipes/apple_pie.txt\n",
    "!git commit -m \"Add more apples\""
   ]
  },
  {
   "cell_type": "code",
   "execution_count": 27,
   "metadata": {},
   "outputs": [
    {
     "name": "stdout",
     "output_type": "stream",
     "text": [
      "\u001b[33mcommit e1806c5429d9a297af79d6bd1487f9a130f8fec5\u001b[m\u001b[33m (\u001b[m\u001b[1;36mHEAD\u001b[m\u001b[33m)\u001b[m\n",
      "Author: doer <499361328@qq.com>\n",
      "Date:   Sat Apr 27 00:29:51 2019 +0800\n",
      "\n",
      "    Remove sugar\n",
      "\n",
      "\u001b[33mcommit d3aaaba7971ca299196a454de4e6b2b10cf1ba6d\u001b[m\n",
      "Author: doer <499361328@qq.com>\n",
      "Date:   Sat Apr 27 00:24:02 2019 +0800\n",
      "\n",
      "    Add more apples\n",
      "\n",
      "\u001b[33mcommit 46ebf9ca963d4ccc5d07cb945c915a3c39a82e04\u001b[m\n",
      "Author: doer <499361328@qq.com>\n",
      "Date:   Sat Apr 27 00:20:46 2019 +0800\n",
      "\n",
      "    Add more apples\n",
      "\n",
      "\u001b[33mcommit 99a4c14f2d2e5b5b5f5119a0509af7a09cfd28bc\u001b[m\u001b[33m (\u001b[m\u001b[1;32mmaster\u001b[m\u001b[33m, \u001b[m\u001b[1;32mlisa\u001b[m\u001b[33m)\u001b[m\n",
      "Merge: 5808f49 1b5d3f9\n",
      "Author: doer <499361328@qq.com>\n",
      "Date:   Fri Apr 26 23:27:50 2019 +0800\n",
      "\n",
      "    Merge branch 'lisa'\n",
      "    \n",
      "    # Conflicts:\n",
      "    #       recipes/apple_pie.txt\n",
      "\n",
      "\u001b[33mcommit 1b5d3f9ea7b3faf04c280711e8b85fd463cd5b83\u001b[m\n",
      "Author: doer <499361328@qq.com>\n",
      "Date:   Fri Apr 26 23:00:00 2019 +0800\n",
      "\n",
      "    Add Lisa's version of the pie\n",
      "\n",
      "\u001b[33mcommit 5808f490d959fe39f42667d86a83768f6fb9722b\u001b[m\n",
      "Author: doer <499361328@qq.com>\n",
      "Date:   Fri Apr 26 22:42:11 2019 +0800\n",
      "\n",
      "    Add recipe\n",
      "\n",
      "\u001b[33mcommit 723c4a1444094d71d976ddd88748b5c56863a1a1\u001b[m\u001b[33m (\u001b[m\u001b[1;33mtag: mytag\u001b[m\u001b[33m)\u001b[m\n",
      "Author: doer <499361328@qq.com>\n",
      "Date:   Fri Apr 26 18:10:33 2019 +0800\n",
      "\n",
      "    Add cake\n",
      "\n",
      "\u001b[33mcommit 840d35233a95f9a3bd3a079d846c396e88389507\u001b[m\n",
      "Author: doer <499361328@qq.com>\n",
      "Date:   Fri Apr 26 18:09:24 2019 +0800\n",
      "\n",
      "    First commit!\n"
     ]
    }
   ],
   "source": [
    "!git log"
   ]
  },
  {
   "cell_type": "code",
   "execution_count": 28,
   "metadata": {},
   "outputs": [
    {
     "name": "stdout",
     "output_type": "stream",
     "text": [
      "Warning: you are leaving 4 commits behind, not connected to\n",
      "any of your branches:\n",
      "\n",
      "  32afe25 Revert \"Remove sugar\"\n",
      "  e1806c5 Remove sugar\n",
      "  d3aaaba Add more apples\n",
      "  46ebf9c Add more apples\n",
      "\n",
      "If you want to keep them by creating a new branch, this may be a good time\n",
      "to do so with:\n",
      "\n",
      " git branch <new-branch-name> 32afe25\n",
      "\n",
      "Switched to branch 'master'\n"
     ]
    }
   ],
   "source": [
    "!git checkout master"
   ]
  },
  {
   "cell_type": "code",
   "execution_count": 29,
   "metadata": {},
   "outputs": [
    {
     "name": "stdout",
     "output_type": "stream",
     "text": [
      "Note: checking out '32afe25'.\n",
      "\n",
      "You are in 'detached HEAD' state. You can look around, make experimental\n",
      "changes and commit them, and you can discard any commits you make in this\n",
      "state without impacting any branches by performing another checkout.\n",
      "\n",
      "If you want to create a new branch to retain commits you create, you may\n",
      "do so (now or later) by using -b with the checkout command again. Example:\n",
      "\n",
      "  git checkout -b <new-branch-name>\n",
      "\n",
      "HEAD is now at 32afe25 Revert \"Remove sugar\"\n"
     ]
    }
   ],
   "source": [
    "!git checkout 32afe25"
   ]
  },
  {
   "cell_type": "code",
   "execution_count": 30,
   "metadata": {},
   "outputs": [
    {
     "name": "stdout",
     "output_type": "stream",
     "text": [
      "* \u001b[32m(HEAD detached at 32afe25)\u001b[m\n",
      "  lisa\u001b[m\n",
      "  master\u001b[m\n"
     ]
    }
   ],
   "source": [
    "!git branch"
   ]
  },
  {
   "cell_type": "code",
   "execution_count": 31,
   "metadata": {},
   "outputs": [],
   "source": [
    "!git branch nogood"
   ]
  },
  {
   "cell_type": "code",
   "execution_count": 32,
   "metadata": {},
   "outputs": [
    {
     "name": "stdout",
     "output_type": "stream",
     "text": [
      "* \u001b[32m(HEAD detached at 32afe25)\u001b[m\n",
      "  lisa\u001b[m\n",
      "  master\u001b[m\n",
      "  nogood\u001b[m\n"
     ]
    }
   ],
   "source": [
    "!git branch"
   ]
  },
  {
   "cell_type": "code",
   "execution_count": 33,
   "metadata": {},
   "outputs": [
    {
     "name": "stdout",
     "output_type": "stream",
     "text": [
      "Previous HEAD position was 32afe25 Revert \"Remove sugar\"\n",
      "Switched to branch 'master'\n"
     ]
    }
   ],
   "source": [
    "!git checkout master"
   ]
  },
  {
   "cell_type": "code",
   "execution_count": 34,
   "metadata": {},
   "outputs": [
    {
     "name": "stdout",
     "output_type": "stream",
     "text": [
      "\u001b[33mcommit 99a4c14f2d2e5b5b5f5119a0509af7a09cfd28bc\u001b[m\u001b[33m (\u001b[m\u001b[1;36mHEAD -> \u001b[m\u001b[1;32mmaster\u001b[m\u001b[33m, \u001b[m\u001b[1;32mlisa\u001b[m\u001b[33m)\u001b[m\n",
      "Merge: 5808f49 1b5d3f9\n",
      "Author: doer <499361328@qq.com>\n",
      "Date:   Fri Apr 26 23:27:50 2019 +0800\n",
      "\n",
      "    Merge branch 'lisa'\n",
      "    \n",
      "    # Conflicts:\n",
      "    #       recipes/apple_pie.txt\n",
      "\n",
      "\u001b[33mcommit 1b5d3f9ea7b3faf04c280711e8b85fd463cd5b83\u001b[m\n",
      "Author: doer <499361328@qq.com>\n",
      "Date:   Fri Apr 26 23:00:00 2019 +0800\n",
      "\n",
      "    Add Lisa's version of the pie\n",
      "\n",
      "\u001b[33mcommit 5808f490d959fe39f42667d86a83768f6fb9722b\u001b[m\n",
      "Author: doer <499361328@qq.com>\n",
      "Date:   Fri Apr 26 22:42:11 2019 +0800\n",
      "\n",
      "    Add recipe\n",
      "\n",
      "\u001b[33mcommit 723c4a1444094d71d976ddd88748b5c56863a1a1\u001b[m\u001b[33m (\u001b[m\u001b[1;33mtag: mytag\u001b[m\u001b[33m)\u001b[m\n",
      "Author: doer <499361328@qq.com>\n",
      "Date:   Fri Apr 26 18:10:33 2019 +0800\n",
      "\n",
      "    Add cake\n",
      "\n",
      "\u001b[33mcommit 840d35233a95f9a3bd3a079d846c396e88389507\u001b[m\n",
      "Author: doer <499361328@qq.com>\n",
      "Date:   Fri Apr 26 18:09:24 2019 +0800\n",
      "\n",
      "    First commit!\n"
     ]
    }
   ],
   "source": [
    "!git log"
   ]
  },
  {
   "cell_type": "code",
   "execution_count": 35,
   "metadata": {},
   "outputs": [
    {
     "name": "stdout",
     "output_type": "stream",
     "text": [
      "Switched to branch 'nogood'\n"
     ]
    }
   ],
   "source": [
    "!git checkout nogood"
   ]
  },
  {
   "cell_type": "code",
   "execution_count": 36,
   "metadata": {},
   "outputs": [
    {
     "name": "stdout",
     "output_type": "stream",
     "text": [
      "\u001b[33mcommit 32afe2533e500e9fff1e18eb34c7f109ac1b85c5\u001b[m\u001b[33m (\u001b[m\u001b[1;36mHEAD -> \u001b[m\u001b[1;32mnogood\u001b[m\u001b[33m)\u001b[m\n",
      "Author: doer <499361328@qq.com>\n",
      "Date:   Sat Apr 27 00:30:50 2019 +0800\n",
      "\n",
      "    Revert \"Remove sugar\"\n",
      "    \n",
      "    This reverts commit e1806c5429d9a297af79d6bd1487f9a130f8fec5.\n",
      "\n",
      "\u001b[33mcommit e1806c5429d9a297af79d6bd1487f9a130f8fec5\u001b[m\n",
      "Author: doer <499361328@qq.com>\n",
      "Date:   Sat Apr 27 00:29:51 2019 +0800\n",
      "\n",
      "    Remove sugar\n",
      "\n",
      "\u001b[33mcommit d3aaaba7971ca299196a454de4e6b2b10cf1ba6d\u001b[m\n",
      "Author: doer <499361328@qq.com>\n",
      "Date:   Sat Apr 27 00:24:02 2019 +0800\n",
      "\n",
      "    Add more apples\n",
      "\n",
      "\u001b[33mcommit 46ebf9ca963d4ccc5d07cb945c915a3c39a82e04\u001b[m\n",
      "Author: doer <499361328@qq.com>\n",
      "Date:   Sat Apr 27 00:20:46 2019 +0800\n",
      "\n",
      "    Add more apples\n",
      "\n",
      "\u001b[33mcommit 99a4c14f2d2e5b5b5f5119a0509af7a09cfd28bc\u001b[m\u001b[33m (\u001b[m\u001b[1;32mmaster\u001b[m\u001b[33m, \u001b[m\u001b[1;32mlisa\u001b[m\u001b[33m)\u001b[m\n",
      "Merge: 5808f49 1b5d3f9\n",
      "Author: doer <499361328@qq.com>\n",
      "Date:   Fri Apr 26 23:27:50 2019 +0800\n",
      "\n",
      "    Merge branch 'lisa'\n",
      "    \n",
      "    # Conflicts:\n",
      "    #       recipes/apple_pie.txt\n",
      "\n",
      "\u001b[33mcommit 1b5d3f9ea7b3faf04c280711e8b85fd463cd5b83\u001b[m\n",
      "Author: doer <499361328@qq.com>\n",
      "Date:   Fri Apr 26 23:00:00 2019 +0800\n",
      "\n",
      "    Add Lisa's version of the pie\n",
      "\n",
      "\u001b[33mcommit 5808f490d959fe39f42667d86a83768f6fb9722b\u001b[m\n",
      "Author: doer <499361328@qq.com>\n",
      "Date:   Fri Apr 26 22:42:11 2019 +0800\n",
      "\n",
      "    Add recipe\n",
      "\n",
      "\u001b[33mcommit 723c4a1444094d71d976ddd88748b5c56863a1a1\u001b[m\u001b[33m (\u001b[m\u001b[1;33mtag: mytag\u001b[m\u001b[33m)\u001b[m\n",
      "Author: doer <499361328@qq.com>\n",
      "Date:   Fri Apr 26 18:10:33 2019 +0800\n",
      "\n",
      "    Add cake\n",
      "\n",
      "\u001b[33mcommit 840d35233a95f9a3bd3a079d846c396e88389507\u001b[m\n",
      "Author: doer <499361328@qq.com>\n",
      "Date:   Fri Apr 26 18:09:24 2019 +0800\n",
      "\n",
      "    First commit!\n"
     ]
    }
   ],
   "source": [
    "!git log"
   ]
  },
  {
   "cell_type": "code",
   "execution_count": null,
   "metadata": {},
   "outputs": [],
   "source": []
  }
 ],
 "metadata": {
  "kernelspec": {
   "display_name": "python_dev",
   "language": "python",
   "name": "python_dev"
  },
  "language_info": {
   "codemirror_mode": {
    "name": "ipython",
    "version": 3
   },
   "file_extension": ".py",
   "mimetype": "text/x-python",
   "name": "python",
   "nbconvert_exporter": "python",
   "pygments_lexer": "ipython3",
   "version": "3.7.3"
  }
 },
 "nbformat": 4,
 "nbformat_minor": 2
}
