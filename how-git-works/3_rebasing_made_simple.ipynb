{
 "cells": [
  {
   "cell_type": "markdown",
   "metadata": {},
   "source": [
    "# 7 Tags in Brief"
   ]
  },
  {
   "cell_type": "code",
   "execution_count": 5,
   "metadata": {},
   "outputs": [
    {
     "name": "stdout",
     "output_type": "stream",
     "text": [
      "mytag\n"
     ]
    }
   ],
   "source": [
    "!git tag"
   ]
  },
  {
   "cell_type": "code",
   "execution_count": 6,
   "metadata": {},
   "outputs": [
    {
     "name": "stdout",
     "output_type": "stream",
     "text": [
      "  lisa\u001b[m\n",
      "* \u001b[32mmaster\u001b[m\n",
      "  nogood\u001b[m\n"
     ]
    }
   ],
   "source": [
    "!git branch"
   ]
  },
  {
   "cell_type": "code",
   "execution_count": 7,
   "metadata": {},
   "outputs": [
    {
     "name": "stdout",
     "output_type": "stream",
     "text": [
      "\u001b[33mcommit ecbebe6601f5730ed6157f95175204cdf4d0542a\u001b[m\u001b[33m (\u001b[m\u001b[1;36mHEAD -> \u001b[m\u001b[1;32mmaster\u001b[m\u001b[33m, \u001b[m\u001b[1;33mtag: mytag\u001b[m\u001b[33m, \u001b[m\u001b[1;32mlisa\u001b[m\u001b[33m)\u001b[m\n",
      "Merge: e268621 007ffe9\n",
      "Author: Paolo Perrotta <paolo.nusco.perrotta@gmail.com>\n",
      "Date:   Sat Oct 3 21:13:50 2015 +0200\n",
      "\n",
      "    Merge branch 'lisa'\n",
      "    \n",
      "    * lisa:\n",
      "      Add Lisa's version of the pie\n"
     ]
    }
   ],
   "source": [
    "!git log -1"
   ]
  },
  {
   "cell_type": "code",
   "execution_count": 8,
   "metadata": {},
   "outputs": [],
   "source": [
    "!git tag dinner"
   ]
  },
  {
   "cell_type": "code",
   "execution_count": 9,
   "metadata": {},
   "outputs": [
    {
     "name": "stdout",
     "output_type": "stream",
     "text": [
      "dinner\n",
      "mytag\n"
     ]
    }
   ],
   "source": [
    "!git tag"
   ]
  },
  {
   "cell_type": "code",
   "execution_count": 10,
   "metadata": {},
   "outputs": [
    {
     "name": "stdout",
     "output_type": "stream",
     "text": [
      "dinner mytag\n"
     ]
    }
   ],
   "source": [
    "!ls .git/refs/tags/"
   ]
  },
  {
   "cell_type": "code",
   "execution_count": 11,
   "metadata": {},
   "outputs": [
    {
     "name": "stdout",
     "output_type": "stream",
     "text": [
      "ecbebe6601f5730ed6157f95175204cdf4d0542a\n"
     ]
    }
   ],
   "source": [
    "!cat .git/refs/tags/dinner"
   ]
  },
  {
   "cell_type": "code",
   "execution_count": 14,
   "metadata": {},
   "outputs": [
    {
     "name": "stdout",
     "output_type": "stream",
     "text": [
      "tree 94ed33b4d6d2e418529b550a74ec860357aa05e6\n",
      "parent e268621595c9af5df65522aaad9a4cffa9430555\n",
      "parent 007ffe9977176cdf4af8928073252ba50125504b\n",
      "author Paolo Perrotta <paolo.nusco.perrotta@gmail.com> 1443899630 +0200\n",
      "committer Paolo Perrotta <paolo.nusco.perrotta@gmail.com> 1443899630 +0200\n",
      "\n",
      "Merge branch 'lisa'\n",
      "\n",
      "* lisa:\n",
      "  Add Lisa's version of the pie\n"
     ]
    }
   ],
   "source": [
    "!git cat-file -p dinner"
   ]
  },
  {
   "cell_type": "code",
   "execution_count": 12,
   "metadata": {},
   "outputs": [
    {
     "name": "stdout",
     "output_type": "stream",
     "text": [
      "3f185d92d1f1e7cd39eb2426c2ad01e74c6a2715\n"
     ]
    }
   ],
   "source": [
    "!cat .git/refs/tags/mytag"
   ]
  },
  {
   "cell_type": "code",
   "execution_count": 15,
   "metadata": {},
   "outputs": [
    {
     "name": "stdout",
     "output_type": "stream",
     "text": [
      "object ecbebe6601f5730ed6157f95175204cdf4d0542a\n",
      "type commit\n",
      "tag mytag\n",
      "tagger Paolo Perrotta <paolo.nusco.perrotta@gmail.com> 1452335880 +0100\n",
      "\n",
      "I love cheesecake\n"
     ]
    }
   ],
   "source": [
    "!git cat-file -p 3f185d92d1f1e7cd39eb2426c2ad01e74c6a2715"
   ]
  },
  {
   "cell_type": "code",
   "execution_count": null,
   "metadata": {},
   "outputs": [],
   "source": []
  }
 ],
 "metadata": {
  "kernelspec": {
   "display_name": "Python 3",
   "language": "python",
   "name": "python3"
  },
  "language_info": {
   "codemirror_mode": {
    "name": "ipython",
    "version": 3
   },
   "file_extension": ".py",
   "mimetype": "text/x-python",
   "name": "python",
   "nbconvert_exporter": "python",
   "pygments_lexer": "ipython3",
   "version": "3.7.3"
  }
 },
 "nbformat": 4,
 "nbformat_minor": 2
}
