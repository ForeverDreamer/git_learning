{
 "cells": [
  {
   "cell_type": "markdown",
   "metadata": {},
   "source": [
    "# 2 A World of Peers"
   ]
  },
  {
   "cell_type": "code",
   "execution_count": 1,
   "metadata": {},
   "outputs": [
    {
     "name": "stdout",
     "output_type": "stream",
     "text": [
      "Cloning into 'git_learning'...\n",
      "remote: Enumerating objects: 26, done.\u001b[K\n",
      "remote: Counting objects: 100% (26/26), done.\u001b[K\n",
      "remote: Compressing objects: 100% (18/18), done.\u001b[K\n",
      "remote: Total 26 (delta 7), reused 19 (delta 3), pack-reused 0\u001b[K\n",
      "Unpacking objects: 100% (26/26), done.\n"
     ]
    }
   ],
   "source": [
    "!git clone https://github.com/ForeverDreamer/git_learning.git"
   ]
  },
  {
   "cell_type": "code",
   "execution_count": null,
   "metadata": {},
   "outputs": [],
   "source": [
    "# cd git_learning"
   ]
  },
  {
   "cell_type": "code",
   "execution_count": 2,
   "metadata": {},
   "outputs": [
    {
     "name": "stdout",
     "output_type": "stream",
     "text": [
      "\u001b[34m.\u001b[m\u001b[m                                   \u001b[34m.ipynb_checkpoints\u001b[m\u001b[m\n",
      "\u001b[34m..\u001b[m\u001b[m                                  4_distributed_version_control.ipynb\n",
      "\u001b[34m.git\u001b[m\u001b[m                                README.md\n",
      ".gitignore                          \u001b[34mhow-git-works\u001b[m\u001b[m\n"
     ]
    }
   ],
   "source": [
    "!ls -a"
   ]
  },
  {
   "cell_type": "code",
   "execution_count": 3,
   "metadata": {},
   "outputs": [
    {
     "name": "stdout",
     "output_type": "stream",
     "text": [
      "HEAD        config      \u001b[34mhooks\u001b[m\u001b[m       \u001b[34minfo\u001b[m\u001b[m        \u001b[34mobjects\u001b[m\u001b[m     \u001b[34mrefs\u001b[m\u001b[m\n",
      "\u001b[34mbranches\u001b[m\u001b[m    description index       \u001b[34mlogs\u001b[m\u001b[m        packed-refs\n"
     ]
    }
   ],
   "source": [
    "!ls .git/"
   ]
  },
  {
   "cell_type": "code",
   "execution_count": 4,
   "metadata": {},
   "outputs": [
    {
     "name": "stdout",
     "output_type": "stream",
     "text": [
      "* \u001b[32mmaster\u001b[m\n"
     ]
    }
   ],
   "source": [
    "!git branch"
   ]
  },
  {
   "cell_type": "code",
   "execution_count": 5,
   "metadata": {},
   "outputs": [
    {
     "name": "stdout",
     "output_type": "stream",
     "text": [
      "\u001b[34m00\u001b[m\u001b[m   \u001b[34m1a\u001b[m\u001b[m   \u001b[34m23\u001b[m\u001b[m   \u001b[34m38\u001b[m\u001b[m   \u001b[34m4d\u001b[m\u001b[m   \u001b[34m5d\u001b[m\u001b[m   \u001b[34m6d\u001b[m\u001b[m   \u001b[34m72\u001b[m\u001b[m   \u001b[34m7c\u001b[m\u001b[m   \u001b[34mae\u001b[m\u001b[m   \u001b[34mbc\u001b[m\u001b[m   \u001b[34me3\u001b[m\u001b[m   \u001b[34mfc\u001b[m\u001b[m   \u001b[34minfo\u001b[m\u001b[m\n",
      "\u001b[34m14\u001b[m\u001b[m   \u001b[34m21\u001b[m\u001b[m   \u001b[34m36\u001b[m\u001b[m   \u001b[34m3e\u001b[m\u001b[m   \u001b[34m5a\u001b[m\u001b[m   \u001b[34m64\u001b[m\u001b[m   \u001b[34m6f\u001b[m\u001b[m   \u001b[34m79\u001b[m\u001b[m   \u001b[34m7f\u001b[m\u001b[m   \u001b[34mba\u001b[m\u001b[m   \u001b[34mc8\u001b[m\u001b[m   \u001b[34me6\u001b[m\u001b[m   \u001b[34mfe\u001b[m\u001b[m   \u001b[34mpack\u001b[m\u001b[m\n"
     ]
    }
   ],
   "source": [
    "!ls .git/objects/"
   ]
  },
  {
   "cell_type": "code",
   "execution_count": 6,
   "metadata": {},
   "outputs": [
    {
     "name": "stdout",
     "output_type": "stream",
     "text": [
      "4_distributed_version_control.ipynb \u001b[34mhow-git-works\u001b[m\u001b[m\n",
      "README.md\n"
     ]
    }
   ],
   "source": [
    "!ls"
   ]
  },
  {
   "cell_type": "markdown",
   "metadata": {},
   "source": [
    "# 3 Local and Remote"
   ]
  },
  {
   "cell_type": "code",
   "execution_count": 7,
   "metadata": {},
   "outputs": [
    {
     "name": "stdout",
     "output_type": "stream",
     "text": [
      "[core]\n",
      "\trepositoryformatversion = 0\n",
      "\tfilemode = true\n",
      "\tbare = false\n",
      "\tlogallrefupdates = true\n",
      "\tignorecase = true\n",
      "\tprecomposeunicode = true\n",
      "[remote \"origin\"]\n",
      "\turl = https://github.com/ForeverDreamer/git_learning.git\n",
      "\tfetch = +refs/heads/*:refs/remotes/origin/*\n",
      "[branch \"master\"]\n",
      "\tremote = origin\n",
      "\tmerge = refs/heads/master\n"
     ]
    }
   ],
   "source": [
    "!cat .git/config"
   ]
  },
  {
   "cell_type": "code",
   "execution_count": 8,
   "metadata": {},
   "outputs": [
    {
     "name": "stdout",
     "output_type": "stream",
     "text": [
      "* \u001b[32mmaster\u001b[m\n"
     ]
    }
   ],
   "source": [
    "!git branch"
   ]
  },
  {
   "cell_type": "code",
   "execution_count": 9,
   "metadata": {},
   "outputs": [
    {
     "name": "stdout",
     "output_type": "stream",
     "text": [
      "* \u001b[32mmaster\u001b[m\n",
      "  \u001b[31mremotes/origin/HEAD\u001b[m -> origin/master\n",
      "  \u001b[31mremotes/origin/master\u001b[m\n"
     ]
    }
   ],
   "source": [
    "!git branch --all"
   ]
  },
  {
   "cell_type": "code",
   "execution_count": 10,
   "metadata": {},
   "outputs": [
    {
     "name": "stdout",
     "output_type": "stream",
     "text": [
      "7265ede6ae54bd42fa91ecb6c61b5abfa2ee5416 refs/heads/master\n",
      "7265ede6ae54bd42fa91ecb6c61b5abfa2ee5416 refs/remotes/origin/master\n"
     ]
    }
   ],
   "source": [
    "!git show-ref master"
   ]
  },
  {
   "cell_type": "code",
   "execution_count": 11,
   "metadata": {},
   "outputs": [
    {
     "name": "stdout",
     "output_type": "stream",
     "text": [
      "7265ede6ae54bd42fa91ecb6c61b5abfa2ee5416 refs/remotes/origin/HEAD\n"
     ]
    }
   ],
   "source": [
    "!git show-ref HEAD"
   ]
  },
  {
   "cell_type": "code",
   "execution_count": null,
   "metadata": {},
   "outputs": [],
   "source": []
  }
 ],
 "metadata": {
  "kernelspec": {
   "display_name": "Python 3",
   "language": "python",
   "name": "python3"
  },
  "language_info": {
   "codemirror_mode": {
    "name": "ipython",
    "version": 3
   },
   "file_extension": ".py",
   "mimetype": "text/x-python",
   "name": "python",
   "nbconvert_exporter": "python",
   "pygments_lexer": "ipython3",
   "version": "3.7.3"
  }
 },
 "nbformat": 4,
 "nbformat_minor": 2
}
