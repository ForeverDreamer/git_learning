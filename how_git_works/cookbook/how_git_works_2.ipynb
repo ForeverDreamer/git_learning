{
 "cells": [
  {
   "cell_type": "markdown",
   "metadata": {},
   "source": [
    "# 1 Git Is Not What You Think"
   ]
  },
  {
   "cell_type": "markdown",
   "metadata": {},
   "source": [
    "### 1.3 First Commit"
   ]
  },
  {
   "cell_type": "code",
   "execution_count": 1,
   "metadata": {},
   "outputs": [
    {
     "name": "stdout",
     "output_type": "stream",
     "text": [
      "how_git_works_2.ipynb  menu.txt  recipes\r\n"
     ]
    }
   ],
   "source": [
    "!ls"
   ]
  },
  {
   "cell_type": "code",
   "execution_count": 2,
   "metadata": {},
   "outputs": [
    {
     "name": "stdout",
     "output_type": "stream",
     "text": [
      "Apple Pie\r\n"
     ]
    }
   ],
   "source": [
    "!cat menu.txt"
   ]
  },
  {
   "cell_type": "code",
   "execution_count": 3,
   "metadata": {},
   "outputs": [
    {
     "name": "stdout",
     "output_type": "stream",
     "text": [
      "apple_pie.txt  README.txt\r\n"
     ]
    }
   ],
   "source": [
    "!ls recipes/"
   ]
  },
  {
   "cell_type": "code",
   "execution_count": 4,
   "metadata": {},
   "outputs": [
    {
     "name": "stdout",
     "output_type": "stream",
     "text": [
      "Put your recipes in this directory, one recipe per file.\r\n"
     ]
    }
   ],
   "source": [
    "!cat recipes/README.txt"
   ]
  },
  {
   "cell_type": "code",
   "execution_count": 5,
   "metadata": {},
   "outputs": [
    {
     "name": "stdout",
     "output_type": "stream",
     "text": [
      "Apple Pie\r\n"
     ]
    }
   ],
   "source": [
    "!cat recipes/apple_pie.txt"
   ]
  },
  {
   "cell_type": "code",
   "execution_count": 6,
   "metadata": {},
   "outputs": [
    {
     "name": "stdout",
     "output_type": "stream",
     "text": [
      ".\r\n",
      "├── how_git_works_2.ipynb\r\n",
      "├── menu.txt\r\n",
      "└── recipes\r\n",
      "    ├── apple_pie.txt\r\n",
      "    └── README.txt\r\n",
      "\r\n",
      "1 directory, 4 files\r\n"
     ]
    }
   ],
   "source": [
    "!tree "
   ]
  },
  {
   "cell_type": "code",
   "execution_count": 7,
   "metadata": {},
   "outputs": [
    {
     "name": "stdout",
     "output_type": "stream",
     "text": [
      "Initialized empty Git repository in /home/hadoop/PycharmProjects/how_git_works/cookbook/.git/\r\n"
     ]
    }
   ],
   "source": [
    "!git init"
   ]
  },
  {
   "cell_type": "code",
   "execution_count": 8,
   "metadata": {},
   "outputs": [
    {
     "name": "stdout",
     "output_type": "stream",
     "text": [
      ".  ..  .git  how_git_works_2.ipynb  .ipynb_checkpoints\tmenu.txt  recipes\r\n"
     ]
    }
   ],
   "source": [
    "!ls -a"
   ]
  },
  {
   "cell_type": "code",
   "execution_count": 9,
   "metadata": {},
   "outputs": [
    {
     "name": "stdout",
     "output_type": "stream",
     "text": [
      "info  pack\r\n"
     ]
    }
   ],
   "source": [
    "!ls .git/objects/"
   ]
  },
  {
   "cell_type": "code",
   "execution_count": 14,
   "metadata": {},
   "outputs": [
    {
     "name": "stdout",
     "output_type": "stream",
     "text": [
      "On branch master\r\n",
      "\r\n",
      "Initial commit\r\n",
      "\r\n",
      "Untracked files:\r\n",
      "  (use \"git add <file>...\" to include in what will be committed)\r\n",
      "\r\n",
      "\t\u001b[31mmenu.txt\u001b[m\r\n",
      "\t\u001b[31mrecipes/\u001b[m\r\n",
      "\r\n",
      "nothing added to commit but untracked files present (use \"git add\" to track)\r\n"
     ]
    }
   ],
   "source": [
    "!git status"
   ]
  },
  {
   "cell_type": "code",
   "execution_count": 15,
   "metadata": {},
   "outputs": [],
   "source": [
    "!git add menu.txt"
   ]
  },
  {
   "cell_type": "code",
   "execution_count": 16,
   "metadata": {},
   "outputs": [],
   "source": [
    "!git add recipes/"
   ]
  },
  {
   "cell_type": "code",
   "execution_count": 17,
   "metadata": {},
   "outputs": [
    {
     "name": "stdout",
     "output_type": "stream",
     "text": [
      "On branch master\r\n",
      "\r\n",
      "Initial commit\r\n",
      "\r\n",
      "Changes to be committed:\r\n",
      "  (use \"git rm --cached <file>...\" to unstage)\r\n",
      "\r\n",
      "\t\u001b[32mnew file:   menu.txt\u001b[m\r\n",
      "\t\u001b[32mnew file:   recipes/README.txt\u001b[m\r\n",
      "\t\u001b[32mnew file:   recipes/apple_pie.txt\u001b[m\r\n",
      "\r\n"
     ]
    }
   ],
   "source": [
    "!git status"
   ]
  },
  {
   "cell_type": "code",
   "execution_count": 18,
   "metadata": {},
   "outputs": [
    {
     "name": "stdout",
     "output_type": "stream",
     "text": [
      "[master (root-commit) b05368a] First commit!\r\n",
      " 3 files changed, 3 insertions(+)\r\n",
      " create mode 100644 menu.txt\r\n",
      " create mode 100644 recipes/README.txt\r\n",
      " create mode 100644 recipes/apple_pie.txt\r\n"
     ]
    }
   ],
   "source": [
    "!git commit -m \"First commit!\""
   ]
  },
  {
   "cell_type": "code",
   "execution_count": 19,
   "metadata": {},
   "outputs": [
    {
     "name": "stdout",
     "output_type": "stream",
     "text": [
      "On branch master\r\n",
      "nothing to commit, working tree clean\r\n"
     ]
    }
   ],
   "source": [
    "!git status"
   ]
  },
  {
   "cell_type": "code",
   "execution_count": 20,
   "metadata": {},
   "outputs": [
    {
     "name": "stdout",
     "output_type": "stream",
     "text": [
      "\u001b[33mcommit b05368a7fd531c1a241c5d8b3d3609302e778590\u001b[m\r\n",
      "Author: hadoop <hadoop@tedu.hadoop03.com>\r\n",
      "Date:   Wed Apr 10 01:04:38 2019 +0800\r\n",
      "\r\n",
      "    First commit!\r\n"
     ]
    }
   ],
   "source": [
    "!git log"
   ]
  },
  {
   "cell_type": "code",
   "execution_count": 21,
   "metadata": {},
   "outputs": [
    {
     "name": "stdout",
     "output_type": "stream",
     "text": [
      "23  36\t3e  b0\tbe  info  pack\r\n"
     ]
    }
   ],
   "source": [
    "!ls .git/objects/"
   ]
  },
  {
   "cell_type": "code",
   "execution_count": 22,
   "metadata": {},
   "outputs": [
    {
     "name": "stdout",
     "output_type": "stream",
     "text": [
      "tree be4d5bfce489a2591e7fed5c672f9e52cd695a43\r\n",
      "author hadoop <hadoop@tedu.hadoop03.com> 1554829478 +0800\r\n",
      "committer hadoop <hadoop@tedu.hadoop03.com> 1554829478 +0800\r\n",
      "\r\n",
      "First commit!\r\n"
     ]
    }
   ],
   "source": [
    "!git cat-file -p b05368a7fd531c1a241c5d8b3d3609302e778590"
   ]
  },
  {
   "cell_type": "code",
   "execution_count": 23,
   "metadata": {},
   "outputs": [
    {
     "name": "stdout",
     "output_type": "stream",
     "text": [
      "100644 blob 23991897e13e47ed0adb91a0082c31c82fe0cbe5\tmenu.txt\r\n",
      "040000 tree 3ee76fde69b730530f1682f1f51789e89cf30500\trecipes\r\n"
     ]
    }
   ],
   "source": [
    "!git cat-file -p be4d5bfce489a2591e7fed5c672f9e52cd695a43"
   ]
  },
  {
   "cell_type": "code",
   "execution_count": 27,
   "metadata": {},
   "outputs": [
    {
     "name": "stdout",
     "output_type": "stream",
     "text": [
      "Apple Pie\r\n"
     ]
    }
   ],
   "source": [
    "!git cat-file -p 23991897e13e47ed0adb91a0082c31c82fe0cbe5"
   ]
  },
  {
   "cell_type": "code",
   "execution_count": 28,
   "metadata": {},
   "outputs": [
    {
     "name": "stdout",
     "output_type": "stream",
     "text": [
      "100644 blob 361af858632ee7d8d8f9c4022ccaf61fc8d4799c\tREADME.txt\r\n",
      "100644 blob 23991897e13e47ed0adb91a0082c31c82fe0cbe5\tapple_pie.txt\r\n"
     ]
    }
   ],
   "source": [
    "!git cat-file -p 3ee76fde69b730530f1682f1f51789e89cf30500"
   ]
  },
  {
   "cell_type": "code",
   "execution_count": 29,
   "metadata": {},
   "outputs": [
    {
     "name": "stdout",
     "output_type": "stream",
     "text": [
      "Put your recipes in this directory, one recipe per file.\r\n"
     ]
    }
   ],
   "source": [
    "!git cat-file -p 361af858632ee7d8d8f9c4022ccaf61fc8d4799c"
   ]
  },
  {
   "cell_type": "code",
   "execution_count": 30,
   "metadata": {},
   "outputs": [
    {
     "name": "stdout",
     "output_type": "stream",
     "text": [
      "Apple Pie\r\n"
     ]
    }
   ],
   "source": [
    "!git cat-file -p 23991897e13e47ed0adb91a0082c31c82fe0cbe5"
   ]
  },
  {
   "cell_type": "code",
   "execution_count": null,
   "metadata": {},
   "outputs": [],
   "source": []
  }
 ],
 "metadata": {
  "kernelspec": {
   "display_name": "Python (python_tarena)",
   "language": "python",
   "name": "python_tarena"
  },
  "language_info": {
   "codemirror_mode": {
    "name": "ipython",
    "version": 3
   },
   "file_extension": ".py",
   "mimetype": "text/x-python",
   "name": "python",
   "nbconvert_exporter": "python",
   "pygments_lexer": "ipython3",
   "version": "3.5.6"
  }
 },
 "nbformat": 4,
 "nbformat_minor": 2
}
