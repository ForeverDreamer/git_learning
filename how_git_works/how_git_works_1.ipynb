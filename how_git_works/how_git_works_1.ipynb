{
 "cells": [
  {
   "cell_type": "markdown",
   "metadata": {},
   "source": [
    "# 1 Git Is Not What You Think"
   ]
  },
  {
   "cell_type": "markdown",
   "metadata": {},
   "source": [
    "### 1.1 Meet SHA1"
   ]
  },
  {
   "cell_type": "code",
   "execution_count": 1,
   "metadata": {},
   "outputs": [
    {
     "name": "stdout",
     "output_type": "stream",
     "text": [
      "Apple Pie\n"
     ]
    }
   ],
   "source": [
    "!echo \"Apple Pie\""
   ]
  },
  {
   "cell_type": "code",
   "execution_count": 2,
   "metadata": {},
   "outputs": [
    {
     "name": "stdout",
     "output_type": "stream",
     "text": [
      "23991897e13e47ed0adb91a0082c31c82fe0cbe5\n"
     ]
    }
   ],
   "source": [
    "!echo \"Apple Pie\" | git hash-object --stdin"
   ]
  },
  {
   "cell_type": "code",
   "execution_count": 3,
   "metadata": {},
   "outputs": [
    {
     "name": "stdout",
     "output_type": "stream",
     "text": [
      "ecdb6102c701aff72087d2239a60154b3e03fe8e\n"
     ]
    }
   ],
   "source": [
    "!echo \"Apple Pie\\n\" | git hash-object --stdin"
   ]
  },
  {
   "cell_type": "markdown",
   "metadata": {},
   "source": [
    "### 1.2 Storing Things"
   ]
  },
  {
   "cell_type": "code",
   "execution_count": 4,
   "metadata": {},
   "outputs": [
    {
     "name": "stdout",
     "output_type": "stream",
     "text": [
      "Initialized empty Git repository in /home/hadoop/PycharmProjects/how_git_works/.git/\n"
     ]
    }
   ],
   "source": [
    "!git init"
   ]
  },
  {
   "cell_type": "code",
   "execution_count": 5,
   "metadata": {},
   "outputs": [
    {
     "name": "stdout",
     "output_type": "stream",
     "text": [
      ".  ..  cookbook  .git  how_git_works_1.ipynb  .ipynb_checkpoints\n"
     ]
    }
   ],
   "source": [
    "!ls -a"
   ]
  },
  {
   "cell_type": "code",
   "execution_count": 6,
   "metadata": {},
   "outputs": [
    {
     "name": "stdout",
     "output_type": "stream",
     "text": [
      "23991897e13e47ed0adb91a0082c31c82fe0cbe5\n"
     ]
    }
   ],
   "source": [
    "# write sha1 to git database\n",
    "!echo \"Apple Pie\" | git hash-object --stdin -w"
   ]
  },
  {
   "cell_type": "code",
   "execution_count": 7,
   "metadata": {},
   "outputs": [
    {
     "name": "stdout",
     "output_type": "stream",
     "text": [
      "23  info  pack\n"
     ]
    }
   ],
   "source": [
    "!ls .git/objects/"
   ]
  },
  {
   "cell_type": "code",
   "execution_count": 8,
   "metadata": {},
   "outputs": [
    {
     "name": "stdout",
     "output_type": "stream",
     "text": [
      "991897e13e47ed0adb91a0082c31c82fe0cbe5\n"
     ]
    }
   ],
   "source": [
    "!ls .git/objects/23/"
   ]
  },
  {
   "cell_type": "code",
   "execution_count": 9,
   "metadata": {},
   "outputs": [
    {
     "name": "stdout",
     "output_type": "stream",
     "text": [
      "blob\n"
     ]
    }
   ],
   "source": [
    "# query type\n",
    "!git cat-file 23991897e13e47ed0adb91a0082c31c82fe0cbe5 -t"
   ]
  },
  {
   "cell_type": "code",
   "execution_count": 10,
   "metadata": {},
   "outputs": [
    {
     "name": "stdout",
     "output_type": "stream",
     "text": [
      "Apple Pie\n"
     ]
    }
   ],
   "source": [
    "# query data in pretty format\n",
    "!git cat-file 23991897e13e47ed0adb91a0082c31c82fe0cbe5 -p"
   ]
  }
 ],
 "metadata": {
  "kernelspec": {
   "display_name": "Python 3",
   "language": "python",
   "name": "python3"
  },
  "language_info": {
   "codemirror_mode": {
    "name": "ipython",
    "version": 3
   },
   "file_extension": ".py",
   "mimetype": "text/x-python",
   "name": "python",
   "nbconvert_exporter": "python",
   "pygments_lexer": "ipython3",
   "version": "3.6.7"
  }
 },
 "nbformat": 4,
 "nbformat_minor": 2
}
