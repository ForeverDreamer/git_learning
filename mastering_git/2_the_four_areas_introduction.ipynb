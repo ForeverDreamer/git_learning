{
 "cells": [
  {
   "cell_type": "markdown",
   "metadata": {},
   "source": [
    "# 4 The Working Area"
   ]
  },
  {
   "cell_type": "code",
   "execution_count": 1,
   "metadata": {},
   "outputs": [
    {
     "name": "stdout",
     "output_type": "stream",
     "text": [
      "\u001b[01;34m.\u001b[00m\n",
      "├── 2_the_four_areas_introduction.ipynb\n",
      "├── menu.txt\n",
      "└── \u001b[01;34mrecipes\u001b[00m\n",
      "    ├── README.txt\n",
      "    ├── apple_pie.txt\n",
      "    └── spaghetti_alla_carbonara.txt\n",
      "\n",
      "1 directory, 5 files\n"
     ]
    }
   ],
   "source": [
    "!tree"
   ]
  },
  {
   "cell_type": "markdown",
   "metadata": {},
   "source": [
    "# 5 The Repository"
   ]
  },
  {
   "cell_type": "code",
   "execution_count": 2,
   "metadata": {},
   "outputs": [
    {
     "name": "stdout",
     "output_type": "stream",
     "text": [
      "\u001b[34m.\u001b[m\u001b[m                                   \u001b[34m.ipynb_checkpoints\u001b[m\u001b[m\n",
      "\u001b[34m..\u001b[m\u001b[m                                  2_the_four_areas_introduction.ipynb\n",
      "\u001b[34m.git\u001b[m\u001b[m                                menu.txt\n",
      ".gitignore                          \u001b[34mrecipes\u001b[m\u001b[m\n"
     ]
    }
   ],
   "source": [
    "!ls -a"
   ]
  },
  {
   "cell_type": "code",
   "execution_count": 3,
   "metadata": {},
   "outputs": [
    {
     "name": "stdout",
     "output_type": "stream",
     "text": [
      "COMMIT_EDITMSG description    \u001b[34minfo\u001b[m\u001b[m           packed-refs\n",
      "HEAD           \u001b[34mhooks\u001b[m\u001b[m          \u001b[34mlogs\u001b[m\u001b[m           \u001b[34mrefs\u001b[m\u001b[m\n",
      "config         index          \u001b[34mobjects\u001b[m\u001b[m\n"
     ]
    }
   ],
   "source": [
    "!ls .git/"
   ]
  },
  {
   "cell_type": "code",
   "execution_count": 6,
   "metadata": {},
   "outputs": [
    {
     "name": "stdout",
     "output_type": "stream",
     "text": [
      "\u001b[34m00\u001b[m\u001b[m   \u001b[34m14\u001b[m\u001b[m   \u001b[34m2f\u001b[m\u001b[m   \u001b[34m3e\u001b[m\u001b[m   \u001b[34m53\u001b[m\u001b[m   \u001b[34m5a\u001b[m\u001b[m   \u001b[34m5d\u001b[m\u001b[m   \u001b[34m89\u001b[m\u001b[m   \u001b[34m93\u001b[m\u001b[m   \u001b[34ma8\u001b[m\u001b[m   \u001b[34mbe\u001b[m\u001b[m   \u001b[34mcc\u001b[m\u001b[m   \u001b[34md8\u001b[m\u001b[m   \u001b[34me7\u001b[m\u001b[m   \u001b[34mef\u001b[m\u001b[m   \u001b[34mfc\u001b[m\u001b[m\n",
      "\u001b[34m05\u001b[m\u001b[m   \u001b[34m23\u001b[m\u001b[m   \u001b[34m36\u001b[m\u001b[m   \u001b[34m40\u001b[m\u001b[m   \u001b[34m57\u001b[m\u001b[m   \u001b[34m5b\u001b[m\u001b[m   \u001b[34m6e\u001b[m\u001b[m   \u001b[34m8b\u001b[m\u001b[m   \u001b[34m94\u001b[m\u001b[m   \u001b[34maa\u001b[m\u001b[m   \u001b[34mbf\u001b[m\u001b[m   \u001b[34mce\u001b[m\u001b[m   \u001b[34me2\u001b[m\u001b[m   \u001b[34mea\u001b[m\u001b[m   \u001b[34mf1\u001b[m\u001b[m   \u001b[34minfo\u001b[m\u001b[m\n",
      "\u001b[34m11\u001b[m\u001b[m   \u001b[34m29\u001b[m\u001b[m   \u001b[34m3d\u001b[m\u001b[m   \u001b[34m4d\u001b[m\u001b[m   \u001b[34m59\u001b[m\u001b[m   \u001b[34m5c\u001b[m\u001b[m   \u001b[34m71\u001b[m\u001b[m   \u001b[34m92\u001b[m\u001b[m   \u001b[34m98\u001b[m\u001b[m   \u001b[34maf\u001b[m\u001b[m   \u001b[34mca\u001b[m\u001b[m   \u001b[34md1\u001b[m\u001b[m   \u001b[34me5\u001b[m\u001b[m   \u001b[34mec\u001b[m\u001b[m   \u001b[34mf3\u001b[m\u001b[m   \u001b[34mpack\u001b[m\u001b[m\n"
     ]
    }
   ],
   "source": [
    "# including files, directories, commits\n",
    "!ls .git/objects/"
   ]
  },
  {
   "cell_type": "markdown",
   "metadata": {},
   "source": [
    "# 6 The Index"
   ]
  },
  {
   "cell_type": "code",
   "execution_count": 12,
   "metadata": {},
   "outputs": [
    {
     "name": "stdout",
     "output_type": "stream",
     "text": [
      "On branch master\n",
      "Your branch is up to date with 'origin/master'.\n",
      "\n",
      "nothing to commit, working tree clean\n"
     ]
    }
   ],
   "source": [
    "# Clean means that working area and index contains the same files and folders as the repository.\n",
    "!git status"
   ]
  },
  {
   "cell_type": "code",
   "execution_count": 13,
   "metadata": {},
   "outputs": [
    {
     "name": "stdout",
     "output_type": "stream",
     "text": [
      "2_the_four_areas_introduction.ipynb \u001b[34mrecipes\u001b[m\u001b[m\n",
      "menu.txt\n"
     ]
    }
   ],
   "source": [
    "!ls"
   ]
  },
  {
   "cell_type": "code",
   "execution_count": 1,
   "metadata": {},
   "outputs": [],
   "source": [
    "# git diff: 比较working area 和 index的内容\n",
    "!git diff"
   ]
  },
  {
   "cell_type": "code",
   "execution_count": 2,
   "metadata": {},
   "outputs": [],
   "source": [
    "# git diff --cached: 比较index 和 repository的内容\n",
    "!git diff --cached"
   ]
  }
 ],
 "metadata": {
  "kernelspec": {
   "display_name": "Python 3",
   "language": "python",
   "name": "python3"
  },
  "language_info": {
   "codemirror_mode": {
    "name": "ipython",
    "version": 3
   },
   "file_extension": ".py",
   "mimetype": "text/x-python",
   "name": "python",
   "nbconvert_exporter": "python",
   "pygments_lexer": "ipython3",
   "version": "3.7.3"
  }
 },
 "nbformat": 4,
 "nbformat_minor": 2
}
