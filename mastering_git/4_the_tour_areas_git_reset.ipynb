{
 "cells": [
  {
   "cell_type": "markdown",
   "metadata": {},
   "source": [
    "# 2 A Reset Example"
   ]
  },
  {
   "cell_type": "code",
   "execution_count": 3,
   "metadata": {},
   "outputs": [
    {
     "name": "stdout",
     "output_type": "stream",
     "text": [
      "On branch master\n",
      "nothing to commit, working tree clean\n"
     ]
    }
   ],
   "source": [
    "!git status"
   ]
  },
  {
   "cell_type": "code",
   "execution_count": 4,
   "metadata": {},
   "outputs": [
    {
     "name": "stdout",
     "output_type": "stream",
     "text": [
      "\u001b[33mcommit bb0780938eee508610fd1fd43bbc201dbb1e00b0\u001b[m\u001b[33m (\u001b[m\u001b[1;36mHEAD -> \u001b[m\u001b[1;32mmaster\u001b[m\u001b[33m)\u001b[m\n",
      "Author: doer <499361328@qq.com>\n",
      "Date:   Wed May 1 19:04:56 2019 +0800\n",
      "\n",
      "    Well, I changed my mind about that renaming\n",
      "\n",
      "\u001b[33mcommit 08746a37e2e65a673417346ab0a51d8f01b38815\u001b[m\n",
      "Author: doer <499361328@qq.com>\n",
      "Date:   Wed May 1 19:02:12 2019 +0800\n",
      "\n",
      "    Use Markdown for the menu\n",
      "\n",
      "\u001b[33mcommit ecbebe6601f5730ed6157f95175204cdf4d0542a\u001b[m\u001b[33m (\u001b[m\u001b[1;33mtag: mytag\u001b[m\u001b[33m, \u001b[m\u001b[1;32mlisa\u001b[m\u001b[33m)\u001b[m\n",
      "Merge: e268621 007ffe9\n",
      "Author: Paolo Perrotta <paolo.nusco.perrotta@gmail.com>\n",
      "Date:   Sat Oct 3 21:13:50 2015 +0200\n",
      "\n",
      "    Merge branch 'lisa'\n",
      "    \n",
      "    * lisa:\n",
      "      Add Lisa's version of the pie\n",
      "\n",
      "\u001b[33mcommit 007ffe9977176cdf4af8928073252ba50125504b\u001b[m\n",
      "Author: Paolo Perrotta <paolo.nusco.perrotta@gmail.com>\n",
      "Date:   Sat Oct 3 18:53:09 2015 +0200\n",
      "\n",
      "    Add Lisa's version of the pie\n",
      "\n",
      "\u001b[33mcommit e268621595c9af5df65522aaad9a4cffa9430555\u001b[m\n",
      "Author: Paolo Perrotta <paolo.nusco.perrotta@gmail.com>\n",
      "Date:   Sat Oct 3 18:40:11 2015 +0200\n",
      "\n",
      "    Add recipe\n",
      "\n",
      "\u001b[33mcommit 5720fdf166e827a0ced9277cd5ea4951aa33f51f\u001b[m\n",
      "Author: Paolo Perrotta <paolo.nusco.perrotta@gmail.com>\n",
      "Date:   Sat Sep 26 15:58:16 2015 +0200\n",
      "\n",
      "    Add cake\n",
      "\n",
      "\u001b[33mcommit 11779f423b047faefe55abb3fb2911d556fba195\u001b[m\n",
      "Author: Paolo \"Nusco\" Perrotta <paolo.nusco.perrotta@gmail.com>\n",
      "Date:   Wed May 13 18:45:03 2015 +0200\n",
      "\n",
      "    First commit!\n"
     ]
    }
   ],
   "source": [
    "!git log"
   ]
  },
  {
   "cell_type": "code",
   "execution_count": 5,
   "metadata": {},
   "outputs": [],
   "source": [
    "# 修改menu.txt"
   ]
  },
  {
   "cell_type": "code",
   "execution_count": 7,
   "metadata": {},
   "outputs": [
    {
     "name": "stdout",
     "output_type": "stream",
     "text": [
      "Apple Pie\n",
      "Cheesecake\n",
      "Strawberry Squids"
     ]
    }
   ],
   "source": [
    "!cat menu.txt"
   ]
  },
  {
   "cell_type": "code",
   "execution_count": 8,
   "metadata": {},
   "outputs": [],
   "source": [
    "!git add menu.txt"
   ]
  },
  {
   "cell_type": "code",
   "execution_count": 9,
   "metadata": {},
   "outputs": [
    {
     "name": "stdout",
     "output_type": "stream",
     "text": [
      "On branch master\n",
      "Changes to be committed:\n",
      "  (use \"git reset HEAD <file>...\" to unstage)\n",
      "\n",
      "\t\u001b[32mmodified:   menu.txt\u001b[m\n",
      "\n"
     ]
    }
   ],
   "source": [
    "!git status"
   ]
  },
  {
   "cell_type": "code",
   "execution_count": 10,
   "metadata": {},
   "outputs": [
    {
     "name": "stdout",
     "output_type": "stream",
     "text": [
      "[master 8709f1d] Add strawberry squids to menu\n",
      " 1 file changed, 1 insertion(+)\n"
     ]
    }
   ],
   "source": [
    "!git commit -m \"Add strawberry squids to menu\""
   ]
  },
  {
   "cell_type": "code",
   "execution_count": 11,
   "metadata": {},
   "outputs": [
    {
     "name": "stdout",
     "output_type": "stream",
     "text": [
      "\u001b[33mcommit 8709f1d7462bb1ad4b97b5e559f58c8aaaa4522a\u001b[m\u001b[33m (\u001b[m\u001b[1;36mHEAD -> \u001b[m\u001b[1;32mmaster\u001b[m\u001b[33m)\u001b[m\n",
      "Author: doer <499361328@qq.com>\n",
      "Date:   Sun Jun 16 11:23:23 2019 +0800\n",
      "\n",
      "    Add strawberry squids to menu\n",
      "\n",
      "\u001b[33mcommit bb0780938eee508610fd1fd43bbc201dbb1e00b0\u001b[m\n",
      "Author: doer <499361328@qq.com>\n",
      "Date:   Wed May 1 19:04:56 2019 +0800\n",
      "\n",
      "    Well, I changed my mind about that renaming\n",
      "\n",
      "\u001b[33mcommit 08746a37e2e65a673417346ab0a51d8f01b38815\u001b[m\n",
      "Author: doer <499361328@qq.com>\n",
      "Date:   Wed May 1 19:02:12 2019 +0800\n",
      "\n",
      "    Use Markdown for the menu\n",
      "\n",
      "\u001b[33mcommit ecbebe6601f5730ed6157f95175204cdf4d0542a\u001b[m\u001b[33m (\u001b[m\u001b[1;33mtag: mytag\u001b[m\u001b[33m, \u001b[m\u001b[1;32mlisa\u001b[m\u001b[33m)\u001b[m\n",
      "Merge: e268621 007ffe9\n",
      "Author: Paolo Perrotta <paolo.nusco.perrotta@gmail.com>\n",
      "Date:   Sat Oct 3 21:13:50 2015 +0200\n",
      "\n",
      "    Merge branch 'lisa'\n",
      "    \n",
      "    * lisa:\n",
      "      Add Lisa's version of the pie\n",
      "\n",
      "\u001b[33mcommit 007ffe9977176cdf4af8928073252ba50125504b\u001b[m\n",
      "Author: Paolo Perrotta <paolo.nusco.perrotta@gmail.com>\n",
      "Date:   Sat Oct 3 18:53:09 2015 +0200\n",
      "\n",
      "    Add Lisa's version of the pie\n",
      "\n",
      "\u001b[33mcommit e268621595c9af5df65522aaad9a4cffa9430555\u001b[m\n",
      "Author: Paolo Perrotta <paolo.nusco.perrotta@gmail.com>\n",
      "Date:   Sat Oct 3 18:40:11 2015 +0200\n",
      "\n",
      "    Add recipe\n",
      "\n",
      "\u001b[33mcommit 5720fdf166e827a0ced9277cd5ea4951aa33f51f\u001b[m\n",
      "Author: Paolo Perrotta <paolo.nusco.perrotta@gmail.com>\n",
      "Date:   Sat Sep 26 15:58:16 2015 +0200\n",
      "\n",
      "    Add cake\n",
      "\n",
      "\u001b[33mcommit 11779f423b047faefe55abb3fb2911d556fba195\u001b[m\n",
      "Author: Paolo \"Nusco\" Perrotta <paolo.nusco.perrotta@gmail.com>\n",
      "Date:   Wed May 13 18:45:03 2015 +0200\n",
      "\n",
      "    First commit!\n"
     ]
    }
   ],
   "source": [
    "!git log"
   ]
  },
  {
   "cell_type": "code",
   "execution_count": 12,
   "metadata": {},
   "outputs": [],
   "source": [
    "# vim recipes/strawberry_squids.txt"
   ]
  },
  {
   "cell_type": "code",
   "execution_count": 13,
   "metadata": {},
   "outputs": [],
   "source": [
    "!git add recipes/"
   ]
  },
  {
   "cell_type": "code",
   "execution_count": 14,
   "metadata": {},
   "outputs": [
    {
     "name": "stdout",
     "output_type": "stream",
     "text": [
      "On branch master\n",
      "Changes to be committed:\n",
      "  (use \"git reset HEAD <file>...\" to unstage)\n",
      "\n",
      "\t\u001b[32mnew file:   recipes/strawberry_squids.txt\u001b[m\n",
      "\n"
     ]
    }
   ],
   "source": [
    "!git status"
   ]
  },
  {
   "cell_type": "code",
   "execution_count": 15,
   "metadata": {},
   "outputs": [
    {
     "name": "stdout",
     "output_type": "stream",
     "text": [
      "[master c5c91b9] Add placeholder recipe for squids\n",
      " 1 file changed, 2 insertions(+)\n",
      " create mode 100644 recipes/strawberry_squids.txt\n"
     ]
    }
   ],
   "source": [
    "!git commit -m \"Add placeholder recipe for squids\""
   ]
  },
  {
   "cell_type": "code",
   "execution_count": 16,
   "metadata": {},
   "outputs": [
    {
     "name": "stdout",
     "output_type": "stream",
     "text": [
      "\u001b[33mcommit c5c91b9ee91b6a3a38ab9404015402303d7ae6fb\u001b[m\u001b[33m (\u001b[m\u001b[1;36mHEAD -> \u001b[m\u001b[1;32mmaster\u001b[m\u001b[33m)\u001b[m\n",
      "Author: doer <499361328@qq.com>\n",
      "Date:   Sun Jun 16 11:28:23 2019 +0800\n",
      "\n",
      "    Add placeholder recipe for squids\n",
      "\n",
      "\u001b[33mcommit 8709f1d7462bb1ad4b97b5e559f58c8aaaa4522a\u001b[m\n",
      "Author: doer <499361328@qq.com>\n",
      "Date:   Sun Jun 16 11:23:23 2019 +0800\n",
      "\n",
      "    Add strawberry squids to menu\n",
      "\n",
      "\u001b[33mcommit bb0780938eee508610fd1fd43bbc201dbb1e00b0\u001b[m\n",
      "Author: doer <499361328@qq.com>\n",
      "Date:   Wed May 1 19:04:56 2019 +0800\n",
      "\n",
      "    Well, I changed my mind about that renaming\n",
      "\n",
      "\u001b[33mcommit 08746a37e2e65a673417346ab0a51d8f01b38815\u001b[m\n",
      "Author: doer <499361328@qq.com>\n",
      "Date:   Wed May 1 19:02:12 2019 +0800\n",
      "\n",
      "    Use Markdown for the menu\n",
      "\n",
      "\u001b[33mcommit ecbebe6601f5730ed6157f95175204cdf4d0542a\u001b[m\u001b[33m (\u001b[m\u001b[1;33mtag: mytag\u001b[m\u001b[33m, \u001b[m\u001b[1;32mlisa\u001b[m\u001b[33m)\u001b[m\n",
      "Merge: e268621 007ffe9\n",
      "Author: Paolo Perrotta <paolo.nusco.perrotta@gmail.com>\n",
      "Date:   Sat Oct 3 21:13:50 2015 +0200\n",
      "\n",
      "    Merge branch 'lisa'\n",
      "    \n",
      "    * lisa:\n",
      "      Add Lisa's version of the pie\n",
      "\n",
      "\u001b[33mcommit 007ffe9977176cdf4af8928073252ba50125504b\u001b[m\n",
      "Author: Paolo Perrotta <paolo.nusco.perrotta@gmail.com>\n",
      "Date:   Sat Oct 3 18:53:09 2015 +0200\n",
      "\n",
      "    Add Lisa's version of the pie\n",
      "\n",
      "\u001b[33mcommit e268621595c9af5df65522aaad9a4cffa9430555\u001b[m\n",
      "Author: Paolo Perrotta <paolo.nusco.perrotta@gmail.com>\n",
      "Date:   Sat Oct 3 18:40:11 2015 +0200\n",
      "\n",
      "    Add recipe\n",
      "\n",
      "\u001b[33mcommit 5720fdf166e827a0ced9277cd5ea4951aa33f51f\u001b[m\n",
      "Author: Paolo Perrotta <paolo.nusco.perrotta@gmail.com>\n",
      "Date:   Sat Sep 26 15:58:16 2015 +0200\n",
      "\n",
      "    Add cake\n",
      "\n",
      "\u001b[33mcommit 11779f423b047faefe55abb3fb2911d556fba195\u001b[m\n",
      "Author: Paolo \"Nusco\" Perrotta <paolo.nusco.perrotta@gmail.com>\n",
      "Date:   Wed May 13 18:45:03 2015 +0200\n",
      "\n",
      "    First commit!\n"
     ]
    }
   ],
   "source": [
    "!git log"
   ]
  },
  {
   "cell_type": "code",
   "execution_count": 17,
   "metadata": {},
   "outputs": [
    {
     "name": "stdout",
     "output_type": "stream",
     "text": [
      "HEAD is now at bb07809 Well, I changed my mind about that renaming\n"
     ]
    }
   ],
   "source": [
    "!git reset --hard bb0780938"
   ]
  },
  {
   "cell_type": "code",
   "execution_count": 18,
   "metadata": {},
   "outputs": [
    {
     "name": "stdout",
     "output_type": "stream",
     "text": [
      "\u001b[33mcommit bb0780938eee508610fd1fd43bbc201dbb1e00b0\u001b[m\u001b[33m (\u001b[m\u001b[1;36mHEAD -> \u001b[m\u001b[1;32mmaster\u001b[m\u001b[33m)\u001b[m\n",
      "Author: doer <499361328@qq.com>\n",
      "Date:   Wed May 1 19:04:56 2019 +0800\n",
      "\n",
      "    Well, I changed my mind about that renaming\n",
      "\n",
      "\u001b[33mcommit 08746a37e2e65a673417346ab0a51d8f01b38815\u001b[m\n",
      "Author: doer <499361328@qq.com>\n",
      "Date:   Wed May 1 19:02:12 2019 +0800\n",
      "\n",
      "    Use Markdown for the menu\n",
      "\n",
      "\u001b[33mcommit ecbebe6601f5730ed6157f95175204cdf4d0542a\u001b[m\u001b[33m (\u001b[m\u001b[1;33mtag: mytag\u001b[m\u001b[33m, \u001b[m\u001b[1;32mlisa\u001b[m\u001b[33m)\u001b[m\n",
      "Merge: e268621 007ffe9\n",
      "Author: Paolo Perrotta <paolo.nusco.perrotta@gmail.com>\n",
      "Date:   Sat Oct 3 21:13:50 2015 +0200\n",
      "\n",
      "    Merge branch 'lisa'\n",
      "    \n",
      "    * lisa:\n",
      "      Add Lisa's version of the pie\n",
      "\n",
      "\u001b[33mcommit 007ffe9977176cdf4af8928073252ba50125504b\u001b[m\n",
      "Author: Paolo Perrotta <paolo.nusco.perrotta@gmail.com>\n",
      "Date:   Sat Oct 3 18:53:09 2015 +0200\n",
      "\n",
      "    Add Lisa's version of the pie\n",
      "\n",
      "\u001b[33mcommit e268621595c9af5df65522aaad9a4cffa9430555\u001b[m\n",
      "Author: Paolo Perrotta <paolo.nusco.perrotta@gmail.com>\n",
      "Date:   Sat Oct 3 18:40:11 2015 +0200\n",
      "\n",
      "    Add recipe\n",
      "\n",
      "\u001b[33mcommit 5720fdf166e827a0ced9277cd5ea4951aa33f51f\u001b[m\n",
      "Author: Paolo Perrotta <paolo.nusco.perrotta@gmail.com>\n",
      "Date:   Sat Sep 26 15:58:16 2015 +0200\n",
      "\n",
      "    Add cake\n",
      "\n",
      "\u001b[33mcommit 11779f423b047faefe55abb3fb2911d556fba195\u001b[m\n",
      "Author: Paolo \"Nusco\" Perrotta <paolo.nusco.perrotta@gmail.com>\n",
      "Date:   Wed May 13 18:45:03 2015 +0200\n",
      "\n",
      "    First commit!\n"
     ]
    }
   ],
   "source": [
    "!git log"
   ]
  },
  {
   "cell_type": "markdown",
   "metadata": {},
   "source": [
    "# 3 More Reset Examples"
   ]
  },
  {
   "cell_type": "code",
   "execution_count": 19,
   "metadata": {},
   "outputs": [
    {
     "name": "stdout",
     "output_type": "stream",
     "text": [
      "On branch master\n",
      "nothing to commit, working tree clean\n"
     ]
    }
   ],
   "source": [
    "!git status"
   ]
  },
  {
   "cell_type": "code",
   "execution_count": 20,
   "metadata": {},
   "outputs": [],
   "source": [
    "# 修改menu.txt"
   ]
  },
  {
   "cell_type": "code",
   "execution_count": 22,
   "metadata": {},
   "outputs": [
    {
     "name": "stdout",
     "output_type": "stream",
     "text": [
      "\u001b[1mdiff --git a/menu.txt b/menu.txt\u001b[m\n",
      "\u001b[1mindex f1fe985..bdf2851 100644\u001b[m\n",
      "\u001b[1m--- a/menu.txt\u001b[m\n",
      "\u001b[1m+++ b/menu.txt\u001b[m\n",
      "\u001b[36m@@ -1,2 +1,3 @@\u001b[m\n",
      " Apple Pie\u001b[m\n",
      " Cheesecake\u001b[m\n",
      "\u001b[32m+\u001b[m\u001b[32mBBQ\u001b[m\n",
      "\\ No newline at end of file\u001b[m\n"
     ]
    }
   ],
   "source": [
    "!git diff"
   ]
  },
  {
   "cell_type": "code",
   "execution_count": 23,
   "metadata": {},
   "outputs": [],
   "source": [
    "!git add menu.txt"
   ]
  },
  {
   "cell_type": "code",
   "execution_count": 24,
   "metadata": {},
   "outputs": [
    {
     "name": "stdout",
     "output_type": "stream",
     "text": [
      "On branch master\n",
      "Changes to be committed:\n",
      "  (use \"git reset HEAD <file>...\" to unstage)\n",
      "\n",
      "\t\u001b[32mmodified:   menu.txt\u001b[m\n",
      "\n"
     ]
    }
   ],
   "source": [
    "!git status"
   ]
  },
  {
   "cell_type": "code",
   "execution_count": 25,
   "metadata": {},
   "outputs": [
    {
     "name": "stdout",
     "output_type": "stream",
     "text": [
      "Unstaged changes after reset:\n",
      "M\tmenu.txt\n"
     ]
    }
   ],
   "source": [
    "!git reset HEAD"
   ]
  },
  {
   "cell_type": "code",
   "execution_count": 26,
   "metadata": {},
   "outputs": [
    {
     "name": "stdout",
     "output_type": "stream",
     "text": [
      "On branch master\n",
      "Changes not staged for commit:\n",
      "  (use \"git add <file>...\" to update what will be committed)\n",
      "  (use \"git checkout -- <file>...\" to discard changes in working directory)\n",
      "\n",
      "\t\u001b[31mmodified:   menu.txt\u001b[m\n",
      "\n",
      "no changes added to commit (use \"git add\" and/or \"git commit -a\")\n"
     ]
    }
   ],
   "source": [
    "!git status"
   ]
  },
  {
   "cell_type": "code",
   "execution_count": 27,
   "metadata": {},
   "outputs": [
    {
     "name": "stdout",
     "output_type": "stream",
     "text": [
      "Apple Pie\n",
      "Cheesecake\n",
      "BBQ"
     ]
    }
   ],
   "source": [
    "!cat menu.txt"
   ]
  },
  {
   "cell_type": "code",
   "execution_count": 28,
   "metadata": {},
   "outputs": [
    {
     "name": "stdout",
     "output_type": "stream",
     "text": [
      "HEAD is now at bb07809 Well, I changed my mind about that renaming\n"
     ]
    }
   ],
   "source": [
    "!git reset --hard HEAD"
   ]
  },
  {
   "cell_type": "code",
   "execution_count": 29,
   "metadata": {},
   "outputs": [
    {
     "name": "stdout",
     "output_type": "stream",
     "text": [
      "On branch master\n",
      "nothing to commit, working tree clean\n"
     ]
    }
   ],
   "source": [
    "!git status"
   ]
  },
  {
   "cell_type": "code",
   "execution_count": 30,
   "metadata": {},
   "outputs": [
    {
     "name": "stdout",
     "output_type": "stream",
     "text": [
      "Apple Pie\n",
      "Cheesecake\n"
     ]
    }
   ],
   "source": [
    "!cat menu.txt"
   ]
  },
  {
   "cell_type": "code",
   "execution_count": null,
   "metadata": {},
   "outputs": [],
   "source": []
  }
 ],
 "metadata": {
  "kernelspec": {
   "display_name": "Python 3",
   "language": "python",
   "name": "python3"
  },
  "language_info": {
   "codemirror_mode": {
    "name": "ipython",
    "version": 3
   },
   "file_extension": ".py",
   "mimetype": "text/x-python",
   "name": "python",
   "nbconvert_exporter": "python",
   "pygments_lexer": "ipython3",
   "version": "3.7.3"
  }
 },
 "nbformat": 4,
 "nbformat_minor": 2
}
