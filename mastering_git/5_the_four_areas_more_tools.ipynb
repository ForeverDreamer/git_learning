{
 "cells": [
  {
   "cell_type": "markdown",
   "metadata": {},
   "source": [
    "# 1 The Stash"
   ]
  },
  {
   "cell_type": "code",
   "execution_count": 1,
   "metadata": {},
   "outputs": [],
   "source": [
    "# touch recipes/guacamole.txt"
   ]
  },
  {
   "cell_type": "code",
   "execution_count": 2,
   "metadata": {},
   "outputs": [
    {
     "name": "stdout",
     "output_type": "stream",
     "text": [
      "README.txt    apple_pie.txt guacamole.txt\n"
     ]
    }
   ],
   "source": [
    "!ls recipes/"
   ]
  },
  {
   "cell_type": "code",
   "execution_count": 3,
   "metadata": {},
   "outputs": [],
   "source": [
    "!git add recipes/guacamole.txt"
   ]
  },
  {
   "cell_type": "code",
   "execution_count": 4,
   "metadata": {},
   "outputs": [
    {
     "name": "stdout",
     "output_type": "stream",
     "text": [
      "On branch master\n",
      "Changes to be committed:\n",
      "  (use \"git reset HEAD <file>...\" to unstage)\n",
      "\n",
      "\t\u001b[32mnew file:   recipes/guacamole.txt\u001b[m\n",
      "\n"
     ]
    }
   ],
   "source": [
    "!git status"
   ]
  },
  {
   "cell_type": "code",
   "execution_count": 5,
   "metadata": {},
   "outputs": [],
   "source": [
    "# vim menu.txt"
   ]
  },
  {
   "cell_type": "code",
   "execution_count": 6,
   "metadata": {},
   "outputs": [
    {
     "name": "stdout",
     "output_type": "stream",
     "text": [
      "Apple Pie\n",
      "Cheesecake\n",
      "Guacamole"
     ]
    }
   ],
   "source": [
    "!cat menu.txt"
   ]
  },
  {
   "cell_type": "code",
   "execution_count": 7,
   "metadata": {},
   "outputs": [
    {
     "name": "stdout",
     "output_type": "stream",
     "text": [
      "On branch master\n",
      "Changes to be committed:\n",
      "  (use \"git reset HEAD <file>...\" to unstage)\n",
      "\n",
      "\t\u001b[32mnew file:   recipes/guacamole.txt\u001b[m\n",
      "\n",
      "Changes not staged for commit:\n",
      "  (use \"git add <file>...\" to update what will be committed)\n",
      "  (use \"git checkout -- <file>...\" to discard changes in working directory)\n",
      "\n",
      "\t\u001b[31mmodified:   menu.txt\u001b[m\n",
      "\n"
     ]
    }
   ],
   "source": [
    "!git status"
   ]
  },
  {
   "cell_type": "code",
   "execution_count": 8,
   "metadata": {},
   "outputs": [
    {
     "name": "stdout",
     "output_type": "stream",
     "text": [
      "Saved working directory and index state WIP on master: bb07809 Well, I changed my mind about that renaming\n"
     ]
    }
   ],
   "source": [
    "!git stash --include-untracked"
   ]
  },
  {
   "cell_type": "code",
   "execution_count": 9,
   "metadata": {},
   "outputs": [
    {
     "name": "stdout",
     "output_type": "stream",
     "text": [
      "On branch master\n",
      "nothing to commit, working tree clean\n"
     ]
    }
   ],
   "source": [
    "!git status"
   ]
  },
  {
   "cell_type": "code",
   "execution_count": 10,
   "metadata": {},
   "outputs": [
    {
     "name": "stdout",
     "output_type": "stream",
     "text": [
      "README.txt    apple_pie.txt\n"
     ]
    }
   ],
   "source": [
    "!ls recipes/"
   ]
  },
  {
   "cell_type": "code",
   "execution_count": 11,
   "metadata": {},
   "outputs": [
    {
     "name": "stdout",
     "output_type": "stream",
     "text": [
      "stash@{0}: WIP on master: bb07809 Well, I changed my mind about that renaming\n"
     ]
    }
   ],
   "source": [
    "!git stash list"
   ]
  },
  {
   "cell_type": "code",
   "execution_count": 12,
   "metadata": {},
   "outputs": [
    {
     "name": "stdout",
     "output_type": "stream",
     "text": [
      "On branch master\n",
      "Changes to be committed:\n",
      "  (use \"git reset HEAD <file>...\" to unstage)\n",
      "\n",
      "\t\u001b[32mnew file:   recipes/guacamole.txt\u001b[m\n",
      "\n",
      "Changes not staged for commit:\n",
      "  (use \"git add <file>...\" to update what will be committed)\n",
      "  (use \"git checkout -- <file>...\" to discard changes in working directory)\n",
      "\n",
      "\t\u001b[31mmodified:   menu.txt\u001b[m\n",
      "\n"
     ]
    }
   ],
   "source": [
    "!git stash apply"
   ]
  },
  {
   "cell_type": "code",
   "execution_count": 13,
   "metadata": {},
   "outputs": [],
   "source": [
    "!git add menu.txt"
   ]
  },
  {
   "cell_type": "code",
   "execution_count": 14,
   "metadata": {},
   "outputs": [
    {
     "name": "stdout",
     "output_type": "stream",
     "text": [
      "Ingredients:\n",
      "Avocados\n",
      "Lime juice\n",
      "Serrano chiles\n",
      "Cilantro\n",
      "Salt\n",
      "Black pepper"
     ]
    }
   ],
   "source": [
    "# 编辑recipes/guacamole.txt\n",
    "!cat recipes/guacamole.txt"
   ]
  },
  {
   "cell_type": "code",
   "execution_count": 15,
   "metadata": {},
   "outputs": [],
   "source": [
    "!git add recipes/guacamole.txt"
   ]
  },
  {
   "cell_type": "code",
   "execution_count": 16,
   "metadata": {},
   "outputs": [
    {
     "name": "stdout",
     "output_type": "stream",
     "text": [
      "On branch master\n",
      "Changes to be committed:\n",
      "  (use \"git reset HEAD <file>...\" to unstage)\n",
      "\n",
      "\t\u001b[32mmodified:   menu.txt\u001b[m\n",
      "\t\u001b[32mnew file:   recipes/guacamole.txt\u001b[m\n",
      "\n"
     ]
    }
   ],
   "source": [
    "!git status"
   ]
  },
  {
   "cell_type": "code",
   "execution_count": 17,
   "metadata": {},
   "outputs": [
    {
     "name": "stdout",
     "output_type": "stream",
     "text": [
      "[master e7e1b0b] Add guacamole\n",
      " 2 files changed, 8 insertions(+)\n",
      " create mode 100644 recipes/guacamole.txt\n"
     ]
    }
   ],
   "source": [
    "!git commit -m \"Add guacamole\""
   ]
  },
  {
   "cell_type": "code",
   "execution_count": 18,
   "metadata": {},
   "outputs": [
    {
     "name": "stdout",
     "output_type": "stream",
     "text": [
      "stash@{0}: WIP on master: bb07809 Well, I changed my mind about that renaming\n"
     ]
    }
   ],
   "source": [
    "!git stash list"
   ]
  },
  {
   "cell_type": "code",
   "execution_count": 19,
   "metadata": {},
   "outputs": [],
   "source": [
    "!git stash clear"
   ]
  },
  {
   "cell_type": "code",
   "execution_count": 20,
   "metadata": {},
   "outputs": [],
   "source": [
    "!git stash list"
   ]
  },
  {
   "cell_type": "markdown",
   "metadata": {},
   "source": [
    "# 2 Solving Conflicts"
   ]
  },
  {
   "cell_type": "code",
   "execution_count": 22,
   "metadata": {},
   "outputs": [
    {
     "name": "stdout",
     "output_type": "stream",
     "text": [
      "Ingredients:\n",
      "Avocados\n",
      "Lime juice\n",
      "Serrano chiles\n",
      "Cilantro\n",
      "Salt\n",
      "Black pepper"
     ]
    }
   ],
   "source": [
    "!cat recipes/guacamole.txt"
   ]
  },
  {
   "cell_type": "code",
   "execution_count": 27,
   "metadata": {},
   "outputs": [
    {
     "name": "stdout",
     "output_type": "stream",
     "text": [
      "  lisa\u001b[m\n",
      "* \u001b[32mmaster\u001b[m\n",
      "  nogood\u001b[m\n"
     ]
    }
   ],
   "source": [
    "!git branch"
   ]
  },
  {
   "cell_type": "code",
   "execution_count": 30,
   "metadata": {},
   "outputs": [],
   "source": [
    "!git branch tomato"
   ]
  },
  {
   "cell_type": "code",
   "execution_count": 31,
   "metadata": {},
   "outputs": [
    {
     "name": "stdout",
     "output_type": "stream",
     "text": [
      "  lisa\u001b[m\n",
      "* \u001b[32mmaster\u001b[m\n",
      "  nogood\u001b[m\n",
      "  tomato\u001b[m\n"
     ]
    }
   ],
   "source": [
    "!git branch"
   ]
  },
  {
   "cell_type": "code",
   "execution_count": 32,
   "metadata": {},
   "outputs": [
    {
     "name": "stdout",
     "output_type": "stream",
     "text": [
      "Switched to branch 'tomato'\n"
     ]
    }
   ],
   "source": [
    "!git checkout tomato"
   ]
  },
  {
   "cell_type": "code",
   "execution_count": 33,
   "metadata": {},
   "outputs": [
    {
     "name": "stdout",
     "output_type": "stream",
     "text": [
      "  lisa\u001b[m\n",
      "  master\u001b[m\n",
      "  nogood\u001b[m\n",
      "* \u001b[32mtomato\u001b[m\n"
     ]
    }
   ],
   "source": [
    "!git branch"
   ]
  },
  {
   "cell_type": "code",
   "execution_count": 34,
   "metadata": {},
   "outputs": [],
   "source": [
    "# 编辑recipes/guacamole.txt"
   ]
  },
  {
   "cell_type": "code",
   "execution_count": 35,
   "metadata": {},
   "outputs": [
    {
     "name": "stdout",
     "output_type": "stream",
     "text": [
      "Ingredients:\n",
      "Avocados\n",
      "Lime juice\n",
      "Serrano chiles\n",
      "Cilantro\n",
      "Salt\n",
      "Black pepper\n",
      "Tomato"
     ]
    }
   ],
   "source": [
    "!cat recipes/guacamole.txt"
   ]
  },
  {
   "cell_type": "code",
   "execution_count": 36,
   "metadata": {},
   "outputs": [],
   "source": [
    "!git add recipes/guacamole.txt"
   ]
  },
  {
   "cell_type": "code",
   "execution_count": 38,
   "metadata": {},
   "outputs": [
    {
     "name": "stdout",
     "output_type": "stream",
     "text": [
      "[tomato 6ceb1cb] Add tomato to guacamole\n",
      " 1 file changed, 2 insertions(+), 1 deletion(-)\n"
     ]
    }
   ],
   "source": [
    "!git commit -m \"Add tomato to guacamole\""
   ]
  },
  {
   "cell_type": "code",
   "execution_count": 39,
   "metadata": {},
   "outputs": [
    {
     "name": "stdout",
     "output_type": "stream",
     "text": [
      "\u001b[33mcommit 6ceb1cb243f8c8be66e8fe4d652e848a801e1dd1\u001b[m\u001b[33m (\u001b[m\u001b[1;36mHEAD -> \u001b[m\u001b[1;32mtomato\u001b[m\u001b[33m)\u001b[m\n",
      "Author: doer <499361328@qq.com>\n",
      "Date:   Sun Jun 16 12:12:45 2019 +0800\n",
      "\n",
      "    Add tomato to guacamole\n",
      "\n",
      "\u001b[33mcommit e7e1b0b1424a60398f6cd667c440b433b4daa008\u001b[m\u001b[33m (\u001b[m\u001b[1;32mmaster\u001b[m\u001b[33m)\u001b[m\n",
      "Author: doer <499361328@qq.com>\n",
      "Date:   Sun Jun 16 12:05:32 2019 +0800\n",
      "\n",
      "    Add guacamole\n",
      "\n",
      "\u001b[33mcommit bb0780938eee508610fd1fd43bbc201dbb1e00b0\u001b[m\n",
      "Author: doer <499361328@qq.com>\n",
      "Date:   Wed May 1 19:04:56 2019 +0800\n",
      "\n",
      "    Well, I changed my mind about that renaming\n",
      "\n",
      "\u001b[33mcommit 08746a37e2e65a673417346ab0a51d8f01b38815\u001b[m\n",
      "Author: doer <499361328@qq.com>\n",
      "Date:   Wed May 1 19:02:12 2019 +0800\n",
      "\n",
      "    Use Markdown for the menu\n",
      "\n",
      "\u001b[33mcommit ecbebe6601f5730ed6157f95175204cdf4d0542a\u001b[m\u001b[33m (\u001b[m\u001b[1;33mtag: mytag\u001b[m\u001b[33m, \u001b[m\u001b[1;32mlisa\u001b[m\u001b[33m)\u001b[m\n",
      "Merge: e268621 007ffe9\n",
      "Author: Paolo Perrotta <paolo.nusco.perrotta@gmail.com>\n",
      "Date:   Sat Oct 3 21:13:50 2015 +0200\n",
      "\n",
      "    Merge branch 'lisa'\n",
      "    \n",
      "    * lisa:\n",
      "      Add Lisa's version of the pie\n",
      "\n",
      "\u001b[33mcommit 007ffe9977176cdf4af8928073252ba50125504b\u001b[m\n",
      "Author: Paolo Perrotta <paolo.nusco.perrotta@gmail.com>\n",
      "Date:   Sat Oct 3 18:53:09 2015 +0200\n",
      "\n",
      "    Add Lisa's version of the pie\n",
      "\n",
      "\u001b[33mcommit e268621595c9af5df65522aaad9a4cffa9430555\u001b[m\n",
      "Author: Paolo Perrotta <paolo.nusco.perrotta@gmail.com>\n",
      "Date:   Sat Oct 3 18:40:11 2015 +0200\n",
      "\n",
      "    Add recipe\n",
      "\n",
      "\u001b[33mcommit 5720fdf166e827a0ced9277cd5ea4951aa33f51f\u001b[m\n",
      "Author: Paolo Perrotta <paolo.nusco.perrotta@gmail.com>\n",
      "Date:   Sat Sep 26 15:58:16 2015 +0200\n",
      "\n",
      "    Add cake\n",
      "\n",
      "\u001b[33mcommit 11779f423b047faefe55abb3fb2911d556fba195\u001b[m\n",
      "Author: Paolo \"Nusco\" Perrotta <paolo.nusco.perrotta@gmail.com>\n",
      "Date:   Wed May 13 18:45:03 2015 +0200\n",
      "\n",
      "    First commit!\n"
     ]
    }
   ],
   "source": [
    "!git log"
   ]
  },
  {
   "cell_type": "code",
   "execution_count": 41,
   "metadata": {},
   "outputs": [
    {
     "name": "stdout",
     "output_type": "stream",
     "text": [
      "Switched to branch 'master'\n"
     ]
    }
   ],
   "source": [
    "!git checkout master"
   ]
  },
  {
   "cell_type": "code",
   "execution_count": 42,
   "metadata": {},
   "outputs": [
    {
     "name": "stdout",
     "output_type": "stream",
     "text": [
      "Ingredients:\n",
      "Avocados\n",
      "Lime juice\n",
      "Serrano chiles\n",
      "Cilantro\n",
      "Salt\n",
      "Black pepper"
     ]
    }
   ],
   "source": [
    "!cat recipes/guacamole.txt"
   ]
  },
  {
   "cell_type": "code",
   "execution_count": 44,
   "metadata": {},
   "outputs": [
    {
     "name": "stdout",
     "output_type": "stream",
     "text": [
      "Ingredients:\n",
      "Avocados\n",
      "Lime juice\n",
      "Serrano chiles\n",
      "Cilantro\n",
      "Salt\n",
      "Black pepper\n",
      "Onion"
     ]
    }
   ],
   "source": [
    "# 编辑recipes/guacamole.txt\n",
    "!cat recipes/guacamole.txt"
   ]
  },
  {
   "cell_type": "code",
   "execution_count": 45,
   "metadata": {},
   "outputs": [],
   "source": [
    "!git add recipes/guacamole.txt"
   ]
  },
  {
   "cell_type": "code",
   "execution_count": 46,
   "metadata": {},
   "outputs": [
    {
     "name": "stdout",
     "output_type": "stream",
     "text": [
      "[master 4219527] Add onion to guacamole\n",
      " 1 file changed, 2 insertions(+), 1 deletion(-)\n"
     ]
    }
   ],
   "source": [
    "!git commit -m \"Add onion to guacamole\""
   ]
  },
  {
   "cell_type": "code",
   "execution_count": 47,
   "metadata": {},
   "outputs": [
    {
     "name": "stdout",
     "output_type": "stream",
     "text": [
      "\u001b[33mcommit 42195271a21bdfd5c2f6fc60c35655d5b35c7ddf\u001b[m\u001b[33m (\u001b[m\u001b[1;36mHEAD -> \u001b[m\u001b[1;32mmaster\u001b[m\u001b[33m)\u001b[m\n",
      "Author: doer <499361328@qq.com>\n",
      "Date:   Sun Jun 16 12:15:42 2019 +0800\n",
      "\n",
      "    Add onion to guacamole\n",
      "\n",
      "\u001b[33mcommit e7e1b0b1424a60398f6cd667c440b433b4daa008\u001b[m\n",
      "Author: doer <499361328@qq.com>\n",
      "Date:   Sun Jun 16 12:05:32 2019 +0800\n",
      "\n",
      "    Add guacamole\n",
      "\n",
      "\u001b[33mcommit bb0780938eee508610fd1fd43bbc201dbb1e00b0\u001b[m\n",
      "Author: doer <499361328@qq.com>\n",
      "Date:   Wed May 1 19:04:56 2019 +0800\n",
      "\n",
      "    Well, I changed my mind about that renaming\n",
      "\n",
      "\u001b[33mcommit 08746a37e2e65a673417346ab0a51d8f01b38815\u001b[m\n",
      "Author: doer <499361328@qq.com>\n",
      "Date:   Wed May 1 19:02:12 2019 +0800\n",
      "\n",
      "    Use Markdown for the menu\n",
      "\n",
      "\u001b[33mcommit ecbebe6601f5730ed6157f95175204cdf4d0542a\u001b[m\u001b[33m (\u001b[m\u001b[1;33mtag: mytag\u001b[m\u001b[33m, \u001b[m\u001b[1;32mlisa\u001b[m\u001b[33m)\u001b[m\n",
      "Merge: e268621 007ffe9\n",
      "Author: Paolo Perrotta <paolo.nusco.perrotta@gmail.com>\n",
      "Date:   Sat Oct 3 21:13:50 2015 +0200\n",
      "\n",
      "    Merge branch 'lisa'\n",
      "    \n",
      "    * lisa:\n",
      "      Add Lisa's version of the pie\n",
      "\n",
      "\u001b[33mcommit 007ffe9977176cdf4af8928073252ba50125504b\u001b[m\n",
      "Author: Paolo Perrotta <paolo.nusco.perrotta@gmail.com>\n",
      "Date:   Sat Oct 3 18:53:09 2015 +0200\n",
      "\n",
      "    Add Lisa's version of the pie\n",
      "\n",
      "\u001b[33mcommit e268621595c9af5df65522aaad9a4cffa9430555\u001b[m\n",
      "Author: Paolo Perrotta <paolo.nusco.perrotta@gmail.com>\n",
      "Date:   Sat Oct 3 18:40:11 2015 +0200\n",
      "\n",
      "    Add recipe\n",
      "\n",
      "\u001b[33mcommit 5720fdf166e827a0ced9277cd5ea4951aa33f51f\u001b[m\n",
      "Author: Paolo Perrotta <paolo.nusco.perrotta@gmail.com>\n",
      "Date:   Sat Sep 26 15:58:16 2015 +0200\n",
      "\n",
      "    Add cake\n",
      "\n",
      "\u001b[33mcommit 11779f423b047faefe55abb3fb2911d556fba195\u001b[m\n",
      "Author: Paolo \"Nusco\" Perrotta <paolo.nusco.perrotta@gmail.com>\n",
      "Date:   Wed May 13 18:45:03 2015 +0200\n",
      "\n",
      "    First commit!\n"
     ]
    }
   ],
   "source": [
    "!git log"
   ]
  },
  {
   "cell_type": "code",
   "execution_count": 48,
   "metadata": {},
   "outputs": [
    {
     "name": "stdout",
     "output_type": "stream",
     "text": [
      "Auto-merging recipes/guacamole.txt\n",
      "CONFLICT (content): Merge conflict in recipes/guacamole.txt\n",
      "Automatic merge failed; fix conflicts and then commit the result.\n"
     ]
    }
   ],
   "source": [
    "!git merge tomato"
   ]
  },
  {
   "cell_type": "code",
   "execution_count": 49,
   "metadata": {},
   "outputs": [
    {
     "name": "stdout",
     "output_type": "stream",
     "text": [
      "On branch master\n",
      "You have unmerged paths.\n",
      "  (fix conflicts and run \"git commit\")\n",
      "  (use \"git merge --abort\" to abort the merge)\n",
      "\n",
      "Unmerged paths:\n",
      "  (use \"git add <file>...\" to mark resolution)\n",
      "\n",
      "\t\u001b[31mboth modified:   recipes/guacamole.txt\u001b[m\n",
      "\n",
      "no changes added to commit (use \"git add\" and/or \"git commit -a\")\n"
     ]
    }
   ],
   "source": [
    "!git status"
   ]
  },
  {
   "cell_type": "code",
   "execution_count": 50,
   "metadata": {},
   "outputs": [
    {
     "name": "stdout",
     "output_type": "stream",
     "text": [
      "Ingredients:\n",
      "Avocados\n",
      "Lime juice\n",
      "Serrano chiles\n",
      "Cilantro\n",
      "Salt\n",
      "Black pepper\n",
      "<<<<<<< HEAD\n",
      "Onion\n",
      "=======\n",
      "Tomato\n",
      ">>>>>>> tomato\n"
     ]
    }
   ],
   "source": [
    "!cat recipes/guacamole.txt"
   ]
  },
  {
   "cell_type": "code",
   "execution_count": 53,
   "metadata": {},
   "outputs": [
    {
     "name": "stdout",
     "output_type": "stream",
     "text": [
      "COMMIT_EDITMSG   MERGE_MSG        \u001b[34mhooks\u001b[m\u001b[m            \u001b[34mobjects\u001b[m\u001b[m\n",
      "HEAD             ORIG_HEAD        index            \u001b[34mrefs\u001b[m\u001b[m\n",
      "MERGE_HEAD       config           \u001b[34minfo\u001b[m\u001b[m             sourcetreeconfig\n",
      "MERGE_MODE       description      \u001b[34mlogs\u001b[m\u001b[m\n"
     ]
    }
   ],
   "source": [
    "# 分支合并信息: MERGE_MSG, MERGE_HEAD, MERGE_MODE\n",
    "!ls .git"
   ]
  },
  {
   "cell_type": "code",
   "execution_count": 54,
   "metadata": {},
   "outputs": [
    {
     "name": "stdout",
     "output_type": "stream",
     "text": [
      "6ceb1cb243f8c8be66e8fe4d652e848a801e1dd1\n"
     ]
    }
   ],
   "source": [
    "!cat .git/MERGE_HEAD"
   ]
  },
  {
   "cell_type": "code",
   "execution_count": 55,
   "metadata": {},
   "outputs": [
    {
     "name": "stdout",
     "output_type": "stream",
     "text": [
      "\u001b[33mcommit 6ceb1cb243f8c8be66e8fe4d652e848a801e1dd1\u001b[m\u001b[33m (\u001b[m\u001b[1;32mtomato\u001b[m\u001b[33m)\u001b[m\n",
      "Author: doer <499361328@qq.com>\n",
      "Date:   Sun Jun 16 12:12:45 2019 +0800\n",
      "\n",
      "    Add tomato to guacamole\n",
      "\n",
      "\u001b[1mdiff --git a/recipes/guacamole.txt b/recipes/guacamole.txt\u001b[m\n",
      "\u001b[1mindex 72c461c..c6639dd 100644\u001b[m\n",
      "\u001b[1m--- a/recipes/guacamole.txt\u001b[m\n",
      "\u001b[1m+++ b/recipes/guacamole.txt\u001b[m\n",
      "\u001b[36m@@ -4,4 +4,5 @@\u001b[m \u001b[mLime juice\u001b[m\n",
      " Serrano chiles\u001b[m\n",
      " Cilantro\u001b[m\n",
      " Salt\u001b[m\n",
      "\u001b[31m-Black pepper\u001b[m\n",
      "\\ No newline at end of file\u001b[m\n",
      "\u001b[32m+\u001b[m\u001b[32mBlack pepper\u001b[m\n",
      "\u001b[32m+\u001b[m\u001b[32mTomato\u001b[m\n",
      "\\ No newline at end of file\u001b[m\n"
     ]
    }
   ],
   "source": [
    "!git show 6ceb1cb243f"
   ]
  },
  {
   "cell_type": "code",
   "execution_count": 56,
   "metadata": {},
   "outputs": [
    {
     "name": "stdout",
     "output_type": "stream",
     "text": [
      "Ingredients:\n",
      "Avocados\n",
      "Lime juice\n",
      "Serrano chiles\n",
      "Cilantro\n",
      "Salt\n",
      "Black pepper\n",
      "Tomato\n",
      "Onion"
     ]
    }
   ],
   "source": [
    "# 编辑recipes/guacamole.txt的冲突部分\n",
    "!cat recipes/guacamole.txt"
   ]
  },
  {
   "cell_type": "code",
   "execution_count": 57,
   "metadata": {},
   "outputs": [
    {
     "name": "stdout",
     "output_type": "stream",
     "text": [
      "On branch master\n",
      "You have unmerged paths.\n",
      "  (fix conflicts and run \"git commit\")\n",
      "  (use \"git merge --abort\" to abort the merge)\n",
      "\n",
      "Unmerged paths:\n",
      "  (use \"git add <file>...\" to mark resolution)\n",
      "\n",
      "\t\u001b[31mboth modified:   recipes/guacamole.txt\u001b[m\n",
      "\n",
      "no changes added to commit (use \"git add\" and/or \"git commit -a\")\n"
     ]
    }
   ],
   "source": [
    "!git status"
   ]
  },
  {
   "cell_type": "code",
   "execution_count": 58,
   "metadata": {},
   "outputs": [],
   "source": [
    "!git add recipes/guacamole.txt"
   ]
  },
  {
   "cell_type": "code",
   "execution_count": 59,
   "metadata": {},
   "outputs": [
    {
     "name": "stdout",
     "output_type": "stream",
     "text": [
      "On branch master\n",
      "All conflicts fixed but you are still merging.\n",
      "  (use \"git commit\" to conclude merge)\n",
      "\n",
      "Changes to be committed:\n",
      "\n",
      "\t\u001b[32mmodified:   recipes/guacamole.txt\u001b[m\n",
      "\n"
     ]
    }
   ],
   "source": [
    "!git status"
   ]
  },
  {
   "cell_type": "code",
   "execution_count": 1,
   "metadata": {},
   "outputs": [],
   "source": [
    "# !git commit, 确认提交信息wq退出, 提交完成"
   ]
  },
  {
   "cell_type": "code",
   "execution_count": 3,
   "metadata": {},
   "outputs": [
    {
     "name": "stdout",
     "output_type": "stream",
     "text": [
      "\u001b[33mcommit d591692faed8ae0aead02183b484d003a4824ad8\u001b[m\u001b[33m (\u001b[m\u001b[1;36mHEAD -> \u001b[m\u001b[1;32mmaster\u001b[m\u001b[33m)\u001b[m\n",
      "Merge: 4219527 6ceb1cb\n",
      "Author: doer <499361328@qq.com>\n",
      "Date:   Sun Jun 16 12:30:51 2019 +0800\n",
      "\n",
      "    Merge branch 'tomato'\n",
      "\n",
      "\u001b[33mcommit 42195271a21bdfd5c2f6fc60c35655d5b35c7ddf\u001b[m\n",
      "Author: doer <499361328@qq.com>\n",
      "Date:   Sun Jun 16 12:15:42 2019 +0800\n",
      "\n",
      "    Add onion to guacamole\n",
      "\n",
      "\u001b[33mcommit 6ceb1cb243f8c8be66e8fe4d652e848a801e1dd1\u001b[m\u001b[33m (\u001b[m\u001b[1;32mtomato\u001b[m\u001b[33m)\u001b[m\n",
      "Author: doer <499361328@qq.com>\n",
      "Date:   Sun Jun 16 12:12:45 2019 +0800\n",
      "\n",
      "    Add tomato to guacamole\n",
      "\n",
      "\u001b[33mcommit e7e1b0b1424a60398f6cd667c440b433b4daa008\u001b[m\n",
      "Author: doer <499361328@qq.com>\n",
      "Date:   Sun Jun 16 12:05:32 2019 +0800\n",
      "\n",
      "    Add guacamole\n",
      "\n",
      "\u001b[33mcommit bb0780938eee508610fd1fd43bbc201dbb1e00b0\u001b[m\n",
      "Author: doer <499361328@qq.com>\n",
      "Date:   Wed May 1 19:04:56 2019 +0800\n",
      "\n",
      "    Well, I changed my mind about that renaming\n",
      "\n",
      "\u001b[33mcommit 08746a37e2e65a673417346ab0a51d8f01b38815\u001b[m\n",
      "Author: doer <499361328@qq.com>\n",
      "Date:   Wed May 1 19:02:12 2019 +0800\n",
      "\n",
      "    Use Markdown for the menu\n",
      "\n",
      "\u001b[33mcommit ecbebe6601f5730ed6157f95175204cdf4d0542a\u001b[m\u001b[33m (\u001b[m\u001b[1;33mtag: mytag\u001b[m\u001b[33m, \u001b[m\u001b[1;32mlisa\u001b[m\u001b[33m)\u001b[m\n",
      "Merge: e268621 007ffe9\n",
      "Author: Paolo Perrotta <paolo.nusco.perrotta@gmail.com>\n",
      "Date:   Sat Oct 3 21:13:50 2015 +0200\n",
      "\n",
      "    Merge branch 'lisa'\n",
      "    \n",
      "    * lisa:\n",
      "      Add Lisa's version of the pie\n",
      "\n",
      "\u001b[33mcommit 007ffe9977176cdf4af8928073252ba50125504b\u001b[m\n",
      "Author: Paolo Perrotta <paolo.nusco.perrotta@gmail.com>\n",
      "Date:   Sat Oct 3 18:53:09 2015 +0200\n",
      "\n",
      "    Add Lisa's version of the pie\n",
      "\n",
      "\u001b[33mcommit e268621595c9af5df65522aaad9a4cffa9430555\u001b[m\n",
      "Author: Paolo Perrotta <paolo.nusco.perrotta@gmail.com>\n",
      "Date:   Sat Oct 3 18:40:11 2015 +0200\n",
      "\n",
      "    Add recipe\n",
      "\n",
      "\u001b[33mcommit 5720fdf166e827a0ced9277cd5ea4951aa33f51f\u001b[m\n",
      "Author: Paolo Perrotta <paolo.nusco.perrotta@gmail.com>\n",
      "Date:   Sat Sep 26 15:58:16 2015 +0200\n",
      "\n",
      "    Add cake\n",
      "\n",
      "\u001b[33mcommit 11779f423b047faefe55abb3fb2911d556fba195\u001b[m\n",
      "Author: Paolo \"Nusco\" Perrotta <paolo.nusco.perrotta@gmail.com>\n",
      "Date:   Wed May 13 18:45:03 2015 +0200\n",
      "\n",
      "    First commit!\n"
     ]
    }
   ],
   "source": [
    "!git log"
   ]
  },
  {
   "cell_type": "code",
   "execution_count": 4,
   "metadata": {},
   "outputs": [
    {
     "name": "stdout",
     "output_type": "stream",
     "text": [
      "Ingredients:\n",
      "Avocados\n",
      "Lime juice\n",
      "Serrano chiles\n",
      "Cilantro\n",
      "Salt\n",
      "Black pepper\n",
      "Tomato\n",
      "Onion"
     ]
    }
   ],
   "source": [
    "!cat recipes/guacamole.txt"
   ]
  },
  {
   "cell_type": "code",
   "execution_count": 5,
   "metadata": {},
   "outputs": [
    {
     "name": "stdout",
     "output_type": "stream",
     "text": [
      "On branch master\n",
      "nothing to commit, working tree clean\n"
     ]
    }
   ],
   "source": [
    "!git status"
   ]
  },
  {
   "cell_type": "markdown",
   "metadata": {},
   "source": [
    "# 3 Working with Paths"
   ]
  },
  {
   "cell_type": "code",
   "execution_count": 6,
   "metadata": {},
   "outputs": [
    {
     "name": "stdout",
     "output_type": "stream",
     "text": [
      "APPLE PIE\n",
      "CHEESECAKE\n",
      "GUACAMOLE"
     ]
    }
   ],
   "source": [
    "# 编辑menu.txt\n",
    "!cat menu.txt"
   ]
  },
  {
   "cell_type": "code",
   "execution_count": 10,
   "metadata": {},
   "outputs": [
    {
     "name": "stdout",
     "output_type": "stream",
     "text": [
      "PUT YOUR RECIPES IN THIS DIRECTORY, ONE RECIPE PER FILE."
     ]
    }
   ],
   "source": [
    "# 编辑recipes/README.txt\n",
    "!cat recipes/README.txt"
   ]
  },
  {
   "cell_type": "code",
   "execution_count": 11,
   "metadata": {},
   "outputs": [
    {
     "name": "stdout",
     "output_type": "stream",
     "text": [
      "On branch master\n",
      "Changes not staged for commit:\n",
      "  (use \"git add <file>...\" to update what will be committed)\n",
      "  (use \"git checkout -- <file>...\" to discard changes in working directory)\n",
      "\n",
      "\t\u001b[31mmodified:   menu.txt\u001b[m\n",
      "\t\u001b[31mmodified:   recipes/README.txt\u001b[m\n",
      "\n",
      "no changes added to commit (use \"git add\" and/or \"git commit -a\")\n"
     ]
    }
   ],
   "source": [
    "!git status"
   ]
  },
  {
   "cell_type": "code",
   "execution_count": 12,
   "metadata": {},
   "outputs": [],
   "source": [
    "!git add ."
   ]
  },
  {
   "cell_type": "code",
   "execution_count": 13,
   "metadata": {},
   "outputs": [
    {
     "name": "stdout",
     "output_type": "stream",
     "text": [
      "On branch master\n",
      "Changes to be committed:\n",
      "  (use \"git reset HEAD <file>...\" to unstage)\n",
      "\n",
      "\t\u001b[32mmodified:   menu.txt\u001b[m\n",
      "\t\u001b[32mmodified:   recipes/README.txt\u001b[m\n",
      "\n"
     ]
    }
   ],
   "source": [
    "!git status"
   ]
  },
  {
   "cell_type": "code",
   "execution_count": 15,
   "metadata": {},
   "outputs": [
    {
     "name": "stdout",
     "output_type": "stream",
     "text": [
      "Unstaged changes after reset:\n",
      "M\tmenu.txt\n"
     ]
    }
   ],
   "source": [
    "!git reset HEAD menu.txt"
   ]
  },
  {
   "cell_type": "code",
   "execution_count": 16,
   "metadata": {},
   "outputs": [
    {
     "name": "stdout",
     "output_type": "stream",
     "text": [
      "On branch master\n",
      "Changes to be committed:\n",
      "  (use \"git reset HEAD <file>...\" to unstage)\n",
      "\n",
      "\t\u001b[32mmodified:   recipes/README.txt\u001b[m\n",
      "\n",
      "Changes not staged for commit:\n",
      "  (use \"git add <file>...\" to update what will be committed)\n",
      "  (use \"git checkout -- <file>...\" to discard changes in working directory)\n",
      "\n",
      "\t\u001b[31mmodified:   menu.txt\u001b[m\n",
      "\n"
     ]
    }
   ],
   "source": [
    "!git status"
   ]
  },
  {
   "cell_type": "code",
   "execution_count": 17,
   "metadata": {},
   "outputs": [
    {
     "name": "stdout",
     "output_type": "stream",
     "text": [
      "fatal: Cannot do hard reset with paths.\n"
     ]
    }
   ],
   "source": [
    "!git reset --hard HEAD menu.txt"
   ]
  },
  {
   "cell_type": "code",
   "execution_count": 18,
   "metadata": {},
   "outputs": [],
   "source": [
    "!git checkout HEAD menu.txt"
   ]
  },
  {
   "cell_type": "code",
   "execution_count": 19,
   "metadata": {},
   "outputs": [
    {
     "name": "stdout",
     "output_type": "stream",
     "text": [
      "Apple Pie\n",
      "Cheesecake\n",
      "Guacamole"
     ]
    }
   ],
   "source": [
    "!cat menu.txt"
   ]
  },
  {
   "cell_type": "code",
   "execution_count": 20,
   "metadata": {},
   "outputs": [
    {
     "name": "stdout",
     "output_type": "stream",
     "text": [
      "On branch master\n",
      "Changes to be committed:\n",
      "  (use \"git reset HEAD <file>...\" to unstage)\n",
      "\n",
      "\t\u001b[32mmodified:   recipes/README.txt\u001b[m\n",
      "\n"
     ]
    }
   ],
   "source": [
    "!git status"
   ]
  },
  {
   "cell_type": "code",
   "execution_count": 21,
   "metadata": {},
   "outputs": [
    {
     "name": "stdout",
     "output_type": "stream",
     "text": [
      "[master 94cc528] Make README all uppercase\n",
      " 1 file changed, 1 insertion(+), 1 deletion(-)\n"
     ]
    }
   ],
   "source": [
    "!git commit -m \"Make README all uppercase\""
   ]
  },
  {
   "cell_type": "code",
   "execution_count": null,
   "metadata": {},
   "outputs": [],
   "source": []
  }
 ],
 "metadata": {
  "kernelspec": {
   "display_name": "Python 3",
   "language": "python",
   "name": "python3"
  },
  "language_info": {
   "codemirror_mode": {
    "name": "ipython",
    "version": 3
   },
   "file_extension": ".py",
   "mimetype": "text/x-python",
   "name": "python",
   "nbconvert_exporter": "python",
   "pygments_lexer": "ipython3",
   "version": "3.7.3"
  }
 },
 "nbformat": 4,
 "nbformat_minor": 2
}
