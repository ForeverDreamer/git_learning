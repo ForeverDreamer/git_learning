{
 "cells": [
  {
   "cell_type": "markdown",
   "metadata": {},
   "source": [
    "# 2 A Commit by Any Other Name"
   ]
  },
  {
   "cell_type": "code",
   "execution_count": 1,
   "metadata": {},
   "outputs": [
    {
     "name": "stdout",
     "output_type": "stream",
     "text": [
      "  lisa\u001b[m\n",
      "* \u001b[32mmaster\u001b[m\n",
      "  nogood\u001b[m\n",
      "  tomato\u001b[m\n"
     ]
    }
   ],
   "source": [
    "!git branch"
   ]
  },
  {
   "cell_type": "code",
   "execution_count": 2,
   "metadata": {},
   "outputs": [
    {
     "name": "stdout",
     "output_type": "stream",
     "text": [
      "Switched to branch 'nogood'\n"
     ]
    }
   ],
   "source": [
    "!git checkout nogood"
   ]
  },
  {
   "cell_type": "code",
   "execution_count": 3,
   "metadata": {},
   "outputs": [
    {
     "name": "stdout",
     "output_type": "stream",
     "text": [
      "\u001b[33mcommit 7160d614c16207bf132828cc39daeeec5003adbc\u001b[m\u001b[33m (\u001b[m\u001b[1;36mHEAD -> \u001b[m\u001b[1;32mnogood\u001b[m\u001b[33m)\u001b[m\n",
      "Author: Paolo Perrotta <paolo.nusco.perrotta@gmail.com>\n",
      "Date:   Sun Oct 4 02:43:44 2015 +0200\n",
      "\n",
      "    Remove sugar\n",
      "\n",
      "\u001b[33mcommit a87f2ccb15972fa85eb607460d21a69c54d306b8\u001b[m\n",
      "Author: Paolo Perrotta <paolo.nusco.perrotta@gmail.com>\n",
      "Date:   Sun Oct 4 02:43:09 2015 +0200\n",
      "\n",
      "    Add more apples\n",
      "\n",
      "\u001b[33mcommit ecbebe6601f5730ed6157f95175204cdf4d0542a\u001b[m\u001b[33m (\u001b[m\u001b[1;33mtag: mytag\u001b[m\u001b[33m, \u001b[m\u001b[1;32mlisa\u001b[m\u001b[33m)\u001b[m\n",
      "Merge: e268621 007ffe9\n",
      "Author: Paolo Perrotta <paolo.nusco.perrotta@gmail.com>\n",
      "Date:   Sat Oct 3 21:13:50 2015 +0200\n",
      "\n",
      "    Merge branch 'lisa'\n",
      "    \n",
      "    * lisa:\n",
      "      Add Lisa's version of the pie\n",
      "\n",
      "\u001b[33mcommit 007ffe9977176cdf4af8928073252ba50125504b\u001b[m\n",
      "Author: Paolo Perrotta <paolo.nusco.perrotta@gmail.com>\n",
      "Date:   Sat Oct 3 18:53:09 2015 +0200\n",
      "\n",
      "    Add Lisa's version of the pie\n",
      "\n",
      "\u001b[33mcommit e268621595c9af5df65522aaad9a4cffa9430555\u001b[m\n",
      "Author: Paolo Perrotta <paolo.nusco.perrotta@gmail.com>\n",
      "Date:   Sat Oct 3 18:40:11 2015 +0200\n",
      "\n",
      "    Add recipe\n",
      "\n",
      "\u001b[33mcommit 5720fdf166e827a0ced9277cd5ea4951aa33f51f\u001b[m\n",
      "Author: Paolo Perrotta <paolo.nusco.perrotta@gmail.com>\n",
      "Date:   Sat Sep 26 15:58:16 2015 +0200\n",
      "\n",
      "    Add cake\n",
      "\n",
      "\u001b[33mcommit 11779f423b047faefe55abb3fb2911d556fba195\u001b[m\n",
      "Author: Paolo \"Nusco\" Perrotta <paolo.nusco.perrotta@gmail.com>\n",
      "Date:   Wed May 13 18:45:03 2015 +0200\n",
      "\n",
      "    First commit!\n"
     ]
    }
   ],
   "source": [
    "!git log"
   ]
  },
  {
   "cell_type": "code",
   "execution_count": 4,
   "metadata": {},
   "outputs": [
    {
     "name": "stdout",
     "output_type": "stream",
     "text": [
      "* \u001b[33m7160d61\u001b[m\u001b[33m (\u001b[m\u001b[1;36mHEAD -> \u001b[m\u001b[1;32mnogood\u001b[m\u001b[33m)\u001b[m Remove sugar\n",
      "* \u001b[33ma87f2cc\u001b[m Add more apples\n",
      "*   \u001b[33mecbebe6\u001b[m\u001b[33m (\u001b[m\u001b[1;33mtag: mytag\u001b[m\u001b[33m, \u001b[m\u001b[1;32mlisa\u001b[m\u001b[33m)\u001b[m Merge branch 'lisa'\n",
      "\u001b[32m|\u001b[m\u001b[33m\\\u001b[m  \n",
      "\u001b[32m|\u001b[m * \u001b[33m007ffe9\u001b[m Add Lisa's version of the pie\n",
      "* \u001b[33m|\u001b[m \u001b[33me268621\u001b[m Add recipe\n",
      "\u001b[33m|\u001b[m\u001b[33m/\u001b[m  \n",
      "* \u001b[33m5720fdf\u001b[m Add cake\n",
      "* \u001b[33m11779f4\u001b[m First commit!\n"
     ]
    }
   ],
   "source": [
    "!git log --graph --decorate --oneline"
   ]
  },
  {
   "cell_type": "code",
   "execution_count": 5,
   "metadata": {},
   "outputs": [
    {
     "name": "stdout",
     "output_type": "stream",
     "text": [
      "\u001b[33mcommit 7160d614c16207bf132828cc39daeeec5003adbc\u001b[m\u001b[33m (\u001b[m\u001b[1;36mHEAD -> \u001b[m\u001b[1;32mnogood\u001b[m\u001b[33m)\u001b[m\n",
      "Author: Paolo Perrotta <paolo.nusco.perrotta@gmail.com>\n",
      "Date:   Sun Oct 4 02:43:44 2015 +0200\n",
      "\n",
      "    Remove sugar\n",
      "\n",
      "\u001b[1mdiff --git a/recipes/apple_pie.txt b/recipes/apple_pie.txt\u001b[m\n",
      "\u001b[1mindex 3df3f29..e7f536a 100644\u001b[m\n",
      "\u001b[1m--- a/recipes/apple_pie.txt\u001b[m\n",
      "\u001b[1m+++ b/recipes/apple_pie.txt\u001b[m\n",
      "\u001b[36m@@ -3,6 +3,5 @@\u001b[m \u001b[mApple Pie\u001b[m\n",
      " pre-made pastry\u001b[m\n",
      " 1/2 cup butter\u001b[m\n",
      " 3 tablespoons flour\u001b[m\n",
      "\u001b[31m-1 cup sugar\u001b[m\n",
      " 1 tbsp cinnamon\u001b[m\n",
      " 20 Granny Smith apples\u001b[m\n"
     ]
    }
   ],
   "source": [
    "!git show 7160d61"
   ]
  },
  {
   "cell_type": "code",
   "execution_count": 6,
   "metadata": {},
   "outputs": [
    {
     "name": "stdout",
     "output_type": "stream",
     "text": [
      "\u001b[33mcommit 7160d614c16207bf132828cc39daeeec5003adbc\u001b[m\u001b[33m (\u001b[m\u001b[1;36mHEAD -> \u001b[m\u001b[1;32mnogood\u001b[m\u001b[33m)\u001b[m\n",
      "Author: Paolo Perrotta <paolo.nusco.perrotta@gmail.com>\n",
      "Date:   Sun Oct 4 02:43:44 2015 +0200\n",
      "\n",
      "    Remove sugar\n",
      "\n",
      "\u001b[1mdiff --git a/recipes/apple_pie.txt b/recipes/apple_pie.txt\u001b[m\n",
      "\u001b[1mindex 3df3f29..e7f536a 100644\u001b[m\n",
      "\u001b[1m--- a/recipes/apple_pie.txt\u001b[m\n",
      "\u001b[1m+++ b/recipes/apple_pie.txt\u001b[m\n",
      "\u001b[36m@@ -3,6 +3,5 @@\u001b[m \u001b[mApple Pie\u001b[m\n",
      " pre-made pastry\u001b[m\n",
      " 1/2 cup butter\u001b[m\n",
      " 3 tablespoons flour\u001b[m\n",
      "\u001b[31m-1 cup sugar\u001b[m\n",
      " 1 tbsp cinnamon\u001b[m\n",
      " 20 Granny Smith apples\u001b[m\n"
     ]
    }
   ],
   "source": [
    "!git show nogood"
   ]
  },
  {
   "cell_type": "code",
   "execution_count": 7,
   "metadata": {},
   "outputs": [
    {
     "name": "stdout",
     "output_type": "stream",
     "text": [
      "\u001b[33mcommit 7160d614c16207bf132828cc39daeeec5003adbc\u001b[m\u001b[33m (\u001b[m\u001b[1;36mHEAD -> \u001b[m\u001b[1;32mnogood\u001b[m\u001b[33m)\u001b[m\n",
      "Author: Paolo Perrotta <paolo.nusco.perrotta@gmail.com>\n",
      "Date:   Sun Oct 4 02:43:44 2015 +0200\n",
      "\n",
      "    Remove sugar\n",
      "\n",
      "\u001b[1mdiff --git a/recipes/apple_pie.txt b/recipes/apple_pie.txt\u001b[m\n",
      "\u001b[1mindex 3df3f29..e7f536a 100644\u001b[m\n",
      "\u001b[1m--- a/recipes/apple_pie.txt\u001b[m\n",
      "\u001b[1m+++ b/recipes/apple_pie.txt\u001b[m\n",
      "\u001b[36m@@ -3,6 +3,5 @@\u001b[m \u001b[mApple Pie\u001b[m\n",
      " pre-made pastry\u001b[m\n",
      " 1/2 cup butter\u001b[m\n",
      " 3 tablespoons flour\u001b[m\n",
      "\u001b[31m-1 cup sugar\u001b[m\n",
      " 1 tbsp cinnamon\u001b[m\n",
      " 20 Granny Smith apples\u001b[m\n"
     ]
    }
   ],
   "source": [
    "!git show HEAD"
   ]
  },
  {
   "cell_type": "code",
   "execution_count": 8,
   "metadata": {},
   "outputs": [
    {
     "name": "stdout",
     "output_type": "stream",
     "text": [
      "\u001b[33mcommit a87f2ccb15972fa85eb607460d21a69c54d306b8\u001b[m\n",
      "Author: Paolo Perrotta <paolo.nusco.perrotta@gmail.com>\n",
      "Date:   Sun Oct 4 02:43:09 2015 +0200\n",
      "\n",
      "    Add more apples\n",
      "\n",
      "\u001b[1mdiff --git a/recipes/apple_pie.txt b/recipes/apple_pie.txt\u001b[m\n",
      "\u001b[1mindex 29d1d06..3df3f29 100644\u001b[m\n",
      "\u001b[1m--- a/recipes/apple_pie.txt\u001b[m\n",
      "\u001b[1m+++ b/recipes/apple_pie.txt\u001b[m\n",
      "\u001b[36m@@ -5,4 +5,4 @@\u001b[m \u001b[mpre-made pastry\u001b[m\n",
      " 3 tablespoons flour\u001b[m\n",
      " 1 cup sugar\u001b[m\n",
      " 1 tbsp cinnamon\u001b[m\n",
      "\u001b[31m-9 Granny Smith apples\u001b[m\n",
      "\u001b[32m+\u001b[m\u001b[32m20 Granny Smith apples\u001b[m\n"
     ]
    }
   ],
   "source": [
    "# ^: parent commit\n",
    "!git show HEAD^"
   ]
  },
  {
   "cell_type": "code",
   "execution_count": 9,
   "metadata": {},
   "outputs": [
    {
     "name": "stdout",
     "output_type": "stream",
     "text": [
      "\u001b[33mcommit ecbebe6601f5730ed6157f95175204cdf4d0542a\u001b[m\u001b[33m (\u001b[m\u001b[1;33mtag: mytag\u001b[m\u001b[33m, \u001b[m\u001b[1;32mlisa\u001b[m\u001b[33m)\u001b[m\n",
      "Merge: e268621 007ffe9\n",
      "Author: Paolo Perrotta <paolo.nusco.perrotta@gmail.com>\n",
      "Date:   Sat Oct 3 21:13:50 2015 +0200\n",
      "\n",
      "    Merge branch 'lisa'\n",
      "    \n",
      "    * lisa:\n",
      "      Add Lisa's version of the pie\n",
      "\n",
      "\u001b[1mdiff --cc recipes/apple_pie.txt\u001b[m\n",
      "\u001b[1mindex 141f78d,3e3730b..29d1d06\u001b[m\n",
      "\u001b[1m--- a/recipes/apple_pie.txt\u001b[m\n",
      "\u001b[1m+++ b/recipes/apple_pie.txt\u001b[m\n",
      "\u001b[36m@@@ -4,4 -4,5 +4,5 @@@\u001b[m \u001b[mpre-made pastr\u001b[m\n",
      "  1/2 cup butter\u001b[m\n",
      "  3 tablespoons flour\u001b[m\n",
      "  1 cup sugar\u001b[m\n",
      "\u001b[31m- 8 Granny Smith apples\u001b[m\n",
      "\u001b[32m+ 1 tbsp cinnamon\u001b[m\n",
      "\u001b[31m -10 Granny Smith apples\u001b[m\n",
      "\u001b[32m++9 Granny Smith apples\u001b[m\n"
     ]
    }
   ],
   "source": [
    "# ^^: parent of parent commit\n",
    "!git show HEAD^^"
   ]
  },
  {
   "cell_type": "code",
   "execution_count": 10,
   "metadata": {},
   "outputs": [
    {
     "name": "stdout",
     "output_type": "stream",
     "text": [
      "\u001b[33mcommit ecbebe6601f5730ed6157f95175204cdf4d0542a\u001b[m\u001b[33m (\u001b[m\u001b[1;33mtag: mytag\u001b[m\u001b[33m, \u001b[m\u001b[1;32mlisa\u001b[m\u001b[33m)\u001b[m\n",
      "Merge: e268621 007ffe9\n",
      "Author: Paolo Perrotta <paolo.nusco.perrotta@gmail.com>\n",
      "Date:   Sat Oct 3 21:13:50 2015 +0200\n",
      "\n",
      "    Merge branch 'lisa'\n",
      "    \n",
      "    * lisa:\n",
      "      Add Lisa's version of the pie\n",
      "\n",
      "\u001b[1mdiff --cc recipes/apple_pie.txt\u001b[m\n",
      "\u001b[1mindex 141f78d,3e3730b..29d1d06\u001b[m\n",
      "\u001b[1m--- a/recipes/apple_pie.txt\u001b[m\n",
      "\u001b[1m+++ b/recipes/apple_pie.txt\u001b[m\n",
      "\u001b[36m@@@ -4,4 -4,5 +4,5 @@@\u001b[m \u001b[mpre-made pastr\u001b[m\n",
      "  1/2 cup butter\u001b[m\n",
      "  3 tablespoons flour\u001b[m\n",
      "  1 cup sugar\u001b[m\n",
      "\u001b[31m- 8 Granny Smith apples\u001b[m\n",
      "\u001b[32m+ 1 tbsp cinnamon\u001b[m\n",
      "\u001b[31m -10 Granny Smith apples\u001b[m\n",
      "\u001b[32m++9 Granny Smith apples\u001b[m\n"
     ]
    }
   ],
   "source": [
    "!git show HEAD~2"
   ]
  },
  {
   "cell_type": "code",
   "execution_count": 11,
   "metadata": {},
   "outputs": [
    {
     "name": "stdout",
     "output_type": "stream",
     "text": [
      "\u001b[33mcommit 007ffe9977176cdf4af8928073252ba50125504b\u001b[m\n",
      "Author: Paolo Perrotta <paolo.nusco.perrotta@gmail.com>\n",
      "Date:   Sat Oct 3 18:53:09 2015 +0200\n",
      "\n",
      "    Add Lisa's version of the pie\n",
      "\n",
      "\u001b[1mdiff --git a/recipes/apple_pie.txt b/recipes/apple_pie.txt\u001b[m\n",
      "\u001b[1mindex 2399189..3e3730b 100644\u001b[m\n",
      "\u001b[1m--- a/recipes/apple_pie.txt\u001b[m\n",
      "\u001b[1m+++ b/recipes/apple_pie.txt\u001b[m\n",
      "\u001b[36m@@ -1 +1,8 @@\u001b[m\n",
      " Apple Pie\u001b[m\n",
      "\u001b[32m+\u001b[m\n",
      "\u001b[32m+\u001b[m\u001b[32mpre-made pastry\u001b[m\n",
      "\u001b[32m+\u001b[m\u001b[32m1/2 cup butter\u001b[m\n",
      "\u001b[32m+\u001b[m\u001b[32m3 tablespoons flour\u001b[m\n",
      "\u001b[32m+\u001b[m\u001b[32m1 cup sugar\u001b[m\n",
      "\u001b[32m+\u001b[m\u001b[32m1 tbsp cinnamon\u001b[m\n",
      "\u001b[32m+\u001b[m\u001b[32m10 Granny Smith apples\u001b[m\n"
     ]
    }
   ],
   "source": [
    "# last 2th parent and the second parent commit \n",
    "!git show HEAD~2^2"
   ]
  },
  {
   "cell_type": "code",
   "execution_count": 14,
   "metadata": {},
   "outputs": [],
   "source": [
    "# # does'n t work\n",
    "# !git show HEAD@{\"1 month ago\"}"
   ]
  },
  {
   "cell_type": "markdown",
   "metadata": {},
   "source": [
    "# 3 History Forensics"
   ]
  },
  {
   "cell_type": "code",
   "execution_count": 15,
   "metadata": {},
   "outputs": [
    {
     "name": "stdout",
     "output_type": "stream",
     "text": [
      "6_history_exploring_the_past.ipynb \u001b[34mrecipes\u001b[m\u001b[m\n",
      "menu.txt\n"
     ]
    }
   ],
   "source": [
    "!ls"
   ]
  },
  {
   "cell_type": "code",
   "execution_count": 16,
   "metadata": {},
   "outputs": [
    {
     "name": "stdout",
     "output_type": "stream",
     "text": [
      "README.txt    apple_pie.txt\n"
     ]
    }
   ],
   "source": [
    "!ls recipes/"
   ]
  },
  {
   "cell_type": "code",
   "execution_count": 17,
   "metadata": {},
   "outputs": [
    {
     "name": "stdout",
     "output_type": "stream",
     "text": [
      "^11779f4 (Paolo \"Nusco\" Perrotta 2015-05-13 18:45:03 +0200 1) Apple Pie\n",
      "e2686215 (Paolo Perrotta         2015-10-03 18:40:11 +0200 2) \n",
      "e2686215 (Paolo Perrotta         2015-10-03 18:40:11 +0200 3) pre-made pastry\n",
      "e2686215 (Paolo Perrotta         2015-10-03 18:40:11 +0200 4) 1/2 cup butter\n",
      "e2686215 (Paolo Perrotta         2015-10-03 18:40:11 +0200 5) 3 tablespoons flour\n",
      "007ffe99 (Paolo Perrotta         2015-10-03 18:53:09 +0200 6) 1 tbsp cinnamon\n",
      "a87f2ccb (Paolo Perrotta         2015-10-04 02:43:09 +0200 7) 20 Granny Smith apples\n"
     ]
    }
   ],
   "source": [
    "!git blame recipes/apple_pie.txt"
   ]
  },
  {
   "cell_type": "code",
   "execution_count": 18,
   "metadata": {},
   "outputs": [
    {
     "name": "stdout",
     "output_type": "stream",
     "text": [
      "\u001b[1mdiff --git a/recipes/apple_pie.txt b/recipes/apple_pie.txt\u001b[m\n",
      "\u001b[1mindex e7f536a..29d1d06 100644\u001b[m\n",
      "\u001b[1m--- a/recipes/apple_pie.txt\u001b[m\n",
      "\u001b[1m+++ b/recipes/apple_pie.txt\u001b[m\n",
      "\u001b[36m@@ -3,5 +3,6 @@\u001b[m \u001b[mApple Pie\u001b[m\n",
      " pre-made pastry\u001b[m\n",
      " 1/2 cup butter\u001b[m\n",
      " 3 tablespoons flour\u001b[m\n",
      "\u001b[32m+\u001b[m\u001b[32m1 cup sugar\u001b[m\n",
      " 1 tbsp cinnamon\u001b[m\n",
      "\u001b[31m-20 Granny Smith apples\u001b[m\n",
      "\u001b[32m+\u001b[m\u001b[32m9 Granny Smith apples\u001b[m\n"
     ]
    }
   ],
   "source": [
    "!git diff HEAD HEAD~2"
   ]
  },
  {
   "cell_type": "code",
   "execution_count": 19,
   "metadata": {},
   "outputs": [
    {
     "name": "stdout",
     "output_type": "stream",
     "text": [
      "\u001b[1mdiff --git a/menu.txt b/menu.txt\u001b[m\n",
      "\u001b[1mindex f1fe985..29d9541 100644\u001b[m\n",
      "\u001b[1m--- a/menu.txt\u001b[m\n",
      "\u001b[1m+++ b/menu.txt\u001b[m\n",
      "\u001b[36m@@ -1,2 +1,3 @@\u001b[m\n",
      " Apple Pie\u001b[m\n",
      " Cheesecake\u001b[m\n",
      "\u001b[32m+\u001b[m\u001b[32mGuacamole\u001b[m\n",
      "\\ No newline at end of file\u001b[m\n",
      "\u001b[1mdiff --git a/recipes/README.txt b/recipes/README.txt\u001b[m\n",
      "\u001b[1mindex 361af85..11f6035 100644\u001b[m\n",
      "\u001b[1m--- a/recipes/README.txt\u001b[m\n",
      "\u001b[1m+++ b/recipes/README.txt\u001b[m\n",
      "\u001b[36m@@ -1 +1 @@\u001b[m\n",
      "\u001b[31m-Put your recipes in this directory, one recipe per file.\u001b[m\n",
      "\u001b[32m+\u001b[m\u001b[32mPUT YOUR RECIPES IN THIS DIRECTORY, ONE RECIPE PER FILE.\u001b[m\n",
      "\\ No newline at end of file\u001b[m\n",
      "\u001b[1mdiff --git a/recipes/apple_pie.txt b/recipes/apple_pie.txt\u001b[m\n",
      "\u001b[1mindex e7f536a..29d1d06 100644\u001b[m\n",
      "\u001b[1m--- a/recipes/apple_pie.txt\u001b[m\n",
      "\u001b[1m+++ b/recipes/apple_pie.txt\u001b[m\n",
      "\u001b[36m@@ -3,5 +3,6 @@\u001b[m \u001b[mApple Pie\u001b[m\n",
      " pre-made pastry\u001b[m\n",
      " 1/2 cup butter\u001b[m\n",
      " 3 tablespoons flour\u001b[m\n",
      "\u001b[32m+\u001b[m\u001b[32m1 cup sugar\u001b[m\n",
      " 1 tbsp cinnamon\u001b[m\n",
      "\u001b[31m-20 Granny Smith apples\u001b[m\n",
      "\u001b[32m+\u001b[m\u001b[32m9 Granny Smith apples\u001b[m\n",
      "\u001b[1mdiff --git a/recipes/guacamole.txt b/recipes/guacamole.txt\u001b[m\n",
      "\u001b[1mnew file mode 100644\u001b[m\n",
      "\u001b[1mindex 0000000..c4943aa\u001b[m\n",
      "\u001b[1m--- /dev/null\u001b[m\n",
      "\u001b[1m+++ b/recipes/guacamole.txt\u001b[m\n",
      "\u001b[36m@@ -0,0 +1,9 @@\u001b[m\n",
      "\u001b[32m+\u001b[m\u001b[32mIngredients:\u001b[m\n",
      "\u001b[32m+\u001b[m\u001b[32mAvocados\u001b[m\n",
      "\u001b[32m+\u001b[m\u001b[32mLime juice\u001b[m\n",
      "\u001b[32m+\u001b[m\u001b[32mSerrano chiles\u001b[m\n",
      "\u001b[32m+\u001b[m\u001b[32mCilantro\u001b[m\n",
      "\u001b[32m+\u001b[m\u001b[32mSalt\u001b[m\n",
      "\u001b[32m+\u001b[m\u001b[32mBlack pepper\u001b[m\n",
      "\u001b[32m+\u001b[m\u001b[32mTomato\u001b[m\n",
      "\u001b[32m+\u001b[m\u001b[32mOnion\u001b[m\n",
      "\\ No newline at end of file\u001b[m\n"
     ]
    }
   ],
   "source": [
    "!git diff nogood master"
   ]
  },
  {
   "cell_type": "markdown",
   "metadata": {},
   "source": [
    "# 4 Browsing the Log"
   ]
  },
  {
   "cell_type": "code",
   "execution_count": 21,
   "metadata": {},
   "outputs": [
    {
     "name": "stdout",
     "output_type": "stream",
     "text": [
      "* \u001b[33m7160d61\u001b[m\u001b[33m (\u001b[m\u001b[1;36mHEAD -> \u001b[m\u001b[1;32mnogood\u001b[m\u001b[33m)\u001b[m Remove sugar\n",
      "* \u001b[33ma87f2cc\u001b[m Add more apples\n",
      "*   \u001b[33mecbebe6\u001b[m\u001b[33m (\u001b[m\u001b[1;33mtag: mytag\u001b[m\u001b[33m, \u001b[m\u001b[1;32mlisa\u001b[m\u001b[33m)\u001b[m Merge branch 'lisa'\n",
      "\u001b[32m|\u001b[m\u001b[33m\\\u001b[m  \n",
      "\u001b[32m|\u001b[m * \u001b[33m007ffe9\u001b[m Add Lisa's version of the pie\n",
      "* \u001b[33m|\u001b[m \u001b[33me268621\u001b[m Add recipe\n",
      "\u001b[33m|\u001b[m\u001b[33m/\u001b[m  \n",
      "* \u001b[33m5720fdf\u001b[m Add cake\n",
      "* \u001b[33m11779f4\u001b[m First commit!\n"
     ]
    }
   ],
   "source": [
    "!git log --graph --decorate --oneline"
   ]
  },
  {
   "cell_type": "code",
   "execution_count": 22,
   "metadata": {},
   "outputs": [
    {
     "name": "stdout",
     "output_type": "stream",
     "text": [
      "\u001b[33mcommit 7160d614c16207bf132828cc39daeeec5003adbc\u001b[m\u001b[33m (\u001b[m\u001b[1;36mHEAD -> \u001b[m\u001b[1;32mnogood\u001b[m\u001b[33m)\u001b[m\n",
      "Author: Paolo Perrotta <paolo.nusco.perrotta@gmail.com>\n",
      "Date:   Sun Oct 4 02:43:44 2015 +0200\n",
      "\n",
      "    Remove sugar\n",
      "\n",
      "\u001b[1mdiff --git a/recipes/apple_pie.txt b/recipes/apple_pie.txt\u001b[m\n",
      "\u001b[1mindex 3df3f29..e7f536a 100644\u001b[m\n",
      "\u001b[1m--- a/recipes/apple_pie.txt\u001b[m\n",
      "\u001b[1m+++ b/recipes/apple_pie.txt\u001b[m\n",
      "\u001b[36m@@ -3,6 +3,5 @@\u001b[m \u001b[mApple Pie\u001b[m\n",
      " pre-made pastry\u001b[m\n",
      " 1/2 cup butter\u001b[m\n",
      " 3 tablespoons flour\u001b[m\n",
      "\u001b[31m-1 cup sugar\u001b[m\n",
      " 1 tbsp cinnamon\u001b[m\n",
      " 20 Granny Smith apples\u001b[m\n",
      "\n",
      "\u001b[33mcommit a87f2ccb15972fa85eb607460d21a69c54d306b8\u001b[m\n",
      "Author: Paolo Perrotta <paolo.nusco.perrotta@gmail.com>\n",
      "Date:   Sun Oct 4 02:43:09 2015 +0200\n",
      "\n",
      "    Add more apples\n",
      "\n",
      "\u001b[1mdiff --git a/recipes/apple_pie.txt b/recipes/apple_pie.txt\u001b[m\n",
      "\u001b[1mindex 29d1d06..3df3f29 100644\u001b[m\n",
      "\u001b[1m--- a/recipes/apple_pie.txt\u001b[m\n",
      "\u001b[1m+++ b/recipes/apple_pie.txt\u001b[m\n",
      "\u001b[36m@@ -5,4 +5,4 @@\u001b[m \u001b[mpre-made pastry\u001b[m\n",
      " 3 tablespoons flour\u001b[m\n",
      " 1 cup sugar\u001b[m\n",
      " 1 tbsp cinnamon\u001b[m\n",
      "\u001b[31m-9 Granny Smith apples\u001b[m\n",
      "\u001b[32m+\u001b[m\u001b[32m20 Granny Smith apples\u001b[m\n",
      "\n",
      "\u001b[33mcommit ecbebe6601f5730ed6157f95175204cdf4d0542a\u001b[m\u001b[33m (\u001b[m\u001b[1;33mtag: mytag\u001b[m\u001b[33m, \u001b[m\u001b[1;32mlisa\u001b[m\u001b[33m)\u001b[m\n",
      "Merge: e268621 007ffe9\n",
      "Author: Paolo Perrotta <paolo.nusco.perrotta@gmail.com>\n",
      "Date:   Sat Oct 3 21:13:50 2015 +0200\n",
      "\n",
      "    Merge branch 'lisa'\n",
      "    \n",
      "    * lisa:\n",
      "      Add Lisa's version of the pie\n",
      "\n",
      "\u001b[33mcommit 007ffe9977176cdf4af8928073252ba50125504b\u001b[m\n",
      "Author: Paolo Perrotta <paolo.nusco.perrotta@gmail.com>\n",
      "Date:   Sat Oct 3 18:53:09 2015 +0200\n",
      "\n",
      "    Add Lisa's version of the pie\n",
      "\n",
      "\u001b[1mdiff --git a/recipes/apple_pie.txt b/recipes/apple_pie.txt\u001b[m\n",
      "\u001b[1mindex 2399189..3e3730b 100644\u001b[m\n",
      "\u001b[1m--- a/recipes/apple_pie.txt\u001b[m\n",
      "\u001b[1m+++ b/recipes/apple_pie.txt\u001b[m\n",
      "\u001b[36m@@ -1 +1,8 @@\u001b[m\n",
      " Apple Pie\u001b[m\n",
      "\u001b[32m+\u001b[m\n",
      "\u001b[32m+\u001b[m\u001b[32mpre-made pastry\u001b[m\n",
      "\u001b[32m+\u001b[m\u001b[32m1/2 cup butter\u001b[m\n",
      "\u001b[32m+\u001b[m\u001b[32m3 tablespoons flour\u001b[m\n",
      "\u001b[32m+\u001b[m\u001b[32m1 cup sugar\u001b[m\n",
      "\u001b[32m+\u001b[m\u001b[32m1 tbsp cinnamon\u001b[m\n",
      "\u001b[32m+\u001b[m\u001b[32m10 Granny Smith apples\u001b[m\n",
      "\n",
      "\u001b[33mcommit e268621595c9af5df65522aaad9a4cffa9430555\u001b[m\n",
      "Author: Paolo Perrotta <paolo.nusco.perrotta@gmail.com>\n",
      "Date:   Sat Oct 3 18:40:11 2015 +0200\n",
      "\n",
      "    Add recipe\n",
      "\n",
      "\u001b[1mdiff --git a/recipes/apple_pie.txt b/recipes/apple_pie.txt\u001b[m\n",
      "\u001b[1mindex 2399189..141f78d 100644\u001b[m\n",
      "\u001b[1m--- a/recipes/apple_pie.txt\u001b[m\n",
      "\u001b[1m+++ b/recipes/apple_pie.txt\u001b[m\n",
      "\u001b[36m@@ -1 +1,7 @@\u001b[m\n",
      " Apple Pie\u001b[m\n",
      "\u001b[32m+\u001b[m\n",
      "\u001b[32m+\u001b[m\u001b[32mpre-made pastry\u001b[m\n",
      "\u001b[32m+\u001b[m\u001b[32m1/2 cup butter\u001b[m\n",
      "\u001b[32m+\u001b[m\u001b[32m3 tablespoons flour\u001b[m\n",
      "\u001b[32m+\u001b[m\u001b[32m1 cup sugar\u001b[m\n",
      "\u001b[32m+\u001b[m\u001b[32m8 Granny Smith apples\u001b[m\n",
      "\n",
      "\u001b[33mcommit 5720fdf166e827a0ced9277cd5ea4951aa33f51f\u001b[m\n",
      "Author: Paolo Perrotta <paolo.nusco.perrotta@gmail.com>\n",
      "Date:   Sat Sep 26 15:58:16 2015 +0200\n",
      "\n",
      "    Add cake\n",
      "\n",
      "\u001b[1mdiff --git a/menu.txt b/menu.txt\u001b[m\n",
      "\u001b[1mindex 2399189..f1fe985 100644\u001b[m\n",
      "\u001b[1m--- a/menu.txt\u001b[m\n",
      "\u001b[1m+++ b/menu.txt\u001b[m\n",
      "\u001b[36m@@ -1 +1,2 @@\u001b[m\n",
      " Apple Pie\u001b[m\n",
      "\u001b[32m+\u001b[m\u001b[32mCheesecake\u001b[m\n",
      "\n",
      "\u001b[33mcommit 11779f423b047faefe55abb3fb2911d556fba195\u001b[m\n",
      "Author: Paolo \"Nusco\" Perrotta <paolo.nusco.perrotta@gmail.com>\n",
      "Date:   Wed May 13 18:45:03 2015 +0200\n",
      "\n",
      "    First commit!\n",
      "\n",
      "\u001b[1mdiff --git a/menu.txt b/menu.txt\u001b[m\n",
      "\u001b[1mnew file mode 100644\u001b[m\n",
      "\u001b[1mindex 0000000..2399189\u001b[m\n",
      "\u001b[1m--- /dev/null\u001b[m\n",
      "\u001b[1m+++ b/menu.txt\u001b[m\n",
      "\u001b[36m@@ -0,0 +1 @@\u001b[m\n",
      "\u001b[32m+\u001b[m\u001b[32mApple Pie\u001b[m\n",
      "\u001b[1mdiff --git a/recipes/README.txt b/recipes/README.txt\u001b[m\n",
      "\u001b[1mnew file mode 100644\u001b[m\n",
      "\u001b[1mindex 0000000..361af85\u001b[m\n",
      "\u001b[1m--- /dev/null\u001b[m\n",
      "\u001b[1m+++ b/recipes/README.txt\u001b[m\n",
      "\u001b[36m@@ -0,0 +1 @@\u001b[m\n",
      "\u001b[32m+\u001b[m\u001b[32mPut your recipes in this directory, one recipe per file.\u001b[m\n",
      "\u001b[1mdiff --git a/recipes/apple_pie.txt b/recipes/apple_pie.txt\u001b[m\n",
      "\u001b[1mnew file mode 100644\u001b[m\n",
      "\u001b[1mindex 0000000..2399189\u001b[m\n",
      "\u001b[1m--- /dev/null\u001b[m\n",
      "\u001b[1m+++ b/recipes/apple_pie.txt\u001b[m\n",
      "\u001b[36m@@ -0,0 +1 @@\u001b[m\n",
      "\u001b[32m+\u001b[m\u001b[32mApple Pie\u001b[m\n"
     ]
    }
   ],
   "source": [
    "!git log --patch"
   ]
  },
  {
   "cell_type": "code",
   "execution_count": 23,
   "metadata": {},
   "outputs": [
    {
     "name": "stdout",
     "output_type": "stream",
     "text": [
      "\u001b[33ma87f2cc\u001b[m Add more apples\n"
     ]
    }
   ],
   "source": [
    "!git log --grep apples --oneline"
   ]
  },
  {
   "cell_type": "code",
   "execution_count": 25,
   "metadata": {},
   "outputs": [
    {
     "name": "stdout",
     "output_type": "stream",
     "text": [
      "\u001b[33mcommit a87f2ccb15972fa85eb607460d21a69c54d306b8\u001b[m\n",
      "Author: Paolo Perrotta <paolo.nusco.perrotta@gmail.com>\n",
      "Date:   Sun Oct 4 02:43:09 2015 +0200\n",
      "\n",
      "    Add more apples\n",
      "\n",
      "\u001b[1mdiff --git a/recipes/apple_pie.txt b/recipes/apple_pie.txt\u001b[m\n",
      "\u001b[1mindex 29d1d06..3df3f29 100644\u001b[m\n",
      "\u001b[1m--- a/recipes/apple_pie.txt\u001b[m\n",
      "\u001b[1m+++ b/recipes/apple_pie.txt\u001b[m\n",
      "\u001b[36m@@ -5,4 +5,4 @@\u001b[m \u001b[mpre-made pastry\u001b[m\n",
      " 3 tablespoons flour\u001b[m\n",
      " 1 cup sugar\u001b[m\n",
      " 1 tbsp cinnamon\u001b[m\n",
      "\u001b[31m-9 Granny Smith apples\u001b[m\n",
      "\u001b[32m+\u001b[m\u001b[32m20 Granny Smith apples\u001b[m\n",
      "\n",
      "\u001b[33mcommit 007ffe9977176cdf4af8928073252ba50125504b\u001b[m\n",
      "Author: Paolo Perrotta <paolo.nusco.perrotta@gmail.com>\n",
      "Date:   Sat Oct 3 18:53:09 2015 +0200\n",
      "\n",
      "    Add Lisa's version of the pie\n",
      "\n",
      "\u001b[1mdiff --git a/recipes/apple_pie.txt b/recipes/apple_pie.txt\u001b[m\n",
      "\u001b[1mindex 2399189..3e3730b 100644\u001b[m\n",
      "\u001b[1m--- a/recipes/apple_pie.txt\u001b[m\n",
      "\u001b[1m+++ b/recipes/apple_pie.txt\u001b[m\n",
      "\u001b[36m@@ -1 +1,8 @@\u001b[m\n",
      " Apple Pie\u001b[m\n",
      "\u001b[32m+\u001b[m\n",
      "\u001b[32m+\u001b[m\u001b[32mpre-made pastry\u001b[m\n",
      "\u001b[32m+\u001b[m\u001b[32m1/2 cup butter\u001b[m\n",
      "\u001b[32m+\u001b[m\u001b[32m3 tablespoons flour\u001b[m\n",
      "\u001b[32m+\u001b[m\u001b[32m1 cup sugar\u001b[m\n",
      "\u001b[32m+\u001b[m\u001b[32m1 tbsp cinnamon\u001b[m\n",
      "\u001b[32m+\u001b[m\u001b[32m10 Granny Smith apples\u001b[m\n",
      "\n",
      "\u001b[33mcommit e268621595c9af5df65522aaad9a4cffa9430555\u001b[m\n",
      "Author: Paolo Perrotta <paolo.nusco.perrotta@gmail.com>\n",
      "Date:   Sat Oct 3 18:40:11 2015 +0200\n",
      "\n",
      "    Add recipe\n",
      "\n",
      "\u001b[1mdiff --git a/recipes/apple_pie.txt b/recipes/apple_pie.txt\u001b[m\n",
      "\u001b[1mindex 2399189..141f78d 100644\u001b[m\n",
      "\u001b[1m--- a/recipes/apple_pie.txt\u001b[m\n",
      "\u001b[1m+++ b/recipes/apple_pie.txt\u001b[m\n",
      "\u001b[36m@@ -1 +1,7 @@\u001b[m\n",
      " Apple Pie\u001b[m\n",
      "\u001b[32m+\u001b[m\n",
      "\u001b[32m+\u001b[m\u001b[32mpre-made pastry\u001b[m\n",
      "\u001b[32m+\u001b[m\u001b[32m1/2 cup butter\u001b[m\n",
      "\u001b[32m+\u001b[m\u001b[32m3 tablespoons flour\u001b[m\n",
      "\u001b[32m+\u001b[m\u001b[32m1 cup sugar\u001b[m\n",
      "\u001b[32m+\u001b[m\u001b[32m8 Granny Smith apples\u001b[m\n"
     ]
    }
   ],
   "source": [
    "!git log -G apples --patch"
   ]
  },
  {
   "cell_type": "code",
   "execution_count": 26,
   "metadata": {},
   "outputs": [
    {
     "name": "stdout",
     "output_type": "stream",
     "text": [
      "\u001b[33m7160d61\u001b[m\u001b[33m (\u001b[m\u001b[1;36mHEAD -> \u001b[m\u001b[1;32mnogood\u001b[m\u001b[33m)\u001b[m Remove sugar\n",
      "\u001b[33ma87f2cc\u001b[m Add more apples\n",
      "\u001b[33mecbebe6\u001b[m\u001b[33m (\u001b[m\u001b[1;33mtag: mytag\u001b[m\u001b[33m, \u001b[m\u001b[1;32mlisa\u001b[m\u001b[33m)\u001b[m Merge branch 'lisa'\n"
     ]
    }
   ],
   "source": [
    "!git log -3 --oneline"
   ]
  },
  {
   "cell_type": "code",
   "execution_count": 27,
   "metadata": {},
   "outputs": [
    {
     "name": "stdout",
     "output_type": "stream",
     "text": [
      "\u001b[33ma87f2cc\u001b[m Add more apples\n",
      "\u001b[33mecbebe6\u001b[m\u001b[33m (\u001b[m\u001b[1;33mtag: mytag\u001b[m\u001b[33m, \u001b[m\u001b[1;32mlisa\u001b[m\u001b[33m)\u001b[m Merge branch 'lisa'\n",
      "\u001b[33m007ffe9\u001b[m Add Lisa's version of the pie\n",
      "\u001b[33me268621\u001b[m Add recipe\n",
      "\u001b[33m5720fdf\u001b[m Add cake\n"
     ]
    }
   ],
   "source": [
    "!git log HEAD~5..HEAD^ --oneline"
   ]
  },
  {
   "cell_type": "code",
   "execution_count": 28,
   "metadata": {},
   "outputs": [
    {
     "name": "stdout",
     "output_type": "stream",
     "text": [
      "On branch nogood\n",
      "nothing to commit, working tree clean\n"
     ]
    }
   ],
   "source": [
    "!git status"
   ]
  },
  {
   "cell_type": "code",
   "execution_count": 29,
   "metadata": {},
   "outputs": [
    {
     "name": "stdout",
     "output_type": "stream",
     "text": [
      "\u001b[33m94cc528\u001b[m\u001b[33m (\u001b[m\u001b[1;32mmaster\u001b[m\u001b[33m)\u001b[m Make README all uppercase\n",
      "\u001b[33md591692\u001b[m Merge branch 'tomato'\n",
      "\u001b[33m4219527\u001b[m Add onion to guacamole\n",
      "\u001b[33m6ceb1cb\u001b[m\u001b[33m (\u001b[m\u001b[1;32mtomato\u001b[m\u001b[33m)\u001b[m Add tomato to guacamole\n",
      "\u001b[33me7e1b0b\u001b[m Add guacamole\n",
      "\u001b[33mbb07809\u001b[m Well, I changed my mind about that renaming\n",
      "\u001b[33m08746a3\u001b[m Use Markdown for the menu\n"
     ]
    }
   ],
   "source": [
    "!git log nogood..master --oneline"
   ]
  },
  {
   "cell_type": "code",
   "execution_count": null,
   "metadata": {},
   "outputs": [],
   "source": []
  }
 ],
 "metadata": {
  "kernelspec": {
   "display_name": "Python 3",
   "language": "python",
   "name": "python3"
  },
  "language_info": {
   "codemirror_mode": {
    "name": "ipython",
    "version": 3
   },
   "file_extension": ".py",
   "mimetype": "text/x-python",
   "name": "python",
   "nbconvert_exporter": "python",
   "pygments_lexer": "ipython3",
   "version": "3.7.3"
  }
 },
 "nbformat": 4,
 "nbformat_minor": 2
}
