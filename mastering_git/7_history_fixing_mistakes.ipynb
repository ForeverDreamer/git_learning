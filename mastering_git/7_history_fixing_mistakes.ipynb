{
 "cells": [
  {
   "cell_type": "markdown",
   "metadata": {},
   "source": [
    "# 2 Changing the Latest Commit"
   ]
  },
  {
   "cell_type": "code",
   "execution_count": 1,
   "metadata": {},
   "outputs": [
    {
     "name": "stdout",
     "output_type": "stream",
     "text": [
      "Switched to branch 'master'\n"
     ]
    }
   ],
   "source": [
    "!git checkout master"
   ]
  },
  {
   "cell_type": "code",
   "execution_count": 2,
   "metadata": {},
   "outputs": [
    {
     "name": "stdout",
     "output_type": "stream",
     "text": [
      "  lisa\u001b[m\n",
      "* \u001b[32mmaster\u001b[m\n",
      "  nogood\u001b[m\n",
      "  tomato\u001b[m\n"
     ]
    }
   ],
   "source": [
    "!git branch"
   ]
  },
  {
   "cell_type": "code",
   "execution_count": 4,
   "metadata": {},
   "outputs": [
    {
     "name": "stdout",
     "output_type": "stream",
     "text": [
      "Apple Pie\n",
      "Cheesecake\n",
      "Guacamole\n",
      "Caesar Salad"
     ]
    }
   ],
   "source": [
    "# 编辑menu.txt\n",
    "!cat menu.txt"
   ]
  },
  {
   "cell_type": "code",
   "execution_count": 5,
   "metadata": {},
   "outputs": [
    {
     "name": "stdout",
     "output_type": "stream",
     "text": [
      "On branch master\n",
      "Changes not staged for commit:\n",
      "  (use \"git add <file>...\" to update what will be committed)\n",
      "  (use \"git checkout -- <file>...\" to discard changes in working directory)\n",
      "\n",
      "\t\u001b[31mmodified:   menu.txt\u001b[m\n",
      "\n",
      "no changes added to commit (use \"git add\" and/or \"git commit -a\")\n"
     ]
    }
   ],
   "source": [
    "!git status"
   ]
  },
  {
   "cell_type": "code",
   "execution_count": 6,
   "metadata": {},
   "outputs": [],
   "source": [
    "!git add menu.txt"
   ]
  },
  {
   "cell_type": "code",
   "execution_count": 7,
   "metadata": {},
   "outputs": [
    {
     "name": "stdout",
     "output_type": "stream",
     "text": [
      "On branch master\n",
      "Changes to be committed:\n",
      "  (use \"git reset HEAD <file>...\" to unstage)\n",
      "\n",
      "\t\u001b[32mmodified:   menu.txt\u001b[m\n",
      "\n"
     ]
    }
   ],
   "source": [
    "!git status"
   ]
  },
  {
   "cell_type": "code",
   "execution_count": 8,
   "metadata": {},
   "outputs": [
    {
     "name": "stdout",
     "output_type": "stream",
     "text": [
      "[master ded818c] Added Caesar Salad to menu\n",
      " 1 file changed, 2 insertions(+), 1 deletion(-)\n"
     ]
    }
   ],
   "source": [
    "!git commit -m \"Added Caesar Salad to menu\""
   ]
  },
  {
   "cell_type": "code",
   "execution_count": 9,
   "metadata": {},
   "outputs": [
    {
     "name": "stdout",
     "output_type": "stream",
     "text": [
      "\u001b[33mcommit ded818c364158b5f2d8f165608fca7ea1090560b\u001b[m\u001b[33m (\u001b[m\u001b[1;36mHEAD -> \u001b[m\u001b[1;32mmaster\u001b[m\u001b[33m)\u001b[m\n",
      "Author: doer <499361328@qq.com>\n",
      "Date:   Sun Jun 16 17:15:54 2019 +0800\n",
      "\n",
      "    Added Caesar Salad to menu\n",
      "\n",
      "\u001b[33mcommit 94cc528464d91b490aa619987bad02ec3dff4530\u001b[m\n",
      "Author: doer <499361328@qq.com>\n",
      "Date:   Sun Jun 16 16:29:55 2019 +0800\n",
      "\n",
      "    Make README all uppercase\n",
      "\n",
      "\u001b[33mcommit d591692faed8ae0aead02183b484d003a4824ad8\u001b[m\n",
      "Merge: 4219527 6ceb1cb\n",
      "Author: doer <499361328@qq.com>\n",
      "Date:   Sun Jun 16 12:30:51 2019 +0800\n",
      "\n",
      "    Merge branch 'tomato'\n",
      "\n",
      "\u001b[33mcommit 42195271a21bdfd5c2f6fc60c35655d5b35c7ddf\u001b[m\n",
      "Author: doer <499361328@qq.com>\n",
      "Date:   Sun Jun 16 12:15:42 2019 +0800\n",
      "\n",
      "    Add onion to guacamole\n",
      "\n",
      "\u001b[33mcommit 6ceb1cb243f8c8be66e8fe4d652e848a801e1dd1\u001b[m\u001b[33m (\u001b[m\u001b[1;32mtomato\u001b[m\u001b[33m)\u001b[m\n",
      "Author: doer <499361328@qq.com>\n",
      "Date:   Sun Jun 16 12:12:45 2019 +0800\n",
      "\n",
      "    Add tomato to guacamole\n",
      "\n",
      "\u001b[33mcommit e7e1b0b1424a60398f6cd667c440b433b4daa008\u001b[m\n",
      "Author: doer <499361328@qq.com>\n",
      "Date:   Sun Jun 16 12:05:32 2019 +0800\n",
      "\n",
      "    Add guacamole\n",
      "\n",
      "\u001b[33mcommit bb0780938eee508610fd1fd43bbc201dbb1e00b0\u001b[m\n",
      "Author: doer <499361328@qq.com>\n",
      "Date:   Wed May 1 19:04:56 2019 +0800\n",
      "\n",
      "    Well, I changed my mind about that renaming\n",
      "\n",
      "\u001b[33mcommit 08746a37e2e65a673417346ab0a51d8f01b38815\u001b[m\n",
      "Author: doer <499361328@qq.com>\n",
      "Date:   Wed May 1 19:02:12 2019 +0800\n",
      "\n",
      "    Use Markdown for the menu\n",
      "\n",
      "\u001b[33mcommit ecbebe6601f5730ed6157f95175204cdf4d0542a\u001b[m\u001b[33m (\u001b[m\u001b[1;33mtag: mytag\u001b[m\u001b[33m, \u001b[m\u001b[1;32mlisa\u001b[m\u001b[33m)\u001b[m\n",
      "Merge: e268621 007ffe9\n",
      "Author: Paolo Perrotta <paolo.nusco.perrotta@gmail.com>\n",
      "Date:   Sat Oct 3 21:13:50 2015 +0200\n",
      "\n",
      "    Merge branch 'lisa'\n",
      "    \n",
      "    * lisa:\n",
      "      Add Lisa's version of the pie\n",
      "\n",
      "\u001b[33mcommit 007ffe9977176cdf4af8928073252ba50125504b\u001b[m\n",
      "Author: Paolo Perrotta <paolo.nusco.perrotta@gmail.com>\n",
      "Date:   Sat Oct 3 18:53:09 2015 +0200\n",
      "\n",
      "    Add Lisa's version of the pie\n",
      "\n",
      "\u001b[33mcommit e268621595c9af5df65522aaad9a4cffa9430555\u001b[m\n",
      "Author: Paolo Perrotta <paolo.nusco.perrotta@gmail.com>\n",
      "Date:   Sat Oct 3 18:40:11 2015 +0200\n",
      "\n",
      "    Add recipe\n",
      "\n",
      "\u001b[33mcommit 5720fdf166e827a0ced9277cd5ea4951aa33f51f\u001b[m\n",
      "Author: Paolo Perrotta <paolo.nusco.perrotta@gmail.com>\n",
      "Date:   Sat Sep 26 15:58:16 2015 +0200\n",
      "\n",
      "    Add cake\n",
      "\n",
      "\u001b[33mcommit 11779f423b047faefe55abb3fb2911d556fba195\u001b[m\n",
      "Author: Paolo \"Nusco\" Perrotta <paolo.nusco.perrotta@gmail.com>\n",
      "Date:   Wed May 13 18:45:03 2015 +0200\n",
      "\n",
      "    First commit!\n"
     ]
    }
   ],
   "source": [
    "!git log"
   ]
  },
  {
   "cell_type": "code",
   "execution_count": 10,
   "metadata": {},
   "outputs": [
    {
     "name": "stdout",
     "output_type": "stream",
     "text": [
      "PUT YOUR RECIPES IN THIS DIRECTORY, ONE RECIPE PER FILE."
     ]
    }
   ],
   "source": [
    "!cat recipes/README.txt"
   ]
  },
  {
   "cell_type": "code",
   "execution_count": 11,
   "metadata": {},
   "outputs": [
    {
     "name": "stdout",
     "output_type": "stream",
     "text": [
      "README.txt    apple_pie.txt guacamole.txt\n"
     ]
    }
   ],
   "source": [
    "!ls recipes/"
   ]
  },
  {
   "cell_type": "code",
   "execution_count": 12,
   "metadata": {},
   "outputs": [],
   "source": [
    "!touch recipes/caesar_salad.txt"
   ]
  },
  {
   "cell_type": "code",
   "execution_count": 13,
   "metadata": {},
   "outputs": [
    {
     "name": "stdout",
     "output_type": "stream",
     "text": [
      "Ingredients:\n",
      "romaine lettuce\n",
      "anchovies\n",
      "eggs\n",
      "parmesan cheese\n",
      "olive oil"
     ]
    }
   ],
   "source": [
    "!cat recipes/caesar_salad.txt"
   ]
  },
  {
   "cell_type": "code",
   "execution_count": 14,
   "metadata": {},
   "outputs": [],
   "source": [
    "!git add recipes/caesar_salad.txt"
   ]
  },
  {
   "cell_type": "code",
   "execution_count": 15,
   "metadata": {},
   "outputs": [
    {
     "name": "stdout",
     "output_type": "stream",
     "text": [
      "On branch master\n",
      "Changes to be committed:\n",
      "  (use \"git reset HEAD <file>...\" to unstage)\n",
      "\n",
      "\t\u001b[32mnew file:   recipes/caesar_salad.txt\u001b[m\n",
      "\n"
     ]
    }
   ],
   "source": [
    "!git status"
   ]
  },
  {
   "cell_type": "code",
   "execution_count": 16,
   "metadata": {},
   "outputs": [
    {
     "name": "stdout",
     "output_type": "stream",
     "text": [
      "[master 43abf1f] Add Caesar Salad to menu\n",
      " Date: Sun Jun 16 17:15:54 2019 +0800\n",
      " 2 files changed, 8 insertions(+), 1 deletion(-)\n",
      " create mode 100644 recipes/caesar_salad.txt\n"
     ]
    }
   ],
   "source": [
    "!git commit --amend -m \"Add Caesar Salad to menu\""
   ]
  },
  {
   "cell_type": "code",
   "execution_count": 17,
   "metadata": {},
   "outputs": [
    {
     "name": "stdout",
     "output_type": "stream",
     "text": [
      "\u001b[33mcommit 43abf1f98e6a3bae98050d2c90cd09140b556f67\u001b[m\u001b[33m (\u001b[m\u001b[1;36mHEAD -> \u001b[m\u001b[1;32mmaster\u001b[m\u001b[33m)\u001b[m\n",
      "Author: doer <499361328@qq.com>\n",
      "Date:   Sun Jun 16 17:15:54 2019 +0800\n",
      "\n",
      "    Add Caesar Salad to menu\n",
      "\n",
      "\u001b[33mcommit 94cc528464d91b490aa619987bad02ec3dff4530\u001b[m\n",
      "Author: doer <499361328@qq.com>\n",
      "Date:   Sun Jun 16 16:29:55 2019 +0800\n",
      "\n",
      "    Make README all uppercase\n",
      "\n",
      "\u001b[33mcommit d591692faed8ae0aead02183b484d003a4824ad8\u001b[m\n",
      "Merge: 4219527 6ceb1cb\n",
      "Author: doer <499361328@qq.com>\n",
      "Date:   Sun Jun 16 12:30:51 2019 +0800\n",
      "\n",
      "    Merge branch 'tomato'\n",
      "\n",
      "\u001b[33mcommit 42195271a21bdfd5c2f6fc60c35655d5b35c7ddf\u001b[m\n",
      "Author: doer <499361328@qq.com>\n",
      "Date:   Sun Jun 16 12:15:42 2019 +0800\n",
      "\n",
      "    Add onion to guacamole\n",
      "\n",
      "\u001b[33mcommit 6ceb1cb243f8c8be66e8fe4d652e848a801e1dd1\u001b[m\u001b[33m (\u001b[m\u001b[1;32mtomato\u001b[m\u001b[33m)\u001b[m\n",
      "Author: doer <499361328@qq.com>\n",
      "Date:   Sun Jun 16 12:12:45 2019 +0800\n",
      "\n",
      "    Add tomato to guacamole\n",
      "\n",
      "\u001b[33mcommit e7e1b0b1424a60398f6cd667c440b433b4daa008\u001b[m\n",
      "Author: doer <499361328@qq.com>\n",
      "Date:   Sun Jun 16 12:05:32 2019 +0800\n",
      "\n",
      "    Add guacamole\n",
      "\n",
      "\u001b[33mcommit bb0780938eee508610fd1fd43bbc201dbb1e00b0\u001b[m\n",
      "Author: doer <499361328@qq.com>\n",
      "Date:   Wed May 1 19:04:56 2019 +0800\n",
      "\n",
      "    Well, I changed my mind about that renaming\n",
      "\n",
      "\u001b[33mcommit 08746a37e2e65a673417346ab0a51d8f01b38815\u001b[m\n",
      "Author: doer <499361328@qq.com>\n",
      "Date:   Wed May 1 19:02:12 2019 +0800\n",
      "\n",
      "    Use Markdown for the menu\n",
      "\n",
      "\u001b[33mcommit ecbebe6601f5730ed6157f95175204cdf4d0542a\u001b[m\u001b[33m (\u001b[m\u001b[1;33mtag: mytag\u001b[m\u001b[33m, \u001b[m\u001b[1;32mlisa\u001b[m\u001b[33m)\u001b[m\n",
      "Merge: e268621 007ffe9\n",
      "Author: Paolo Perrotta <paolo.nusco.perrotta@gmail.com>\n",
      "Date:   Sat Oct 3 21:13:50 2015 +0200\n",
      "\n",
      "    Merge branch 'lisa'\n",
      "    \n",
      "    * lisa:\n",
      "      Add Lisa's version of the pie\n",
      "\n",
      "\u001b[33mcommit 007ffe9977176cdf4af8928073252ba50125504b\u001b[m\n",
      "Author: Paolo Perrotta <paolo.nusco.perrotta@gmail.com>\n",
      "Date:   Sat Oct 3 18:53:09 2015 +0200\n",
      "\n",
      "    Add Lisa's version of the pie\n",
      "\n",
      "\u001b[33mcommit e268621595c9af5df65522aaad9a4cffa9430555\u001b[m\n",
      "Author: Paolo Perrotta <paolo.nusco.perrotta@gmail.com>\n",
      "Date:   Sat Oct 3 18:40:11 2015 +0200\n",
      "\n",
      "    Add recipe\n",
      "\n",
      "\u001b[33mcommit 5720fdf166e827a0ced9277cd5ea4951aa33f51f\u001b[m\n",
      "Author: Paolo Perrotta <paolo.nusco.perrotta@gmail.com>\n",
      "Date:   Sat Sep 26 15:58:16 2015 +0200\n",
      "\n",
      "    Add cake\n",
      "\n",
      "\u001b[33mcommit 11779f423b047faefe55abb3fb2911d556fba195\u001b[m\n",
      "Author: Paolo \"Nusco\" Perrotta <paolo.nusco.perrotta@gmail.com>\n",
      "Date:   Wed May 13 18:45:03 2015 +0200\n",
      "\n",
      "    First commit!\n"
     ]
    }
   ],
   "source": [
    "!git log"
   ]
  },
  {
   "cell_type": "code",
   "execution_count": 18,
   "metadata": {},
   "outputs": [
    {
     "name": "stdout",
     "output_type": "stream",
     "text": [
      "\u001b[33mcommit 43abf1f98e6a3bae98050d2c90cd09140b556f67\u001b[m\u001b[33m (\u001b[m\u001b[1;36mHEAD -> \u001b[m\u001b[1;32mmaster\u001b[m\u001b[33m)\u001b[m\n",
      "Author: doer <499361328@qq.com>\n",
      "Date:   Sun Jun 16 17:15:54 2019 +0800\n",
      "\n",
      "    Add Caesar Salad to menu\n",
      "\n",
      "\u001b[1mdiff --git a/menu.txt b/menu.txt\u001b[m\n",
      "\u001b[1mindex 29d9541..55bba37 100644\u001b[m\n",
      "\u001b[1m--- a/menu.txt\u001b[m\n",
      "\u001b[1m+++ b/menu.txt\u001b[m\n",
      "\u001b[36m@@ -1,3 +1,4 @@\u001b[m\n",
      " Apple Pie\u001b[m\n",
      " Cheesecake\u001b[m\n",
      "\u001b[31m-Guacamole\u001b[m\n",
      "\\ No newline at end of file\u001b[m\n",
      "\u001b[32m+\u001b[m\u001b[32mGuacamole\u001b[m\n",
      "\u001b[32m+\u001b[m\u001b[32mCaesar Salad\u001b[m\n",
      "\\ No newline at end of file\u001b[m\n",
      "\u001b[1mdiff --git a/recipes/caesar_salad.txt b/recipes/caesar_salad.txt\u001b[m\n",
      "\u001b[1mnew file mode 100644\u001b[m\n",
      "\u001b[1mindex 0000000..996ce51\u001b[m\n",
      "\u001b[1m--- /dev/null\u001b[m\n",
      "\u001b[1m+++ b/recipes/caesar_salad.txt\u001b[m\n",
      "\u001b[36m@@ -0,0 +1,6 @@\u001b[m\n",
      "\u001b[32m+\u001b[m\u001b[32mIngredients:\u001b[m\n",
      "\u001b[32m+\u001b[m\u001b[32mromaine lettuce\u001b[m\n",
      "\u001b[32m+\u001b[m\u001b[32manchovies\u001b[m\n",
      "\u001b[32m+\u001b[m\u001b[32meggs\u001b[m\n",
      "\u001b[32m+\u001b[m\u001b[32mparmesan cheese\u001b[m\n",
      "\u001b[32m+\u001b[m\u001b[32molive oil\u001b[m\n",
      "\\ No newline at end of file\u001b[m\n"
     ]
    }
   ],
   "source": [
    "!git show HEAD"
   ]
  },
  {
   "cell_type": "markdown",
   "metadata": {},
   "source": [
    "# 4 The Reflog"
   ]
  },
  {
   "cell_type": "code",
   "execution_count": 19,
   "metadata": {},
   "outputs": [
    {
     "name": "stdout",
     "output_type": "stream",
     "text": [
      "  lisa\u001b[m\n",
      "* \u001b[32mmaster\u001b[m\n",
      "  nogood\u001b[m\n",
      "  tomato\u001b[m\n"
     ]
    }
   ],
   "source": [
    "!git branch"
   ]
  },
  {
   "cell_type": "code",
   "execution_count": 20,
   "metadata": {},
   "outputs": [
    {
     "name": "stdout",
     "output_type": "stream",
     "text": [
      "Switched to branch 'lisa'\n"
     ]
    }
   ],
   "source": [
    "!git checkout lisa"
   ]
  },
  {
   "cell_type": "code",
   "execution_count": 21,
   "metadata": {},
   "outputs": [
    {
     "name": "stdout",
     "output_type": "stream",
     "text": [
      "Switched to branch 'master'\n"
     ]
    }
   ],
   "source": [
    "!git checkout master"
   ]
  },
  {
   "cell_type": "code",
   "execution_count": 22,
   "metadata": {},
   "outputs": [
    {
     "name": "stdout",
     "output_type": "stream",
     "text": [
      "\u001b[33m43abf1f\u001b[m\u001b[33m (\u001b[m\u001b[1;36mHEAD -> \u001b[m\u001b[1;32mmaster\u001b[m\u001b[33m)\u001b[m HEAD@{0}: checkout: moving from lisa to master\n",
      "\u001b[33mecbebe6\u001b[m\u001b[33m (\u001b[m\u001b[1;33mtag: mytag\u001b[m\u001b[33m, \u001b[m\u001b[1;32mlisa\u001b[m\u001b[33m)\u001b[m HEAD@{1}: checkout: moving from master to lisa\n",
      "\u001b[33m43abf1f\u001b[m\u001b[33m (\u001b[m\u001b[1;36mHEAD -> \u001b[m\u001b[1;32mmaster\u001b[m\u001b[33m)\u001b[m HEAD@{2}: commit (amend): Add Caesar Salad to menu\n",
      "\u001b[33mded818c\u001b[m HEAD@{3}: commit: Added Caesar Salad to menu\n",
      "\u001b[33m94cc528\u001b[m HEAD@{4}: checkout: moving from nogood to master\n",
      "\u001b[33m7160d61\u001b[m\u001b[33m (\u001b[m\u001b[1;32mnogood\u001b[m\u001b[33m)\u001b[m HEAD@{5}: checkout: moving from master to nogood\n",
      "\u001b[33m94cc528\u001b[m HEAD@{6}: commit: Make README all uppercase\n",
      "\u001b[33md591692\u001b[m HEAD@{7}: commit (merge): Merge branch 'tomato'\n",
      "\u001b[33m4219527\u001b[m HEAD@{8}: commit: Add onion to guacamole\n",
      "\u001b[33me7e1b0b\u001b[m HEAD@{9}: checkout: moving from tomato to master\n",
      "\u001b[33m6ceb1cb\u001b[m\u001b[33m (\u001b[m\u001b[1;32mtomato\u001b[m\u001b[33m)\u001b[m HEAD@{10}: commit: Add tomato to guacamole\n",
      "\u001b[33me7e1b0b\u001b[m HEAD@{11}: checkout: moving from master to tomato\n",
      "\u001b[33me7e1b0b\u001b[m HEAD@{12}: commit: Add guacamole\n",
      "\u001b[33mbb07809\u001b[m HEAD@{13}: reset: moving to HEAD\n",
      "\u001b[33mbb07809\u001b[m HEAD@{14}: reset: moving to HEAD\n",
      "\u001b[33mbb07809\u001b[m HEAD@{15}: reset: moving to HEAD\n",
      "\u001b[33mbb07809\u001b[m HEAD@{16}: reset: moving to bb0780938\n",
      "\u001b[33mc5c91b9\u001b[m HEAD@{17}: commit: Add placeholder recipe for squids\n",
      "\u001b[33m8709f1d\u001b[m HEAD@{18}: commit: Add strawberry squids to menu\n",
      "\u001b[33mbb07809\u001b[m HEAD@{19}: commit: Well, I changed my mind about that renaming\n",
      "\u001b[33m08746a3\u001b[m HEAD@{20}: commit: Use Markdown for the menu\n",
      "\u001b[33mecbebe6\u001b[m\u001b[33m (\u001b[m\u001b[1;33mtag: mytag\u001b[m\u001b[33m, \u001b[m\u001b[1;32mlisa\u001b[m\u001b[33m)\u001b[m HEAD@{21}: checkout: moving from nogood to master\n",
      "\u001b[33m7160d61\u001b[m\u001b[33m (\u001b[m\u001b[1;32mnogood\u001b[m\u001b[33m)\u001b[m HEAD@{22}: checkout: moving from master to nogood\n",
      "\u001b[33mecbebe6\u001b[m\u001b[33m (\u001b[m\u001b[1;33mtag: mytag\u001b[m\u001b[33m, \u001b[m\u001b[1;32mlisa\u001b[m\u001b[33m)\u001b[m HEAD@{23}: checkout: moving from 7160d614c16207bf132828cc39daeeec5003adbc to master\n",
      "\u001b[33m7160d61\u001b[m\u001b[33m (\u001b[m\u001b[1;32mnogood\u001b[m\u001b[33m)\u001b[m HEAD@{24}: checkout: moving from master to 7160d61\n",
      "\u001b[33mecbebe6\u001b[m\u001b[33m (\u001b[m\u001b[1;33mtag: mytag\u001b[m\u001b[33m, \u001b[m\u001b[1;32mlisa\u001b[m\u001b[33m)\u001b[m HEAD@{25}: checkout: moving from 7160d614c16207bf132828cc39daeeec5003adbc to master\n",
      "\u001b[33m7160d61\u001b[m\u001b[33m (\u001b[m\u001b[1;32mnogood\u001b[m\u001b[33m)\u001b[m HEAD@{26}: commit: Remove sugar\n",
      "\u001b[33ma87f2cc\u001b[m HEAD@{27}: commit: Add more apples\n",
      "\u001b[33mecbebe6\u001b[m\u001b[33m (\u001b[m\u001b[1;33mtag: mytag\u001b[m\u001b[33m, \u001b[m\u001b[1;32mlisa\u001b[m\u001b[33m)\u001b[m HEAD@{28}: checkout: moving from master to ecbebe\n",
      "\u001b[33mecbebe6\u001b[m\u001b[33m (\u001b[m\u001b[1;33mtag: mytag\u001b[m\u001b[33m, \u001b[m\u001b[1;32mlisa\u001b[m\u001b[33m)\u001b[m HEAD@{29}: checkout: moving from lisa to master\n",
      "\u001b[33mecbebe6\u001b[m\u001b[33m (\u001b[m\u001b[1;33mtag: mytag\u001b[m\u001b[33m, \u001b[m\u001b[1;32mlisa\u001b[m\u001b[33m)\u001b[m HEAD@{30}: checkout: moving from ecbebe6601f5730ed6157f95175204cdf4d0542a to lisa\n",
      "\u001b[33mecbebe6\u001b[m\u001b[33m (\u001b[m\u001b[1;33mtag: mytag\u001b[m\u001b[33m, \u001b[m\u001b[1;32mlisa\u001b[m\u001b[33m)\u001b[m HEAD@{31}: checkout: moving from master to ecbebe\n",
      "\u001b[33mecbebe6\u001b[m\u001b[33m (\u001b[m\u001b[1;33mtag: mytag\u001b[m\u001b[33m, \u001b[m\u001b[1;32mlisa\u001b[m\u001b[33m)\u001b[m HEAD@{32}: checkout: moving from lisa to master\n",
      "\u001b[33mecbebe6\u001b[m\u001b[33m (\u001b[m\u001b[1;33mtag: mytag\u001b[m\u001b[33m, \u001b[m\u001b[1;32mlisa\u001b[m\u001b[33m)\u001b[m HEAD@{33}: checkout: moving from a3577b598a9d6abceb36a2e4dc7e41d9ace50e39 to lisa\n",
      "\u001b[33ma3577b5\u001b[m HEAD@{34}: checkout: moving from master to a3577\n",
      "\u001b[33mecbebe6\u001b[m\u001b[33m (\u001b[m\u001b[1;33mtag: mytag\u001b[m\u001b[33m, \u001b[m\u001b[1;32mlisa\u001b[m\u001b[33m)\u001b[m HEAD@{35}: checkout: moving from a3577b598a9d6abceb36a2e4dc7e41d9ace50e39 to master\n",
      "\u001b[33ma3577b5\u001b[m HEAD@{36}: commit: Sugar free pie\n",
      "\u001b[33m3405731\u001b[m HEAD@{37}: commit: More apples!\n",
      "\u001b[33mecbebe6\u001b[m\u001b[33m (\u001b[m\u001b[1;33mtag: mytag\u001b[m\u001b[33m, \u001b[m\u001b[1;32mlisa\u001b[m\u001b[33m)\u001b[m HEAD@{38}: checkout: moving from master to ecbebe\n",
      "\u001b[33mecbebe6\u001b[m\u001b[33m (\u001b[m\u001b[1;33mtag: mytag\u001b[m\u001b[33m, \u001b[m\u001b[1;32mlisa\u001b[m\u001b[33m)\u001b[m HEAD@{39}: checkout: moving from lisa to master\n",
      "\u001b[33mecbebe6\u001b[m\u001b[33m (\u001b[m\u001b[1;33mtag: mytag\u001b[m\u001b[33m, \u001b[m\u001b[1;32mlisa\u001b[m\u001b[33m)\u001b[m HEAD@{40}: checkout: moving from ecbebe6601f5730ed6157f95175204cdf4d0542a to lisa\n",
      "\u001b[33mecbebe6\u001b[m\u001b[33m (\u001b[m\u001b[1;33mtag: mytag\u001b[m\u001b[33m, \u001b[m\u001b[1;32mlisa\u001b[m\u001b[33m)\u001b[m HEAD@{41}: checkout: moving from master to ecbebe\n",
      "\u001b[33mecbebe6\u001b[m\u001b[33m (\u001b[m\u001b[1;33mtag: mytag\u001b[m\u001b[33m, \u001b[m\u001b[1;32mlisa\u001b[m\u001b[33m)\u001b[m HEAD@{42}: checkout: moving from lisa to master\n",
      "\u001b[33mecbebe6\u001b[m\u001b[33m (\u001b[m\u001b[1;33mtag: mytag\u001b[m\u001b[33m, \u001b[m\u001b[1;32mlisa\u001b[m\u001b[33m)\u001b[m HEAD@{43}: checkout: moving from master to lisa\n",
      "\u001b[33mecbebe6\u001b[m\u001b[33m (\u001b[m\u001b[1;33mtag: mytag\u001b[m\u001b[33m, \u001b[m\u001b[1;32mlisa\u001b[m\u001b[33m)\u001b[m HEAD@{44}: checkout: moving from lisa to master\n",
      "\u001b[33mecbebe6\u001b[m\u001b[33m (\u001b[m\u001b[1;33mtag: mytag\u001b[m\u001b[33m, \u001b[m\u001b[1;32mlisa\u001b[m\u001b[33m)\u001b[m HEAD@{45}: checkout: moving from master to lisa\n",
      "\u001b[33mecbebe6\u001b[m\u001b[33m (\u001b[m\u001b[1;33mtag: mytag\u001b[m\u001b[33m, \u001b[m\u001b[1;32mlisa\u001b[m\u001b[33m)\u001b[m HEAD@{46}: checkout: moving from lisa to master\n",
      "\u001b[33mecbebe6\u001b[m\u001b[33m (\u001b[m\u001b[1;33mtag: mytag\u001b[m\u001b[33m, \u001b[m\u001b[1;32mlisa\u001b[m\u001b[33m)\u001b[m HEAD@{47}: merge master: Fast-forward\n",
      "\u001b[33m007ffe9\u001b[m HEAD@{48}: checkout: moving from master to lisa\n",
      "\u001b[33mecbebe6\u001b[m\u001b[33m (\u001b[m\u001b[1;33mtag: mytag\u001b[m\u001b[33m, \u001b[m\u001b[1;32mlisa\u001b[m\u001b[33m)\u001b[m HEAD@{49}: commit (merge): Merge branch 'lisa'\n",
      "\u001b[33me268621\u001b[m HEAD@{50}: checkout: moving from lisa to master\n",
      "\u001b[33m007ffe9\u001b[m HEAD@{51}: commit: Add Lisa's version of the pie\n",
      "\u001b[33m5720fdf\u001b[m HEAD@{52}: checkout: moving from master to lisa\n",
      "\u001b[33me268621\u001b[m HEAD@{53}: checkout: moving from lisa to master\n",
      "\u001b[33m5720fdf\u001b[m HEAD@{54}: checkout: moving from master to lisa\n",
      "\u001b[33me268621\u001b[m HEAD@{55}: checkout: moving from lisa to master\n",
      "\u001b[33m5720fdf\u001b[m HEAD@{56}: checkout: moving from master to lisa\n",
      "\u001b[33me268621\u001b[m HEAD@{57}: commit: Add recipe\n",
      "\u001b[33m5720fdf\u001b[m HEAD@{58}: commit: Add cake\n",
      "\u001b[33m11779f4\u001b[m HEAD@{59}: commit (initial): First commit!\n"
     ]
    }
   ],
   "source": [
    "!git reflog HEAD"
   ]
  },
  {
   "cell_type": "code",
   "execution_count": 25,
   "metadata": {},
   "outputs": [],
   "source": [
    "# # 在终端执行命令才行, jupyter notebook不支持\n",
    "# !git show HEAD@{12}"
   ]
  },
  {
   "cell_type": "code",
   "execution_count": 26,
   "metadata": {},
   "outputs": [
    {
     "name": "stdout",
     "output_type": "stream",
     "text": [
      "\u001b[33m43abf1f\u001b[m\u001b[33m (\u001b[m\u001b[1;36mHEAD -> \u001b[m\u001b[1;32mmaster\u001b[m\u001b[33m)\u001b[m refs/heads/master@{0}: commit (amend): Add Caesar Salad to menu\n",
      "\u001b[33mded818c\u001b[m refs/heads/master@{1}: commit: Added Caesar Salad to menu\n",
      "\u001b[33m94cc528\u001b[m refs/heads/master@{2}: commit: Make README all uppercase\n",
      "\u001b[33md591692\u001b[m refs/heads/master@{3}: commit (merge): Merge branch 'tomato'\n",
      "\u001b[33m4219527\u001b[m refs/heads/master@{4}: commit: Add onion to guacamole\n",
      "\u001b[33me7e1b0b\u001b[m refs/heads/master@{5}: commit: Add guacamole\n",
      "\u001b[33mbb07809\u001b[m refs/heads/master@{6}: reset: moving to bb0780938\n",
      "\u001b[33mc5c91b9\u001b[m refs/heads/master@{7}: commit: Add placeholder recipe for squids\n",
      "\u001b[33m8709f1d\u001b[m refs/heads/master@{8}: commit: Add strawberry squids to menu\n",
      "\u001b[33mbb07809\u001b[m refs/heads/master@{9}: commit: Well, I changed my mind about that renaming\n",
      "\u001b[33m08746a3\u001b[m refs/heads/master@{10}: commit: Use Markdown for the menu\n",
      "\u001b[33mecbebe6\u001b[m\u001b[33m (\u001b[m\u001b[1;33mtag: mytag\u001b[m\u001b[33m, \u001b[m\u001b[1;32mlisa\u001b[m\u001b[33m)\u001b[m refs/heads/master@{11}: commit (merge): Merge branch 'lisa'\n",
      "\u001b[33me268621\u001b[m refs/heads/master@{12}: commit: Add recipe\n",
      "\u001b[33m5720fdf\u001b[m refs/heads/master@{13}: commit: Add cake\n",
      "\u001b[33m11779f4\u001b[m refs/heads/master@{14}: commit (initial): First commit!\n"
     ]
    }
   ],
   "source": [
    "!git reflog refs/heads/master"
   ]
  },
  {
   "cell_type": "markdown",
   "metadata": {},
   "source": [
    "# 5 Reverting Commits"
   ]
  },
  {
   "cell_type": "code",
   "execution_count": 27,
   "metadata": {},
   "outputs": [
    {
     "name": "stdout",
     "output_type": "stream",
     "text": [
      "  lisa\u001b[m\n",
      "* \u001b[32mmaster\u001b[m\n",
      "  nogood\u001b[m\n",
      "  tomato\u001b[m\n"
     ]
    }
   ],
   "source": [
    "!git branch"
   ]
  },
  {
   "cell_type": "code",
   "execution_count": 28,
   "metadata": {},
   "outputs": [
    {
     "name": "stdout",
     "output_type": "stream",
     "text": [
      "Switched to branch 'lisa'\n"
     ]
    }
   ],
   "source": [
    "!git checkout lisa"
   ]
  },
  {
   "cell_type": "code",
   "execution_count": 29,
   "metadata": {},
   "outputs": [
    {
     "name": "stdout",
     "output_type": "stream",
     "text": [
      "*   \u001b[33mecbebe6\u001b[m\u001b[33m (\u001b[m\u001b[1;36mHEAD -> \u001b[m\u001b[1;32mlisa\u001b[m\u001b[33m, \u001b[m\u001b[1;33mtag: mytag\u001b[m\u001b[33m)\u001b[m Merge branch 'lisa'\n",
      "\u001b[31m|\u001b[m\u001b[32m\\\u001b[m  \n",
      "\u001b[31m|\u001b[m * \u001b[33m007ffe9\u001b[m Add Lisa's version of the pie\n",
      "* \u001b[32m|\u001b[m \u001b[33me268621\u001b[m Add recipe\n",
      "\u001b[32m|\u001b[m\u001b[32m/\u001b[m  \n",
      "* \u001b[33m5720fdf\u001b[m Add cake\n",
      "* \u001b[33m11779f4\u001b[m First commit!\n"
     ]
    }
   ],
   "source": [
    "!git log --graph --decorate --oneline"
   ]
  },
  {
   "cell_type": "code",
   "execution_count": 30,
   "metadata": {},
   "outputs": [
    {
     "name": "stdout",
     "output_type": "stream",
     "text": [
      "Apple Pie\n",
      "Cheesecake\n"
     ]
    }
   ],
   "source": [
    "!cat menu.txt"
   ]
  },
  {
   "cell_type": "code",
   "execution_count": 31,
   "metadata": {},
   "outputs": [
    {
     "name": "stdout",
     "output_type": "stream",
     "text": [
      "README.txt    apple_pie.txt\n"
     ]
    }
   ],
   "source": [
    "!ls recipes/"
   ]
  },
  {
   "cell_type": "code",
   "execution_count": 32,
   "metadata": {},
   "outputs": [
    {
     "name": "stdout",
     "output_type": "stream",
     "text": [
      "\u001b[33mcommit 5720fdf166e827a0ced9277cd5ea4951aa33f51f\u001b[m\n",
      "Author: Paolo Perrotta <paolo.nusco.perrotta@gmail.com>\n",
      "Date:   Sat Sep 26 15:58:16 2015 +0200\n",
      "\n",
      "    Add cake\n",
      "\n",
      "\u001b[1mdiff --git a/menu.txt b/menu.txt\u001b[m\n",
      "\u001b[1mindex 2399189..f1fe985 100644\u001b[m\n",
      "\u001b[1m--- a/menu.txt\u001b[m\n",
      "\u001b[1m+++ b/menu.txt\u001b[m\n",
      "\u001b[36m@@ -1 +1,2 @@\u001b[m\n",
      " Apple Pie\u001b[m\n",
      "\u001b[32m+\u001b[m\u001b[32mCheesecake\u001b[m\n"
     ]
    }
   ],
   "source": [
    "!git show 5720fdf"
   ]
  },
  {
   "cell_type": "code",
   "execution_count": 3,
   "metadata": {},
   "outputs": [],
   "source": [
    "# # 在终端执行，确认后修改回滚信息\n",
    "# !git revert 5720fdf"
   ]
  },
  {
   "cell_type": "code",
   "execution_count": 5,
   "metadata": {},
   "outputs": [
    {
     "name": "stdout",
     "output_type": "stream",
     "text": [
      "* \u001b[33m944a69a\u001b[m\u001b[33m (\u001b[m\u001b[1;36mHEAD -> \u001b[m\u001b[1;32mlisa\u001b[m\u001b[33m)\u001b[m Revert \"Add cake\"\n",
      "*   \u001b[33mecbebe6\u001b[m\u001b[33m (\u001b[m\u001b[1;33mtag: mytag\u001b[m\u001b[33m)\u001b[m Merge branch 'lisa'\n",
      "\u001b[32m|\u001b[m\u001b[33m\\\u001b[m  \n",
      "\u001b[32m|\u001b[m * \u001b[33m007ffe9\u001b[m Add Lisa's version of the pie\n",
      "* \u001b[33m|\u001b[m \u001b[33me268621\u001b[m Add recipe\n",
      "\u001b[33m|\u001b[m\u001b[33m/\u001b[m  \n",
      "* \u001b[33m5720fdf\u001b[m Add cake\n",
      "* \u001b[33m11779f4\u001b[m First commit!\n"
     ]
    }
   ],
   "source": [
    "!git log --graph --decorate --oneline"
   ]
  },
  {
   "cell_type": "code",
   "execution_count": 6,
   "metadata": {},
   "outputs": [
    {
     "name": "stdout",
     "output_type": "stream",
     "text": [
      "\u001b[33mcommit 944a69af1221c8ca674322523ac107a8928b429b\u001b[m\u001b[33m (\u001b[m\u001b[1;36mHEAD -> \u001b[m\u001b[1;32mlisa\u001b[m\u001b[33m)\u001b[m\n",
      "Author: doer <499361328@qq.com>\n",
      "Date:   Sun Jun 16 18:48:50 2019 +0800\n",
      "\n",
      "    Revert \"Add cake\"\n",
      "    \n",
      "    This reverts commit 5720fdf166e827a0ced9277cd5ea4951aa33f51f.\n",
      "\n",
      "\u001b[1mdiff --git a/menu.txt b/menu.txt\u001b[m\n",
      "\u001b[1mindex f1fe985..2399189 100644\u001b[m\n",
      "\u001b[1m--- a/menu.txt\u001b[m\n",
      "\u001b[1m+++ b/menu.txt\u001b[m\n",
      "\u001b[36m@@ -1,2 +1 @@\u001b[m\n",
      " Apple Pie\u001b[m\n",
      "\u001b[31m-Cheesecake\u001b[m\n"
     ]
    }
   ],
   "source": [
    "!git show HEAD"
   ]
  },
  {
   "cell_type": "code",
   "execution_count": 7,
   "metadata": {},
   "outputs": [
    {
     "name": "stdout",
     "output_type": "stream",
     "text": [
      "On branch lisa\n",
      "nothing to commit, working tree clean\n"
     ]
    }
   ],
   "source": [
    "!git status"
   ]
  },
  {
   "cell_type": "code",
   "execution_count": 8,
   "metadata": {},
   "outputs": [
    {
     "name": "stdout",
     "output_type": "stream",
     "text": [
      "Switched to branch 'master'\n"
     ]
    }
   ],
   "source": [
    "!git checkout master"
   ]
  },
  {
   "cell_type": "code",
   "execution_count": null,
   "metadata": {},
   "outputs": [],
   "source": []
  }
 ],
 "metadata": {
  "kernelspec": {
   "display_name": "Python 3",
   "language": "python",
   "name": "python3"
  },
  "language_info": {
   "codemirror_mode": {
    "name": "ipython",
    "version": 3
   },
   "file_extension": ".py",
   "mimetype": "text/x-python",
   "name": "python",
   "nbconvert_exporter": "python",
   "pygments_lexer": "ipython3",
   "version": "3.7.3"
  }
 },
 "nbformat": 4,
 "nbformat_minor": 2
}
